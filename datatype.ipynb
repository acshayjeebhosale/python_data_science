{
  "nbformat": 4,
  "nbformat_minor": 0,
  "metadata": {
    "colab": {
      "provenance": [],
      "authorship_tag": "ABX9TyMNVhps6yzwmNbqmk4+HaBd",
      "include_colab_link": true
    },
    "kernelspec": {
      "name": "python3",
      "display_name": "Python 3"
    },
    "language_info": {
      "name": "python"
    }
  },
  "cells": [
    {
      "cell_type": "markdown",
      "metadata": {
        "id": "view-in-github",
        "colab_type": "text"
      },
      "source": [
        "<a href=\"https://colab.research.google.com/gist/singhsidhukuldeep/19a96f869fb86fd981d59e5e4e2ad69e/-beginner-data-types-20-april-2023-9pm.ipynb\" target=\"_parent\"><img src=\"https://colab.research.google.com/assets/colab-badge.svg\" alt=\"Open In Colab\"/></a>"
      ]
    },
    {
      "cell_type": "code",
      "execution_count": 1,
      "metadata": {
        "colab": {
          "base_uri": "https://localhost:8080/"
        },
        "id": "6QOHzOKsRqmB",
        "outputId": "55e3c20c-e57b-49c9-f58e-3bd71797172c"
      },
      "outputs": [
        {
          "output_type": "stream",
          "name": "stdout",
          "text": [
            "Welcome to Python\n"
          ]
        }
      ],
      "source": [
        "print('Welcome to Python')"
      ]
    },
    {
      "cell_type": "code",
      "source": [
        "# 👍 >> dark\n",
        "# 👎 >> light"
      ],
      "metadata": {
        "id": "ITs-lWRCUtCT"
      },
      "execution_count": 3,
      "outputs": []
    },
    {
      "cell_type": "code",
      "source": [
        "print(\"hey look I am printing something\")\n",
        "print('this will be on a single line')\n",
        "print('using shift+enter to run my code')"
      ],
      "metadata": {
        "colab": {
          "base_uri": "https://localhost:8080/"
        },
        "id": "AcQRdTD3VFF7",
        "outputId": "76d21e7a-d129-4252-dd0e-0fa08fb4a6ed"
      },
      "execution_count": 4,
      "outputs": [
        {
          "output_type": "stream",
          "name": "stdout",
          "text": [
            "hey look I am printing something\n",
            "this will be on a single line\n",
            "using shift+enter to run my code\n"
          ]
        }
      ]
    },
    {
      "cell_type": "code",
      "source": [
        "print('using shift+enter \n",
        "to run my code')"
      ],
      "metadata": {
        "colab": {
          "base_uri": "https://localhost:8080/",
          "height": 132
        },
        "id": "1Iojy1s8YfXN",
        "outputId": "b9dbbd3f-c35d-446e-d7ba-7e9c2e1e6c6c"
      },
      "execution_count": 11,
      "outputs": [
        {
          "output_type": "error",
          "ename": "SyntaxError",
          "evalue": "ignored",
          "traceback": [
            "\u001b[0;36m  File \u001b[0;32m\"<ipython-input-11-26e4f3bacca3>\"\u001b[0;36m, line \u001b[0;32m1\u001b[0m\n\u001b[0;31m    print('using shift+enter\u001b[0m\n\u001b[0m                             ^\u001b[0m\n\u001b[0;31mSyntaxError\u001b[0m\u001b[0;31m:\u001b[0m EOL while scanning string literal\n"
          ]
        }
      ]
    },
    {
      "cell_type": "code",
      "source": [
        "print('''using shift+enter \n",
        "to run my code''')"
      ],
      "metadata": {
        "colab": {
          "base_uri": "https://localhost:8080/"
        },
        "id": "TNBf-kXiYhsy",
        "outputId": "6db0d150-8987-4827-8f02-df1a96aae001"
      },
      "execution_count": 12,
      "outputs": [
        {
          "output_type": "stream",
          "name": "stdout",
          "text": [
            "using shift+enter \n",
            "to run my code\n"
          ]
        }
      ]
    },
    {
      "cell_type": "code",
      "source": [
        "print('''I \n",
        "wanted my output on multiple lines''')"
      ],
      "metadata": {
        "colab": {
          "base_uri": "https://localhost:8080/"
        },
        "id": "p-q1xHL_V8L8",
        "outputId": "ae62d1fb-a052-45ce-91e8-8ae45d3c3185"
      },
      "execution_count": 5,
      "outputs": [
        {
          "output_type": "stream",
          "name": "stdout",
          "text": [
            "I \n",
            "wanted my output on multiple lines\n"
          ]
        }
      ]
    },
    {
      "cell_type": "code",
      "source": [
        "print(\"\"\"Still I \n",
        "wanted my output on multiple lines\"\"\")"
      ],
      "metadata": {
        "colab": {
          "base_uri": "https://localhost:8080/"
        },
        "id": "UFyN3pKxWFCk",
        "outputId": "2bd1466c-92b6-4d1f-d74c-b93ddd53b4ff"
      },
      "execution_count": 6,
      "outputs": [
        {
          "output_type": "stream",
          "name": "stdout",
          "text": [
            "Still I \n",
            "wanted my output on multiple lines\n"
          ]
        }
      ]
    },
    {
      "cell_type": "code",
      "source": [
        "# print('what is this?\")\n",
        "# ❌ error>> quotes mis-match"
      ],
      "metadata": {
        "id": "nLZhFs67Wc6u"
      },
      "execution_count": null,
      "outputs": []
    },
    {
      "cell_type": "code",
      "source": [
        "print('hi')\n",
        "print(\"hi\")"
      ],
      "metadata": {
        "colab": {
          "base_uri": "https://localhost:8080/"
        },
        "id": "NOboyGiWWnGK",
        "outputId": "8f53027a-d8d9-498c-f19a-4c5fa871ed36"
      },
      "execution_count": 7,
      "outputs": [
        {
          "output_type": "stream",
          "name": "stdout",
          "text": [
            "hi\n",
            "hi\n"
          ]
        }
      ]
    },
    {
      "cell_type": "code",
      "source": [
        "# Print('hi')\n",
        "# ❌ error>> python is case sensitive>> p!=P\n",
        "# print✅\n",
        "# Print ❌"
      ],
      "metadata": {
        "id": "EWm713GcWqWi"
      },
      "execution_count": null,
      "outputs": []
    },
    {
      "cell_type": "code",
      "source": [
        "print(\"👉 python is platform independent\")"
      ],
      "metadata": {
        "colab": {
          "base_uri": "https://localhost:8080/"
        },
        "id": "JpzrszVdXBKe",
        "outputId": "bb1f9f14-7e38-4ed3-f1b3-a7c52b800603"
      },
      "execution_count": 8,
      "outputs": [
        {
          "output_type": "stream",
          "name": "stdout",
          "text": [
            "👉 python is platform independent\n"
          ]
        }
      ]
    },
    {
      "cell_type": "code",
      "source": [
        "# print{\"hi\"}\n",
        "# ❌ error>> python is precisely typed>> ()!=[]!={}\n",
        "# print()✅\n",
        "# print[]❌\n",
        "# print{}❌"
      ],
      "metadata": {
        "id": "XFRXgzdgXTd5"
      },
      "execution_count": 9,
      "outputs": []
    },
    {
      "cell_type": "code",
      "source": [
        "print('hi')\n",
        "print              ('hi') # try not doing this"
      ],
      "metadata": {
        "colab": {
          "base_uri": "https://localhost:8080/"
        },
        "id": "7J0v5m-EXgq8",
        "outputId": "3fa7cfd1-c142-45a7-8f23-d54848603119"
      },
      "execution_count": 10,
      "outputs": [
        {
          "output_type": "stream",
          "name": "stdout",
          "text": [
            "hi\n",
            "hi\n"
          ]
        }
      ]
    },
    {
      "cell_type": "code",
      "source": [
        "# how to comment code\n",
        "# select the lines of the code and press ctrl+/"
      ],
      "metadata": {
        "id": "xiCwUBKtYHYv"
      },
      "execution_count": null,
      "outputs": []
    },
    {
      "cell_type": "code",
      "source": [
        "# you can use ' OR \" interchangebly in python wherever you want\n",
        "# just remember to use the same for opening and closing\n",
        "\n",
        "# if you want your output on multiple lines, you should use either 1️⃣ \"\"\"--\"\"\" 2️⃣'''--'''"
      ],
      "metadata": {
        "id": "9dMKhSDFYkVQ"
      },
      "execution_count": null,
      "outputs": []
    },
    {
      "cell_type": "code",
      "source": [
        "### 🙂 RECAP ENDS HERE 🙂###"
      ],
      "metadata": {
        "id": "SnTcVO97ZKD0"
      },
      "execution_count": null,
      "outputs": []
    },
    {
      "cell_type": "code",
      "source": [
        "# Data types [primtive Data Structures]"
      ],
      "metadata": {
        "id": "2tcdzEDFZNTX"
      },
      "execution_count": null,
      "outputs": []
    },
    {
      "cell_type": "code",
      "source": [
        "print('1️⃣ str (string)')\n",
        "print(\"hi\")\n",
        "# anything inside '--' OR \"--\" OR \"\"\"---\"\"\"\" OR '''--'''\n",
        "print('this is a str')\n",
        "print('Koramangala, Bangalore, Karnataka, India')\n",
        "\n",
        "print('!@#$%^&*()_+=-\\][{}|')\n",
        "print(\"5\")\n",
        "print(\"7\")\n",
        "print(\"5\"+\"7\")\n",
        "print(\"Ronaldo\" + \"CR7\")\n",
        "print(\"\")\n",
        "print('a')"
      ],
      "metadata": {
        "colab": {
          "base_uri": "https://localhost:8080/"
        },
        "id": "S_CeNKUHaA8l",
        "outputId": "36d748ec-fcc9-450e-ad66-21d7cacd4f53"
      },
      "execution_count": 28,
      "outputs": [
        {
          "output_type": "stream",
          "name": "stdout",
          "text": [
            "1️⃣ str (string)\n",
            "hi\n",
            "this is a str\n",
            "Koramangala, Bangalore, Karnataka, India\n",
            "!@#$%^&*()_+=-\\][{}|\n",
            "5\n",
            "7\n",
            "57\n",
            "RonaldoCR7\n",
            "\n",
            "a\n"
          ]
        }
      ]
    },
    {
      "cell_type": "code",
      "source": [
        "print('2️⃣ int (integer)')\n",
        "print(5)\n",
        "print(10)\n",
        "print(0)\n",
        "print(-10)\n",
        "print(5+7)"
      ],
      "metadata": {
        "colab": {
          "base_uri": "https://localhost:8080/"
        },
        "id": "17yfUs2jagHZ",
        "outputId": "85e41484-dd70-4a5e-9217-721933d83a53"
      },
      "execution_count": 17,
      "outputs": [
        {
          "output_type": "stream",
          "name": "stdout",
          "text": [
            "2️⃣ int (integer)\n",
            "5\n",
            "10\n",
            "0\n",
            "-10\n",
            "12\n"
          ]
        }
      ]
    },
    {
      "cell_type": "code",
      "source": [
        "print(\"3️⃣ float (decimal)\")\n",
        "print(100000000.99)\n",
        "print(100000000.99+ 200000)\n",
        "print(2.0)\n",
        "print(0.0)"
      ],
      "metadata": {
        "colab": {
          "base_uri": "https://localhost:8080/"
        },
        "id": "cHKCpSFfb-lH",
        "outputId": "747252d8-6c5e-4106-acf3-a689dd86c931"
      },
      "execution_count": 22,
      "outputs": [
        {
          "output_type": "stream",
          "name": "stdout",
          "text": [
            "3️⃣ float (decimal)\n",
            "100000000.99\n",
            "100200000.99\n",
            "2.0\n",
            "0.0\n"
          ]
        }
      ]
    },
    {
      "cell_type": "code",
      "source": [
        "print(\"4️⃣ bool (boolean)\")\n",
        "print(True)\n",
        "print(False)\n",
        "print(\"👉 T in True is capital and F in False is capital\")"
      ],
      "metadata": {
        "colab": {
          "base_uri": "https://localhost:8080/"
        },
        "id": "KkNVTRG6cbff",
        "outputId": "ce536d08-caa7-45b7-ead6-03fb5d1a4802"
      },
      "execution_count": 24,
      "outputs": [
        {
          "output_type": "stream",
          "name": "stdout",
          "text": [
            "4️⃣ bool (boolean)\n",
            "True\n",
            "False\n",
            "👉 T in True is capital and F in False is capital\n"
          ]
        }
      ]
    },
    {
      "cell_type": "code",
      "source": [
        "print(\"5️⃣ None (nothing)\")\n",
        "print(None)\n",
        "print(\"👉 N in None is capital\")"
      ],
      "metadata": {
        "colab": {
          "base_uri": "https://localhost:8080/"
        },
        "id": "sMx-cJe0dXXA",
        "outputId": "95841f34-ccb6-4d44-b81f-4a2dd4267963"
      },
      "execution_count": 26,
      "outputs": [
        {
          "output_type": "stream",
          "name": "stdout",
          "text": [
            "5️⃣ None (nothing)\n",
            "None\n",
            "👉 N in None is capital\n"
          ]
        }
      ]
    },
    {
      "cell_type": "code",
      "source": [
        "## Questions\n",
        "print(50) # int\n",
        "print(\"55\") # str\n",
        "print('True') # str\n",
        "print(False) # bool\n",
        "print(-0.0) # float"
      ],
      "metadata": {
        "colab": {
          "base_uri": "https://localhost:8080/"
        },
        "id": "HWS98GecdqE2",
        "outputId": "47adf26b-cef5-4891-e850-b8a0680f1c27"
      },
      "execution_count": 29,
      "outputs": [
        {
          "output_type": "stream",
          "name": "stdout",
          "text": [
            "50\n",
            "55\n",
            "True\n",
            "False\n",
            "-0.0\n"
          ]
        }
      ]
    },
    {
      "cell_type": "code",
      "source": [
        "### 😎 EXPRESSIONS AND VARIABLES 😎 ###"
      ],
      "metadata": {
        "id": "mtN9e7ZAhGsR"
      },
      "execution_count": 30,
      "outputs": []
    },
    {
      "cell_type": "code",
      "source": [
        "x= 5\n",
        "print(x)"
      ],
      "metadata": {
        "colab": {
          "base_uri": "https://localhost:8080/"
        },
        "id": "w2BwjiFehNm-",
        "outputId": "06fc2153-7a6f-4c1d-be41-11f946ece0a8"
      },
      "execution_count": 32,
      "outputs": [
        {
          "output_type": "stream",
          "name": "stdout",
          "text": [
            "5\n"
          ]
        }
      ]
    },
    {
      "cell_type": "code",
      "source": [
        "y = 10\n",
        "print(y)"
      ],
      "metadata": {
        "colab": {
          "base_uri": "https://localhost:8080/"
        },
        "id": "7HIjF0dkhRp0",
        "outputId": "05d6db30-ef53-45de-b787-a23f326bcb51"
      },
      "execution_count": 34,
      "outputs": [
        {
          "output_type": "stream",
          "name": "stdout",
          "text": [
            "10\n"
          ]
        }
      ]
    },
    {
      "cell_type": "code",
      "source": [
        "a=x+y\n",
        "print(a)"
      ],
      "metadata": {
        "colab": {
          "base_uri": "https://localhost:8080/"
        },
        "id": "QMCe2o0rhfR8",
        "outputId": "134bde8c-9106-458f-f082-3aa3b00afaff"
      },
      "execution_count": 35,
      "outputs": [
        {
          "output_type": "stream",
          "name": "stdout",
          "text": [
            "15\n"
          ]
        }
      ]
    },
    {
      "cell_type": "code",
      "source": [
        "# few rules to name your varaiable\n",
        "# 👉 your varaible name cannot have space\n",
        "# 👉 your varaiable name cannot start with a number\n",
        "# 👉 your varaiable name cannot be a python keyword\n",
        "# 👉👉👉 _, a-z, A-Z, 0-9\n",
        "# 👉 DO NOT CREATE VARIABLE NAMES OF SOMETHING IN-BUILT EG  print, input, type"
      ],
      "metadata": {
        "id": "Me72wCr2hnxM"
      },
      "execution_count": null,
      "outputs": []
    },
    {
      "cell_type": "code",
      "source": [
        "# 👉 your varaiable name cannot start with a number but can have a number in between OR end\n",
        "x2y = 100\n",
        "print(x2y)\n",
        "x2y1 = 100123\n",
        "print(x2y1)"
      ],
      "metadata": {
        "colab": {
          "base_uri": "https://localhost:8080/"
        },
        "id": "zEkfiSt3iDAV",
        "outputId": "556aac4c-a568-46b4-ff3c-31c0d3354de8"
      },
      "execution_count": 39,
      "outputs": [
        {
          "output_type": "stream",
          "name": "stdout",
          "text": [
            "100\n",
            "100123\n"
          ]
        }
      ]
    },
    {
      "cell_type": "code",
      "source": [
        "# 👉 your varaiable name cannot start with a number\n",
        "# 1x2y = 100\n",
        "# print(1x2y)\n",
        "# 1xy = 100\n",
        "# print(1xy)"
      ],
      "metadata": {
        "id": "kQ2d2639iFK9"
      },
      "execution_count": 38,
      "outputs": []
    },
    {
      "cell_type": "code",
      "source": [
        "# python keywords\n",
        "help('keywords')"
      ],
      "metadata": {
        "colab": {
          "base_uri": "https://localhost:8080/"
        },
        "id": "COIrMfzUiNqc",
        "outputId": "2e384ae5-7b9a-473f-87f0-72eb8404d60b"
      },
      "execution_count": 40,
      "outputs": [
        {
          "output_type": "stream",
          "name": "stdout",
          "text": [
            "\n",
            "Here is a list of the Python keywords.  Enter any keyword to get more help.\n",
            "\n",
            "False               break               for                 not\n",
            "None                class               from                or\n",
            "True                continue            global              pass\n",
            "__peg_parser__      def                 if                  raise\n",
            "and                 del                 import              return\n",
            "as                  elif                in                  try\n",
            "assert              else                is                  while\n",
            "async               except              lambda              with\n",
            "await               finally             nonlocal            yield\n",
            "\n"
          ]
        }
      ]
    },
    {
      "cell_type": "code",
      "source": [
        "age = 38\n",
        "nameOfBestPlayer = \"Cristiano Ronaldo\"\n",
        "height = 1.89\n",
        "isHeBetterThanMessi = True\n",
        "print(age)\n",
        "print(nameOfBestPlayer)\n",
        "print(height)\n",
        "print(isHeBetterThanMessi)"
      ],
      "metadata": {
        "colab": {
          "base_uri": "https://localhost:8080/"
        },
        "id": "aEpK6fSYimb0",
        "outputId": "ef7fc6f6-27e6-4d2b-9c25-5607fceee7ce"
      },
      "execution_count": 43,
      "outputs": [
        {
          "output_type": "stream",
          "name": "stdout",
          "text": [
            "38\n",
            "Cristiano Ronaldo\n",
            "1.89\n",
            "True\n"
          ]
        }
      ]
    },
    {
      "cell_type": "code",
      "source": [
        "print(type(38))\n",
        "print(type(age))"
      ],
      "metadata": {
        "colab": {
          "base_uri": "https://localhost:8080/"
        },
        "id": "GH6IMs3ilyZT",
        "outputId": "b7bddfc9-5e71-4f01-c325-05587137938e"
      },
      "execution_count": 47,
      "outputs": [
        {
          "output_type": "stream",
          "name": "stdout",
          "text": [
            "<class 'int'>\n",
            "<class 'int'>\n"
          ]
        }
      ]
    },
    {
      "cell_type": "code",
      "source": [
        "print(38, \"Cristiano Ronaldo\", 1.89, True)\n",
        "print(age, nameOfBestPlayer, height, isHeBetterThanMessi)\n",
        "print(type(age), type(nameOfBestPlayer), type(height), type(isHeBetterThanMessi))"
      ],
      "metadata": {
        "colab": {
          "base_uri": "https://localhost:8080/"
        },
        "id": "HOMRwHLFlLSA",
        "outputId": "e4433077-c1ce-4683-edf6-5a7c87433e9c"
      },
      "execution_count": 48,
      "outputs": [
        {
          "output_type": "stream",
          "name": "stdout",
          "text": [
            "38 Cristiano Ronaldo 1.89 True\n",
            "38 Cristiano Ronaldo 1.89 True\n",
            "<class 'int'> <class 'str'> <class 'float'> <class 'bool'>\n"
          ]
        }
      ]
    },
    {
      "cell_type": "code",
      "source": [
        "nothing = None\n",
        "print(nothing)"
      ],
      "metadata": {
        "colab": {
          "base_uri": "https://localhost:8080/"
        },
        "id": "p_MDaZc_k4aE",
        "outputId": "750c1266-1949-4a63-94c3-ced42d7afea0"
      },
      "execution_count": 42,
      "outputs": [
        {
          "output_type": "stream",
          "name": "stdout",
          "text": [
            "None\n"
          ]
        }
      ]
    },
    {
      "cell_type": "code",
      "source": [
        "_____Vaishakh_like_underscores = \"_\"\n",
        "print(_____Vaishakh_like_underscores)"
      ],
      "metadata": {
        "colab": {
          "base_uri": "https://localhost:8080/"
        },
        "id": "p6JF0-jJlDDr",
        "outputId": "5fd6ca50-ec18-4f1b-ce4d-0c0baf93bc7e"
      },
      "execution_count": 45,
      "outputs": [
        {
          "output_type": "stream",
          "name": "stdout",
          "text": [
            "_\n"
          ]
        }
      ]
    },
    {
      "cell_type": "code",
      "source": [
        "# always give multiple things seperated by ,\n",
        "print(38, \"Cristiano Ronaldo\", 1.89, True) "
      ],
      "metadata": {
        "colab": {
          "base_uri": "https://localhost:8080/"
        },
        "id": "95RVwvlsmZr7",
        "outputId": "e2e63034-9a42-4867-c1d5-2d56aa2aff19"
      },
      "execution_count": 51,
      "outputs": [
        {
          "output_type": "stream",
          "name": "stdout",
          "text": [
            "38 Cristiano Ronaldo 1.89 True\n"
          ]
        }
      ]
    },
    {
      "cell_type": "code",
      "source": [
        "print(38, \"Cristiano Ronaldo\", 1.89, True, sep=\" - - \") "
      ],
      "metadata": {
        "colab": {
          "base_uri": "https://localhost:8080/"
        },
        "id": "gkXDV4M7mqQv",
        "outputId": "e5685a8c-51fe-4c41-80bf-17150113c9d1"
      },
      "execution_count": 52,
      "outputs": [
        {
          "output_type": "stream",
          "name": "stdout",
          "text": [
            "38 - - Cristiano Ronaldo - - 1.89 - - True\n"
          ]
        }
      ]
    },
    {
      "cell_type": "code",
      "source": [
        "print(38, \"Cristiano Ronaldo\", 1.89, True, sep=\"\") "
      ],
      "metadata": {
        "colab": {
          "base_uri": "https://localhost:8080/"
        },
        "id": "EMh55n83myoY",
        "outputId": "be4fe284-da52-46c5-9b44-96b8de2a50e0"
      },
      "execution_count": 53,
      "outputs": [
        {
          "output_type": "stream",
          "name": "stdout",
          "text": [
            "38Cristiano Ronaldo1.89True\n"
          ]
        }
      ]
    },
    {
      "cell_type": "code",
      "source": [
        "print('In python anything that take input inside () at the end is a function')\n",
        "print('print is a function')\n",
        "print('type is a function')"
      ],
      "metadata": {
        "colab": {
          "base_uri": "https://localhost:8080/"
        },
        "id": "RMMm9L8cmzb7",
        "outputId": "504da050-5ca7-483e-9f16-c43bdad37010"
      },
      "execution_count": 54,
      "outputs": [
        {
          "output_type": "stream",
          "name": "stdout",
          "text": [
            "In python anything that take input inside () at the end is a function\n",
            "print is a function\n",
            "type is a function\n"
          ]
        }
      ]
    },
    {
      "cell_type": "code",
      "source": [
        "# \"\\n\"\n",
        "print(38, \"Cristiano Ronaldo\", 1.89, True, sep=\"\\n\") "
      ],
      "metadata": {
        "colab": {
          "base_uri": "https://localhost:8080/"
        },
        "id": "nPO2-PGunR6T",
        "outputId": "82de61a1-d57b-45bb-f4c6-8cc1497dc20f"
      },
      "execution_count": 55,
      "outputs": [
        {
          "output_type": "stream",
          "name": "stdout",
          "text": [
            "38\n",
            "Cristiano Ronaldo\n",
            "1.89\n",
            "True\n"
          ]
        }
      ]
    },
    {
      "cell_type": "code",
      "source": [
        "print(38, \"CR\", 1.89, True, end=\"this is the end \\n\") \n",
        "print(38, \"CR\", 1.89, True, sep = \"===\", end=\"<><><>\") \n",
        "print(38, \"CR\", 1.89, True, sep=\" - - \") \n",
        "\n",
        "# give sep to tell what the seperation will be for the print output of \n",
        "# multiple values given to a single print funtion\n",
        "\n",
        "# end will tell, what will happen after printing all the inputs\n",
        "\n",
        "# 👿 print(1,2,3,sep, end) \n",
        "# 1sep2sep3end"
      ],
      "metadata": {
        "colab": {
          "base_uri": "https://localhost:8080/"
        },
        "id": "h6H2TrlBqT64",
        "outputId": "63db840d-2ddc-4877-d9bc-0333981356d9"
      },
      "execution_count": 60,
      "outputs": [
        {
          "output_type": "stream",
          "name": "stdout",
          "text": [
            "38 CR 1.89 Truethis is the end \n",
            "38===CR===1.89===True<><><>38 - - CR - - 1.89 - - True\n"
          ]
        }
      ]
    },
    {
      "cell_type": "code",
      "source": [
        "# 🥱 get input from the user\n",
        "# to get input from the user we will be using the 👉 input function\n",
        "inputFromTheUserIs = input()"
      ],
      "metadata": {
        "colab": {
          "base_uri": "https://localhost:8080/"
        },
        "id": "J5tnS_8yqW_S",
        "outputId": "3f061e64-9508-41bf-d785-37b8c722e428"
      },
      "execution_count": 63,
      "outputs": [
        {
          "name": "stdout",
          "output_type": "stream",
          "text": [
            "What did you expect me to say here?\n"
          ]
        }
      ]
    },
    {
      "cell_type": "code",
      "source": [
        "print(inputFromTheUserIs)"
      ],
      "metadata": {
        "colab": {
          "base_uri": "https://localhost:8080/"
        },
        "id": "4t62X3LAsGUT",
        "outputId": "b0b24a80-4a0e-4cdc-f925-a727105d02f0"
      },
      "execution_count": 64,
      "outputs": [
        {
          "output_type": "stream",
          "name": "stdout",
          "text": [
            "What did you expect me to say here?\n"
          ]
        }
      ]
    },
    {
      "cell_type": "code",
      "source": [
        "age = input(\"What is your age: \")\n",
        "print(\"The users age is\", age)"
      ],
      "metadata": {
        "colab": {
          "base_uri": "https://localhost:8080/"
        },
        "id": "eJAdaCavsHB6",
        "outputId": "8a7fcdd3-8bbf-408d-856f-c8ed255a7feb"
      },
      "execution_count": 65,
      "outputs": [
        {
          "output_type": "stream",
          "name": "stdout",
          "text": [
            "What is your age: 26\n",
            "The users age is 26\n"
          ]
        }
      ]
    },
    {
      "cell_type": "code",
      "source": [
        "# it's not stored as 26, it is stored as \"26\"\n",
        "print(type(age))\n",
        "# print(age+1) # it is my birthday🥳 today, how old am i?\n",
        "nextAge = int(age) + 1\n",
        "print(nextAge)"
      ],
      "metadata": {
        "colab": {
          "base_uri": "https://localhost:8080/"
        },
        "id": "i8xQfBVSssAo",
        "outputId": "9a2cfae1-d1c9-4a2c-dbd2-fbc74bdd5ab7"
      },
      "execution_count": 68,
      "outputs": [
        {
          "output_type": "stream",
          "name": "stdout",
          "text": [
            "<class 'str'>\n",
            "27\n"
          ]
        }
      ]
    },
    {
      "cell_type": "code",
      "source": [
        "# 👉👉👉 input function stores everything as a str, always"
      ],
      "metadata": {
        "id": "Xx3oM1m5sgsx"
      },
      "execution_count": null,
      "outputs": []
    },
    {
      "cell_type": "code",
      "source": [
        "#### Q1: Ask the user for their weight in kg, print their weight in grams\n",
        "# eg if they enter 80, print 80000\n",
        "\n",
        "wt_kg = input(\"What is your weight in kg: \")\n",
        "print(wt_kg, type(wt_kg))\n",
        "wt_kg = int(wt_kg)\n",
        "print(wt_kg, type(wt_kg))\n",
        "print('Your weight in grams is', wt_kg*1000)"
      ],
      "metadata": {
        "colab": {
          "base_uri": "https://localhost:8080/"
        },
        "id": "DAI5GZCot7eu",
        "outputId": "23b6fb95-47d0-45c6-d72b-3b3a726be7bc"
      },
      "execution_count": 69,
      "outputs": [
        {
          "output_type": "stream",
          "name": "stdout",
          "text": [
            "What is your weight in kg: 80\n",
            "80 <class 'str'>\n",
            "80 <class 'int'>\n",
            "Your weight in grams is 80000\n"
          ]
        }
      ]
    },
    {
      "cell_type": "code",
      "source": [
        "wt_kg = input(\"What is your weight in kg: \")\n",
        "print(wt_kg, type(wt_kg))\n",
        "wt_kg = float(wt_kg)\n",
        "print(wt_kg, type(wt_kg))\n",
        "print('Your weight in grams is', wt_kg*1000)"
      ],
      "metadata": {
        "colab": {
          "base_uri": "https://localhost:8080/"
        },
        "id": "I_nW9VNywD8l",
        "outputId": "6a719ac1-00ae-4ff8-a2dc-184989132ba8"
      },
      "execution_count": 71,
      "outputs": [
        {
          "output_type": "stream",
          "name": "stdout",
          "text": [
            "What is your weight in kg: 80\n",
            "80 <class 'str'>\n",
            "80.0 <class 'float'>\n",
            "Your weight in grams is 80000.0\n"
          ]
        }
      ]
    },
    {
      "cell_type": "code",
      "source": [
        "wt_kg = int(input(\"What is your weight in kg: \"))\n",
        "print('Your weight in grams is', wt_kg*1000)"
      ],
      "metadata": {
        "colab": {
          "base_uri": "https://localhost:8080/"
        },
        "id": "FXfbbWH5wc44",
        "outputId": "be8a1de5-2b47-4fd6-dd64-eaabe5a44b36"
      },
      "execution_count": 72,
      "outputs": [
        {
          "output_type": "stream",
          "name": "stdout",
          "text": [
            "What is your weight in kg: 80\n",
            "Your weight in grams is 80000\n"
          ]
        }
      ]
    },
    {
      "cell_type": "code",
      "source": [
        "# ask the user for 2 integer numbers\n",
        "# give me the average of the 2 numbers entered\n",
        "\n",
        "first = int(input('Enter the first integer: '))\n",
        "second = int(input('Enter the second integer: '))\n",
        "\n",
        "print(first,second)\n",
        "\n",
        "total = first+second\n",
        "\n",
        "print(total)\n",
        "\n",
        "print('The average is:', total/2)\n",
        "print('The average as an int is:', int(total/2))"
      ],
      "metadata": {
        "colab": {
          "base_uri": "https://localhost:8080/"
        },
        "id": "qmGcvTX7wvML",
        "outputId": "f4351e0c-f662-4c6b-8d0b-495071b05ee6"
      },
      "execution_count": 74,
      "outputs": [
        {
          "output_type": "stream",
          "name": "stdout",
          "text": [
            "Enter the first integer: 4\n",
            "Enter the second integer: 6\n",
            "4 6\n",
            "10\n",
            "The average is: 5.0\n",
            "The average as an int is: 5\n"
          ]
        }
      ]
    },
    {
      "cell_type": "code",
      "source": [
        "# division in python always gives float\n",
        "# + > gives float if atleast one of them is a float eg 2+1(int), 2.5+1(float), 2.9+1.1(float)\n",
        "# same for * and -"
      ],
      "metadata": {
        "id": "yvvTfwMZy_C2"
      },
      "execution_count": null,
      "outputs": []
    }
  ]
}