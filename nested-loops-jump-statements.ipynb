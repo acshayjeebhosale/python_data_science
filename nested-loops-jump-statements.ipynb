{
  "nbformat": 4,
  "nbformat_minor": 0,
  "metadata": {
    "colab": {
      "provenance": [],
      "authorship_tag": "ABX9TyOkg802crBFx7CYEi6EAsUR",
      "include_colab_link": true
    },
    "kernelspec": {
      "name": "python3",
      "display_name": "Python 3"
    },
    "language_info": {
      "name": "python"
    }
  },
  "cells": [
    {
      "cell_type": "markdown",
      "metadata": {
        "id": "view-in-github",
        "colab_type": "text"
      },
      "source": [
        "<a href=\"https://colab.research.google.com/gist/singhsidhukuldeep/304380ee28ef1c10de32d6093bd4c0c9/nested-loops-jump-statements-saturday-may-13-2023.ipynb\" target=\"_parent\"><img src=\"https://colab.research.google.com/assets/colab-badge.svg\" alt=\"Open In Colab\"/></a>"
      ]
    },
    {
      "cell_type": "code",
      "execution_count": null,
      "metadata": {
        "id": "Yo8QrSUkuv7N"
      },
      "outputs": [],
      "source": [
        "def solution(A,B):\n",
        "    ans = A+B\n",
        "    return ans"
      ]
    },
    {
      "cell_type": "code",
      "source": [
        "# loops\n",
        "    # while\n",
        "    # for "
      ],
      "metadata": {
        "id": "ld5-GkT5yfqO"
      },
      "execution_count": null,
      "outputs": []
    },
    {
      "cell_type": "code",
      "source": [
        "choice='y'\n",
        "while choice=='y':\n",
        "    print('Bought MILK')\n",
        "    choice = input(\"do you want to buy milk (was the quality fine): \")"
      ],
      "metadata": {
        "colab": {
          "base_uri": "https://localhost:8080/"
        },
        "id": "Jdgr-0xy048f",
        "outputId": "40ef7790-6dac-4cc4-b60b-5373865b01ce"
      },
      "execution_count": 1,
      "outputs": [
        {
          "name": "stdout",
          "output_type": "stream",
          "text": [
            "Bought MILK\n",
            "do you want to buy milk (was the quality fine): y\n",
            "Bought MILK\n",
            "do you want to buy milk (was the quality fine): y\n",
            "Bought MILK\n",
            "do you want to buy milk (was the quality fine): n\n"
          ]
        }
      ]
    },
    {
      "cell_type": "code",
      "source": [
        "## jump statements\n",
        "# pass\n",
        "# continue\n",
        "# break\n",
        "\n",
        "# Thses are not function as we do not see any ()\n",
        "# all 3 are keywords"
      ],
      "metadata": {
        "id": "uAkDN1yu1dPc"
      },
      "execution_count": null,
      "outputs": []
    },
    {
      "cell_type": "code",
      "source": [
        "help('keywords')"
      ],
      "metadata": {
        "colab": {
          "base_uri": "https://localhost:8080/"
        },
        "id": "foq7veoJ2Qob",
        "outputId": "cf8cb3b6-1465-452b-9980-0a2d0941a731"
      },
      "execution_count": 2,
      "outputs": [
        {
          "output_type": "stream",
          "name": "stdout",
          "text": [
            "\n",
            "Here is a list of the Python keywords.  Enter any keyword to get more help.\n",
            "\n",
            "False               class               from                or\n",
            "None                continue            global              pass\n",
            "True                def                 if                  raise\n",
            "and                 del                 import              return\n",
            "as                  elif                in                  try\n",
            "assert              else                is                  while\n",
            "async               except              lambda              with\n",
            "await               finally             nonlocal            yield\n",
            "break               for                 not                 \n",
            "\n"
          ]
        }
      ]
    },
    {
      "cell_type": "code",
      "source": [
        "for i in range(5):\n",
        "    if i%2==0:\n",
        "        pass # pass does absolutely NOTHING\n",
        "    print('Running loop for ', i)"
      ],
      "metadata": {
        "colab": {
          "base_uri": "https://localhost:8080/"
        },
        "id": "9IYQtOG92TLS",
        "outputId": "2e7c2d47-d4d8-452d-e74a-a11f609b8f3f"
      },
      "execution_count": 3,
      "outputs": [
        {
          "output_type": "stream",
          "name": "stdout",
          "text": [
            "Running loop for  0\n",
            "Running loop for  1\n",
            "Running loop for  2\n",
            "Running loop for  3\n",
            "Running loop for  4\n"
          ]
        }
      ]
    },
    {
      "cell_type": "code",
      "source": [
        "print('🏃‍♂️💨')\n",
        "for i in range(5):\n",
        "    pass\n",
        "print('👟')"
      ],
      "metadata": {
        "colab": {
          "base_uri": "https://localhost:8080/"
        },
        "id": "UM7boIim3d8Q",
        "outputId": "0efad401-4b55-4bad-c56c-21e733f9fa3f"
      },
      "execution_count": 7,
      "outputs": [
        {
          "output_type": "stream",
          "name": "stdout",
          "text": [
            "🏃‍♂️💨\n",
            "👟\n"
          ]
        }
      ]
    },
    {
      "cell_type": "code",
      "source": [
        "for i in range(5):\n",
        "    if i%2==0:\n",
        "        # this is a comment, and sadly python ignores comments, so expect ERROR\n",
        "    print('Running loop for ', i)"
      ],
      "metadata": {
        "colab": {
          "base_uri": "https://localhost:8080/",
          "height": 132
        },
        "id": "xlZ7okzn3Esu",
        "outputId": "32bd84db-0f26-4e3a-8b59-2e2971136510"
      },
      "execution_count": 5,
      "outputs": [
        {
          "output_type": "error",
          "ename": "IndentationError",
          "evalue": "ignored",
          "traceback": [
            "\u001b[0;36m  File \u001b[0;32m\"<ipython-input-5-50c65c6cba2d>\"\u001b[0;36m, line \u001b[0;32m4\u001b[0m\n\u001b[0;31m    print('Running loop for ', i)\u001b[0m\n\u001b[0m    ^\u001b[0m\n\u001b[0;31mIndentationError\u001b[0m\u001b[0;31m:\u001b[0m expected an indented block after 'if' statement on line 2\n"
          ]
        }
      ]
    },
    {
      "cell_type": "code",
      "source": [
        "print('🏃‍♂️💨')\n",
        "\n",
        "pass\n",
        "\n",
        "print('👟')"
      ],
      "metadata": {
        "colab": {
          "base_uri": "https://localhost:8080/"
        },
        "id": "d6vyfa5b3Rmq",
        "outputId": "a1eae2cb-1bf2-44d7-80a2-685a35a8d8b2"
      },
      "execution_count": 8,
      "outputs": [
        {
          "output_type": "stream",
          "name": "stdout",
          "text": [
            "🏃‍♂️💨\n",
            "👟\n"
          ]
        }
      ]
    },
    {
      "cell_type": "code",
      "source": [
        "for i in range(5):\n",
        "    print('start loop for ', i)\n",
        "    if i%2==0:\n",
        "        continue # skip only this iteration, directly go to the next one\n",
        "    print('end loop for ', i)"
      ],
      "metadata": {
        "colab": {
          "base_uri": "https://localhost:8080/"
        },
        "id": "lyKMe2zb39qu",
        "outputId": "4deb7546-e90f-4ed0-8383-c0aa399bfe34"
      },
      "execution_count": 9,
      "outputs": [
        {
          "output_type": "stream",
          "name": "stdout",
          "text": [
            "start loop for  0\n",
            "start loop for  1\n",
            "end loop for  1\n",
            "start loop for  2\n",
            "start loop for  3\n",
            "end loop for  3\n",
            "start loop for  4\n"
          ]
        }
      ]
    },
    {
      "cell_type": "code",
      "source": [
        "continue"
      ],
      "metadata": {
        "colab": {
          "base_uri": "https://localhost:8080/",
          "height": 132
        },
        "id": "PLo1Tbe74TDy",
        "outputId": "2dd00613-a30f-4688-f693-4311d8b8ebc7"
      },
      "execution_count": 10,
      "outputs": [
        {
          "output_type": "error",
          "ename": "SyntaxError",
          "evalue": "ignored",
          "traceback": [
            "\u001b[0;36m  File \u001b[0;32m\"<ipython-input-10-6ca52a340915>\"\u001b[0;36m, line \u001b[0;32m1\u001b[0m\n\u001b[0;31m    continue\u001b[0m\n\u001b[0m    ^\u001b[0m\n\u001b[0;31mSyntaxError\u001b[0m\u001b[0;31m:\u001b[0m 'continue' not properly in loop\n"
          ]
        }
      ]
    },
    {
      "cell_type": "code",
      "source": [
        "for i in range(1,5):\n",
        "    if i%2==0:\n",
        "        break # stop this iteration and don't do any iteration after this\n",
        "    print('Running loop for ', i)"
      ],
      "metadata": {
        "colab": {
          "base_uri": "https://localhost:8080/"
        },
        "id": "5RSf0ANG4TXD",
        "outputId": "539dae58-4d13-4cf6-bedd-0d32edaa47ce"
      },
      "execution_count": 11,
      "outputs": [
        {
          "output_type": "stream",
          "name": "stdout",
          "text": [
            "Running loop for  1\n"
          ]
        }
      ]
    },
    {
      "cell_type": "code",
      "source": [
        "break"
      ],
      "metadata": {
        "colab": {
          "base_uri": "https://localhost:8080/",
          "height": 132
        },
        "id": "23XYPUuw4mk9",
        "outputId": "7f7ff6ff-d4c0-474c-ba72-00cae4b6036c"
      },
      "execution_count": 12,
      "outputs": [
        {
          "output_type": "error",
          "ename": "SyntaxError",
          "evalue": "ignored",
          "traceback": [
            "\u001b[0;36m  File \u001b[0;32m\"<ipython-input-12-6aaf1f276005>\"\u001b[0;36m, line \u001b[0;32m1\u001b[0m\n\u001b[0;31m    break\u001b[0m\n\u001b[0m    ^\u001b[0m\n\u001b[0;31mSyntaxError\u001b[0m\u001b[0;31m:\u001b[0m 'break' outside loop\n"
          ]
        }
      ]
    },
    {
      "cell_type": "code",
      "source": [
        "'''\n",
        "Question 1 - \n",
        "Write a loop to excatly print the following numbers -> 1,4,7,10,13,16\n",
        "'''\n",
        "print('1,4,7,10,13,16')"
      ],
      "metadata": {
        "colab": {
          "base_uri": "https://localhost:8080/"
        },
        "id": "2Duc626Y5mOR",
        "outputId": "5dc6b8dc-e136-4262-da44-f4491e52c7bd"
      },
      "execution_count": 13,
      "outputs": [
        {
          "output_type": "stream",
          "name": "stdout",
          "text": [
            "1,4,7,10,13,16\n"
          ]
        }
      ]
    },
    {
      "cell_type": "code",
      "source": [
        "for i in range(1,17,3):\n",
        "    print(i, end=\",\")"
      ],
      "metadata": {
        "colab": {
          "base_uri": "https://localhost:8080/"
        },
        "id": "_iJSp1-k67OE",
        "outputId": "9883c934-98a7-40ef-c366-508b788c71f3"
      },
      "execution_count": 16,
      "outputs": [
        {
          "output_type": "stream",
          "name": "stdout",
          "text": [
            "1,4,7,10,13,16,"
          ]
        }
      ]
    },
    {
      "cell_type": "code",
      "source": [
        "for i in range(1,17,3):\n",
        "    if i!=16:\n",
        "        print(i, end=\",\")\n",
        "    else:\n",
        "        print(i, end=\"\")"
      ],
      "metadata": {
        "colab": {
          "base_uri": "https://localhost:8080/"
        },
        "id": "vBg-RFrd7DnE",
        "outputId": "3d3cc01f-3284-45c6-ed92-8cf9876c34d1"
      },
      "execution_count": 17,
      "outputs": [
        {
          "output_type": "stream",
          "name": "stdout",
          "text": [
            "1,4,7,10,13,16"
          ]
        }
      ]
    },
    {
      "cell_type": "code",
      "source": [
        "'''\n",
        "Question 2 - \n",
        "Write a loop to print the following numbers - \n",
        "1,1,3,7,13,21,31,43 (formatting doesnot matter)\n",
        "'''\n",
        "'''\n",
        "HINT:\n",
        "0,2,4,6,8,10,12 [Differences]\n",
        "'''"
      ],
      "metadata": {
        "id": "WHCU2-f07Qlj"
      },
      "execution_count": null,
      "outputs": []
    },
    {
      "cell_type": "code",
      "source": [
        "number = 1\n",
        "i = 0\n",
        "\n",
        "while number<=43:\n",
        "    print(number)\n",
        "    number = number+i*2\n",
        "    i+=1"
      ],
      "metadata": {
        "colab": {
          "base_uri": "https://localhost:8080/"
        },
        "id": "JdrafKJr8Pee",
        "outputId": "b77a28ef-d28c-4e17-85a3-cb81a35c4cbc"
      },
      "execution_count": 19,
      "outputs": [
        {
          "output_type": "stream",
          "name": "stdout",
          "text": [
            "1\n",
            "1\n",
            "3\n",
            "7\n",
            "13\n",
            "21\n",
            "31\n",
            "43\n"
          ]
        }
      ]
    },
    {
      "cell_type": "code",
      "source": [
        "number = 1\n",
        "\n",
        "for i in range(0,100,2):\n",
        "    print(number)\n",
        "    number = number+i\n",
        "    if number>43:\n",
        "        break"
      ],
      "metadata": {
        "colab": {
          "base_uri": "https://localhost:8080/"
        },
        "id": "su3J_tKX9wg3",
        "outputId": "6a60743f-bd3e-4b33-d106-5c90adfb8bce"
      },
      "execution_count": 22,
      "outputs": [
        {
          "output_type": "stream",
          "name": "stdout",
          "text": [
            "1\n",
            "1\n",
            "3\n",
            "7\n",
            "13\n",
            "21\n",
            "31\n",
            "43\n"
          ]
        }
      ]
    },
    {
      "cell_type": "code",
      "source": [
        "number = 1\n",
        "\n",
        "for i in range(0,13,2):\n",
        "    print(number)\n",
        "    number = number+i\n",
        "print(number)"
      ],
      "metadata": {
        "colab": {
          "base_uri": "https://localhost:8080/"
        },
        "id": "G4fCq9qf9Snp",
        "outputId": "ace7f503-05ea-4a69-f931-eebc21093980"
      },
      "execution_count": 21,
      "outputs": [
        {
          "output_type": "stream",
          "name": "stdout",
          "text": [
            "1\n",
            "1\n",
            "3\n",
            "7\n",
            "13\n",
            "21\n",
            "31\n",
            "43\n"
          ]
        }
      ]
    },
    {
      "cell_type": "code",
      "source": [
        "'''\n",
        "Question 3 -\n",
        "Write a program that continuously asks the user to provide an input number.\n",
        "The program should stop only when the user provides 5.\n",
        "Once the user provides 5. \n",
        "The program should print the number of times an input was provided.\n",
        "Assume that user always provides a number!\n",
        "'''"
      ],
      "metadata": {
        "id": "hCOsImjd-AAk"
      },
      "execution_count": null,
      "outputs": []
    },
    {
      "cell_type": "code",
      "source": [
        "userEnterd = 0\n",
        "count = 0\n",
        "while userEnterd!=5:\n",
        "    count+=1\n",
        "    userEnterd = int(input('Enter an integer: '))\n",
        "print('this loop ran for : ', count)"
      ],
      "metadata": {
        "colab": {
          "base_uri": "https://localhost:8080/"
        },
        "id": "4ESAYLFrAevq",
        "outputId": "b9924d4e-5343-47b5-e904-abb054465f91"
      },
      "execution_count": 25,
      "outputs": [
        {
          "output_type": "stream",
          "name": "stdout",
          "text": [
            "Enter an integer: 1\n",
            "Enter an integer: 4\n",
            "Enter an integer: 6\n",
            "Enter an integer: 3\n",
            "Enter an integer: 7\n",
            "Enter an integer: 8\n",
            "Enter an integer: 9\n",
            "Enter an integer: 22\n",
            "Enter an integer: 100\n",
            "Enter an integer: 4\n",
            "Enter an integer: 7\n",
            "Enter an integer: 8\n",
            "Enter an integer: 6\n",
            "Enter an integer: 5\n",
            "this loop ran for :  14\n"
          ]
        }
      ]
    },
    {
      "cell_type": "code",
      "source": [
        "for i in range(3):\n",
        "    print(\"Do something\", i)"
      ],
      "metadata": {
        "colab": {
          "base_uri": "https://localhost:8080/"
        },
        "id": "bfEG3SG7EwIn",
        "outputId": "8b2c1cb0-bdf0-4732-a4b1-76d2205b0c67"
      },
      "execution_count": 27,
      "outputs": [
        {
          "output_type": "stream",
          "name": "stdout",
          "text": [
            "Do something 0\n",
            "Do something 1\n",
            "Do something 2\n"
          ]
        }
      ]
    },
    {
      "cell_type": "code",
      "source": [
        "for i in range(3):\n",
        "    for j in range(4):\n",
        "        print(i,j)"
      ],
      "metadata": {
        "colab": {
          "base_uri": "https://localhost:8080/"
        },
        "id": "Q6aLpn_hBAB9",
        "outputId": "a2d83917-fac9-4be2-ad59-71dfc97e6f9d"
      },
      "execution_count": 26,
      "outputs": [
        {
          "output_type": "stream",
          "name": "stdout",
          "text": [
            "0 0\n",
            "0 1\n",
            "0 2\n",
            "0 3\n",
            "1 0\n",
            "1 1\n",
            "1 2\n",
            "1 3\n",
            "2 0\n",
            "2 1\n",
            "2 2\n",
            "2 3\n"
          ]
        }
      ]
    },
    {
      "cell_type": "code",
      "source": [
        "'''\n",
        "Question 4 - \n",
        "Write a program to print NxN matrix of \"*\"\n",
        "\n",
        "Input - 4\n",
        "\n",
        "Output - \n",
        "****\n",
        "****\n",
        "****\n",
        "****\n",
        "'''\n",
        "\n",
        "'''\n",
        "5\n",
        "* * * * * \n",
        "* * * * * \n",
        "* * * * * \n",
        "* * * * * \n",
        "* * * * * \n",
        "'''"
      ],
      "metadata": {
        "id": "XiG4VjzUFRSf"
      },
      "execution_count": null,
      "outputs": []
    },
    {
      "cell_type": "code",
      "source": [
        "n = int(input())\n",
        "# how do run the code for a single line multiple times\n",
        "for lineNum in range(n):\n",
        "    for i in range(n): # code for a single line\n",
        "        print('*', end=\" \")\n",
        "    print()"
      ],
      "metadata": {
        "colab": {
          "base_uri": "https://localhost:8080/"
        },
        "id": "cn0ea1b7HA3w",
        "outputId": "e0e15aa0-203d-4287-e5e0-8293b9ef2926"
      },
      "execution_count": 35,
      "outputs": [
        {
          "output_type": "stream",
          "name": "stdout",
          "text": [
            "10\n",
            "* * * * * * * * * * \n",
            "* * * * * * * * * * \n",
            "* * * * * * * * * * \n",
            "* * * * * * * * * * \n",
            "* * * * * * * * * * \n",
            "* * * * * * * * * * \n",
            "* * * * * * * * * * \n",
            "* * * * * * * * * * \n",
            "* * * * * * * * * * \n",
            "* * * * * * * * * * \n"
          ]
        }
      ]
    },
    {
      "cell_type": "code",
      "source": [
        "n = 4\n",
        "# how do I print a single line\n",
        "for i in range(4):\n",
        "    print('*', end=\" \")"
      ],
      "metadata": {
        "colab": {
          "base_uri": "https://localhost:8080/"
        },
        "id": "g4jEERG3GQbB",
        "outputId": "7f57385d-cd27-4aab-eeb2-02710cc60832"
      },
      "execution_count": 30,
      "outputs": [
        {
          "output_type": "stream",
          "name": "stdout",
          "text": [
            "* * * * "
          ]
        }
      ]
    },
    {
      "cell_type": "code",
      "source": [
        "# how do run the code for a single line multiple times\n",
        "for lineNum in range(n):\n",
        "    for i in range(n): # code for a single line\n",
        "        print('*', end=\" \")\n",
        "    print()"
      ],
      "metadata": {
        "colab": {
          "base_uri": "https://localhost:8080/"
        },
        "id": "oCYVmnZyGbpG",
        "outputId": "2ea6fe78-0a07-444f-ba4c-1fc9c251c47e"
      },
      "execution_count": 32,
      "outputs": [
        {
          "output_type": "stream",
          "name": "stdout",
          "text": [
            "* * * * \n",
            "* * * * \n",
            "* * * * \n",
            "* * * * \n"
          ]
        }
      ]
    },
    {
      "cell_type": "code",
      "source": [
        "'''\n",
        "Question 5 - \n",
        "Write a program to print a multiplication table till an input N.\n",
        "\n",
        "Input - 3\n",
        "\n",
        "Output - \n",
        "1 2 3 4 5 6 7 8 9 10\n",
        "2 4 6 8 10 12 14 16 18 20\n",
        "3 6 9 12 15 18 21 24 27 30\n",
        "'''"
      ],
      "metadata": {
        "id": "yxflJujCHYoI"
      },
      "execution_count": null,
      "outputs": []
    },
    {
      "cell_type": "code",
      "source": [
        "n = int(input())\n",
        "for num in range(1,n+1):\n",
        "    for i in range(1,11):\n",
        "        print(i*num, end = \" \")\n",
        "    print()"
      ],
      "metadata": {
        "colab": {
          "base_uri": "https://localhost:8080/"
        },
        "id": "KmzccM3zIi_B",
        "outputId": "062824d3-bd76-43f9-f753-f8ba86969c93"
      },
      "execution_count": 41,
      "outputs": [
        {
          "output_type": "stream",
          "name": "stdout",
          "text": [
            "5\n",
            "1 2 3 4 5 6 7 8 9 10 \n",
            "2 4 6 8 10 12 14 16 18 20 \n",
            "3 6 9 12 15 18 21 24 27 30 \n",
            "4 8 12 16 20 24 28 32 36 40 \n",
            "5 10 15 20 25 30 35 40 45 50 \n"
          ]
        }
      ]
    },
    {
      "cell_type": "code",
      "source": [
        "# get multiplication table for a single num\n",
        "num = 4\n",
        "for i in range(1,11):\n",
        "    print(i*num, end = \" \")"
      ],
      "metadata": {
        "colab": {
          "base_uri": "https://localhost:8080/"
        },
        "id": "3mY3s74hIKOJ",
        "outputId": "70c6a897-0fc5-4887-e303-fa1dbc8190a3"
      },
      "execution_count": 39,
      "outputs": [
        {
          "output_type": "stream",
          "name": "stdout",
          "text": [
            "4 8 12 16 20 24 28 32 36 40 "
          ]
        }
      ]
    },
    {
      "cell_type": "code",
      "source": [
        "# GCD/HCF\n",
        "\n",
        "# 24 >> 1,2,3,4,6,8,12,24\n",
        "# 16 >> 1,2,4,8,16\n",
        "# GCD(24 and 16) >> 8 (largest common factor)\n",
        "\n",
        "## GCD is never-ever greater than the smallest number\n",
        "## smallest number....i...1>> a%i==0 and b%i==0"
      ],
      "metadata": {
        "id": "6bOIJFw-IVHG"
      },
      "execution_count": null,
      "outputs": []
    },
    {
      "cell_type": "code",
      "source": [
        "'''\n",
        "Question 6 -\n",
        "GCD ->\n",
        "Given two integer inputs, write a program to calculate GCD.\n",
        "\n",
        "Input - 16 24\n",
        "Output - 8\n",
        "'''"
      ],
      "metadata": {
        "id": "oZ2gNwXjJSxY"
      },
      "execution_count": null,
      "outputs": []
    },
    {
      "cell_type": "code",
      "source": [
        "A = int(input())\n",
        "B = int(input())\n",
        "\n",
        "# find the minimum\n",
        "if A<B:\n",
        "    minVal = A\n",
        "else:\n",
        "    minVal = B\n",
        "\n",
        "# loop >> ## smallest number(minVal)....i...1\n",
        "for i in range(minVal, 0, -1):\n",
        "    if A%i==0 and B%i==0:\n",
        "        print(\"GCD is\", i)\n",
        "        break"
      ],
      "metadata": {
        "colab": {
          "base_uri": "https://localhost:8080/"
        },
        "id": "jcqoktKSLIPs",
        "outputId": "2819365a-eac1-4262-b3a4-90e31a23e8de"
      },
      "execution_count": 43,
      "outputs": [
        {
          "output_type": "stream",
          "name": "stdout",
          "text": [
            "17\n",
            "11\n",
            "GCD is 1\n"
          ]
        }
      ]
    },
    {
      "cell_type": "code",
      "source": [
        ">>6 >> 6, ,12, 18, 24, 30,...\n",
        ">>8 >>8, 16, 24,32,...\n",
        "LCM>> smalles common multiple >> 24\n",
        "a*b"
      ],
      "metadata": {
        "id": "i47Rw26XL1j8"
      },
      "execution_count": null,
      "outputs": []
    },
    {
      "cell_type": "code",
      "source": [
        "'''\n",
        "Question 7 (HOMEWORK) - \n",
        "LCM ->\n",
        "Given two integer inputs, write a program to calculate the LCM.\n",
        "\n",
        "Input - 6 8\n",
        "Output - 24\n",
        "'''"
      ],
      "metadata": {
        "id": "PzIXI90DLqqZ"
      },
      "execution_count": null,
      "outputs": []
    }
  ]
}