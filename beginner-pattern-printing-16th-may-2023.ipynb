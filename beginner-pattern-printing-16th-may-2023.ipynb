{
  "nbformat": 4,
  "nbformat_minor": 0,
  "metadata": {
    "colab": {
      "provenance": [],
      "authorship_tag": "ABX9TyN/BeOEOecbE9c3dEGm1iC0",
      "include_colab_link": true
    },
    "kernelspec": {
      "name": "python3",
      "display_name": "Python 3"
    },
    "language_info": {
      "name": "python"
    }
  },
  "cells": [
    {
      "cell_type": "markdown",
      "metadata": {
        "id": "view-in-github",
        "colab_type": "text"
      },
      "source": [
        "<a href=\"https://colab.research.google.com/gist/singhsidhukuldeep/ef5783d0e3399918f191d6889e93b807/beginner-pattern-printing-16th-may-2023.ipynb\" target=\"_parent\"><img src=\"https://colab.research.google.com/assets/colab-badge.svg\" alt=\"Open In Colab\"/></a>"
      ]
    },
    {
      "cell_type": "markdown",
      "source": [
        "<center>\n",
        "\n",
        "<img class=\"img-fluid\" src=\"https://64.media.tumblr.com/tumblr_m6usbsENB61rzlf5vo1_500.gif\" alt=\"img-verification\" width=\"200\">\n",
        "\n",
        "</center>"
      ],
      "metadata": {
        "id": "zZfaZHZIG-8P"
      }
    },
    {
      "cell_type": "code",
      "execution_count": 10,
      "metadata": {
        "colab": {
          "base_uri": "https://localhost:8080/"
        },
        "id": "A8GJO1u-GojR",
        "outputId": "294c4efa-cb61-432e-a65a-6253d9422871"
      },
      "outputs": [
        {
          "output_type": "stream",
          "name": "stdout",
          "text": [
            "5\n",
            "*****\n",
            "*****\n",
            "*****\n",
            "*****\n",
            "*****\n"
          ]
        }
      ],
      "source": [
        "n = int(input())\n",
        "\n",
        "for row in range(n): # going over all the rows one by one\n",
        "    # print(row)\n",
        "    for someRow in range(n): # a single row logic\n",
        "        print('*', end=\"\")\n",
        "    print()"
      ]
    },
    {
      "cell_type": "code",
      "source": [
        "***** << 0\n",
        "*****\n",
        "***** <<\n",
        "*****\n",
        "*****"
      ],
      "metadata": {
        "id": "F30HXReQQtSh"
      },
      "execution_count": null,
      "outputs": []
    },
    {
      "cell_type": "code",
      "source": [
        "for someRow in range(n): # a single row logic\n",
        "    print('*', end=\"\")"
      ],
      "metadata": {
        "colab": {
          "base_uri": "https://localhost:8080/"
        },
        "id": "uZf4oLUaPcTT",
        "outputId": "509375d0-db54-4328-8a7e-f29d7ee856bf"
      },
      "execution_count": 2,
      "outputs": [
        {
          "output_type": "stream",
          "name": "stdout",
          "text": [
            "*****"
          ]
        }
      ]
    },
    {
      "cell_type": "code",
      "source": [
        "# a single row logic\n",
        "print('*'*n)"
      ],
      "metadata": {
        "colab": {
          "base_uri": "https://localhost:8080/"
        },
        "id": "1jq9NbCsQatH",
        "outputId": "53129011-02d5-4123-da0d-60e9c00dd8dc"
      },
      "execution_count": 8,
      "outputs": [
        {
          "output_type": "stream",
          "name": "stdout",
          "text": [
            "**\n"
          ]
        }
      ]
    },
    {
      "cell_type": "code",
      "source": [
        "n = int(input())\n",
        "\n",
        "for row in range(n): # going over all the rows one by one\n",
        "    # print(row)\n",
        "    print('*'*n)# a single row logic"
      ],
      "metadata": {
        "colab": {
          "base_uri": "https://localhost:8080/"
        },
        "id": "mVUhNNX6Qh8V",
        "outputId": "df2bc112-59ed-4461-a5cc-4ec1b64f3c87"
      },
      "execution_count": 9,
      "outputs": [
        {
          "output_type": "stream",
          "name": "stdout",
          "text": [
            "5\n",
            "*****\n",
            "*****\n",
            "*****\n",
            "*****\n",
            "*****\n"
          ]
        }
      ]
    },
    {
      "cell_type": "code",
      "source": [
        "print('ab'+'cd')"
      ],
      "metadata": {
        "colab": {
          "base_uri": "https://localhost:8080/"
        },
        "id": "PAVH1ssSPy3e",
        "outputId": "64744b3d-4387-4bfa-b8e9-c1195fb6ffe6"
      },
      "execution_count": 5,
      "outputs": [
        {
          "output_type": "stream",
          "name": "stdout",
          "text": [
            "abcd\n"
          ]
        }
      ]
    },
    {
      "cell_type": "code",
      "source": [
        "print('ab'*3) # b*4 = b+b+b+b"
      ],
      "metadata": {
        "colab": {
          "base_uri": "https://localhost:8080/"
        },
        "id": "cpss0sx-QPa_",
        "outputId": "7115ac83-4269-43b1-9112-6a4b495c21b0"
      },
      "execution_count": 6,
      "outputs": [
        {
          "output_type": "stream",
          "name": "stdout",
          "text": [
            "ababab\n"
          ]
        }
      ]
    },
    {
      "cell_type": "code",
      "source": [
        "n = int(input())\n",
        "\n",
        "for row in range(n): # going over all the rows one by one\n",
        "    # print(row)\n",
        "    for col in range(n): # a single row logic\n",
        "        print('[row,col>>'+str(row)+','+str(col)+']', end=\"\")\n",
        "        # print()# new line everytime you complete a column\n",
        "    print()# new line everytime you complete a row\n"
      ],
      "metadata": {
        "colab": {
          "base_uri": "https://localhost:8080/"
        },
        "id": "L7M_W_wFRGKW",
        "outputId": "c561e463-97ae-4e17-c19d-f663fa7a5c1b"
      },
      "execution_count": 32,
      "outputs": [
        {
          "output_type": "stream",
          "name": "stdout",
          "text": [
            "5\n",
            "[row,col>>0,0][row,col>>0,1][row,col>>0,2][row,col>>0,3][row,col>>0,4]\n",
            "[row,col>>1,0][row,col>>1,1][row,col>>1,2][row,col>>1,3][row,col>>1,4]\n",
            "[row,col>>2,0][row,col>>2,1][row,col>>2,2][row,col>>2,3][row,col>>2,4]\n",
            "[row,col>>3,0][row,col>>3,1][row,col>>3,2][row,col>>3,3][row,col>>3,4]\n",
            "[row,col>>4,0][row,col>>4,1][row,col>>4,2][row,col>>4,3][row,col>>4,4]\n"
          ]
        }
      ]
    },
    {
      "cell_type": "code",
      "source": [
        "print('something', end=\"\")# default end='\\n'\n",
        "print('more something')"
      ],
      "metadata": {
        "colab": {
          "base_uri": "https://localhost:8080/"
        },
        "id": "zI2eAIHuRTG7",
        "outputId": "1662bc0a-f355-47f0-d49a-d7e7aaf1cd5c"
      },
      "execution_count": 18,
      "outputs": [
        {
          "output_type": "stream",
          "name": "stdout",
          "text": [
            "somethingmore something\n"
          ]
        }
      ]
    },
    {
      "cell_type": "code",
      "source": [
        "print(123,'abc')\n",
        "print(345,'def')\n",
        "# -- no code that can be written to go back to the first line and add 890"
      ],
      "metadata": {
        "colab": {
          "base_uri": "https://localhost:8080/"
        },
        "id": "kpt-jz4ESEkZ",
        "outputId": "00c3ee7a-6b69-4679-aadc-664971f0b1a9"
      },
      "execution_count": 29,
      "outputs": [
        {
          "output_type": "stream",
          "name": "stdout",
          "text": [
            "123 abc\n",
            "345 def\n"
          ]
        }
      ]
    },
    {
      "cell_type": "code",
      "source": [
        "print(123,'abc', 890)\n",
        "print(345,'def')"
      ],
      "metadata": {
        "colab": {
          "base_uri": "https://localhost:8080/"
        },
        "id": "WXs1tOP0WIUU",
        "outputId": "4f45cff5-b8f1-430f-ee53-8df1056cf30a"
      },
      "execution_count": 31,
      "outputs": [
        {
          "output_type": "stream",
          "name": "stdout",
          "text": [
            "123 abc 890\n",
            "345 def\n"
          ]
        }
      ]
    },
    {
      "cell_type": "code",
      "source": [
        "'''\n",
        "Ask the user to enter a number [+ive integer]\n",
        "and print the foloowing pattern\n",
        "\n",
        "*\n",
        "**\n",
        "***\n",
        "****\n",
        "*****\n",
        "\n",
        "Here the user entered the number of rows they want eg in this case it is 5\n",
        "'''"
      ],
      "metadata": {
        "id": "L6pyMEz1WQq7"
      },
      "execution_count": null,
      "outputs": []
    },
    {
      "cell_type": "code",
      "source": [
        "n = int(input())\n",
        "\n",
        "for row in range(n):\n",
        "    print('*'*(row+1))"
      ],
      "metadata": {
        "colab": {
          "base_uri": "https://localhost:8080/"
        },
        "id": "EBrREsxmZ8-y",
        "outputId": "225ea051-4abf-49db-a098-956e24536440"
      },
      "execution_count": 33,
      "outputs": [
        {
          "output_type": "stream",
          "name": "stdout",
          "text": [
            "5\n",
            "*\n",
            "**\n",
            "***\n",
            "****\n",
            "*****\n"
          ]
        }
      ]
    },
    {
      "cell_type": "code",
      "source": [
        "row = 4\n",
        "\n",
        "print('*'*(row+1))\n",
        "\n",
        "for j in range(row+1):\n",
        "    print('*', end=\"\")"
      ],
      "metadata": {
        "colab": {
          "base_uri": "https://localhost:8080/"
        },
        "id": "ci5yJ7_YaiDl",
        "outputId": "98036a13-c927-461a-8e05-7946811a3d33"
      },
      "execution_count": 36,
      "outputs": [
        {
          "output_type": "stream",
          "name": "stdout",
          "text": [
            "*****\n",
            "*****"
          ]
        }
      ]
    },
    {
      "cell_type": "code",
      "source": [
        "n = int(input())\n",
        "\n",
        "for row in range(n):\n",
        "    for j in range(row+1):\n",
        "        print('*', end=\"\")\n",
        "    print()"
      ],
      "metadata": {
        "colab": {
          "base_uri": "https://localhost:8080/"
        },
        "id": "x_8vvjTzax3E",
        "outputId": "b0048072-ab28-4efd-8f5f-ec6190971ef5"
      },
      "execution_count": 38,
      "outputs": [
        {
          "output_type": "stream",
          "name": "stdout",
          "text": [
            "5\n",
            "*\n",
            "**\n",
            "***\n",
            "****\n",
            "*****\n"
          ]
        }
      ]
    },
    {
      "cell_type": "code",
      "source": [
        "'''\n",
        "Ask the user to enter a number [+ive integer]\n",
        "and print the foloowing pattern\n",
        "\n",
        "*****\n",
        "****\n",
        "***\n",
        "**\n",
        "*\n",
        "\n",
        "Here the user entered the number of rows they want eg in this case it is 5\n",
        "'''"
      ],
      "metadata": {
        "id": "KdZ_joMjbQ80"
      },
      "execution_count": null,
      "outputs": []
    },
    {
      "cell_type": "code",
      "source": [
        "n = int(input())\n",
        "\n",
        "for row in range(n):\n",
        "    print('*'*(n-row))"
      ],
      "metadata": {
        "colab": {
          "base_uri": "https://localhost:8080/"
        },
        "id": "sI3NHq-vdAm1",
        "outputId": "7c9719a5-b912-4780-ff4f-52ade052e730"
      },
      "execution_count": 39,
      "outputs": [
        {
          "output_type": "stream",
          "name": "stdout",
          "text": [
            "5\n",
            "*****\n",
            "****\n",
            "***\n",
            "**\n",
            "*\n"
          ]
        }
      ]
    },
    {
      "cell_type": "code",
      "source": [
        "n = 5\n",
        "row = 2\n",
        "\n",
        "print('*'*(n-row))\n",
        "\n",
        "for j in range(n-row):\n",
        "    print('*', end=\"\")"
      ],
      "metadata": {
        "colab": {
          "base_uri": "https://localhost:8080/"
        },
        "id": "5d5fbzCKdENd",
        "outputId": "5717bea9-bf78-4318-ee9d-41b49b81bc29"
      },
      "execution_count": 41,
      "outputs": [
        {
          "output_type": "stream",
          "name": "stdout",
          "text": [
            "***\n",
            "***"
          ]
        }
      ]
    },
    {
      "cell_type": "code",
      "source": [
        "n = int(input())\n",
        "\n",
        "for row in range(n):\n",
        "    for j in range(n-row):\n",
        "        print('*', end=\"\")\n",
        "    print()"
      ],
      "metadata": {
        "colab": {
          "base_uri": "https://localhost:8080/"
        },
        "id": "wGCVSCCidZsm",
        "outputId": "eddb6479-bb68-4e10-9aba-e7d713577658"
      },
      "execution_count": 42,
      "outputs": [
        {
          "output_type": "stream",
          "name": "stdout",
          "text": [
            "5\n",
            "*****\n",
            "****\n",
            "***\n",
            "**\n",
            "*\n"
          ]
        }
      ]
    },
    {
      "cell_type": "code",
      "source": [
        "for j in range(5):\n",
        "    j-=1000\n",
        "    print(j)"
      ],
      "metadata": {
        "colab": {
          "base_uri": "https://localhost:8080/"
        },
        "id": "IYS2bNKfdtO1",
        "outputId": "a8241833-5822-44b8-9eb7-43c5d5f90658"
      },
      "execution_count": 43,
      "outputs": [
        {
          "output_type": "stream",
          "name": "stdout",
          "text": [
            "-1000\n",
            "-999\n",
            "-998\n",
            "-997\n",
            "-996\n"
          ]
        }
      ]
    },
    {
      "cell_type": "code",
      "source": [
        "'''\n",
        "Ask the user to enter a number [+ive integer]\n",
        "and print the foloowing pattern\n",
        "\n",
        "    *\n",
        "   **\n",
        "  ***\n",
        " ****\n",
        "*****\n",
        "\n",
        "Here the user entered the number of rows they want eg in this case it is 5\n",
        "'''"
      ],
      "metadata": {
        "id": "DKZ4USO0d-UQ"
      },
      "execution_count": null,
      "outputs": []
    },
    {
      "cell_type": "code",
      "source": [
        "n = int(input())\n",
        "\n",
        "for row in range(n):\n",
        "    print(' '*(n-(row+1))    +    '*'*(row+1))"
      ],
      "metadata": {
        "colab": {
          "base_uri": "https://localhost:8080/"
        },
        "id": "unKXLiOcgJHv",
        "outputId": "d6cab50f-907a-47da-8740-f7beaaea330b"
      },
      "execution_count": 44,
      "outputs": [
        {
          "output_type": "stream",
          "name": "stdout",
          "text": [
            "5\n",
            "    *\n",
            "   **\n",
            "  ***\n",
            " ****\n",
            "*****\n"
          ]
        }
      ]
    },
    {
      "cell_type": "code",
      "source": [
        "n = 5\n",
        "row = 2\n",
        "print(' '*(n-(row+1))    +    '*'*(row+1))\n",
        "\n",
        "# for loop for space\n",
        "for j in range((n-(row+1))):\n",
        "    print(' ', end=\"\")\n",
        "# for loop for *\n",
        "for j in range(row+1):\n",
        "    print('*', end=\"\")"
      ],
      "metadata": {
        "colab": {
          "base_uri": "https://localhost:8080/"
        },
        "id": "m0WWU1nfgWhd",
        "outputId": "bebdb2e0-9631-44d3-813d-5cf65f95b1e4"
      },
      "execution_count": 46,
      "outputs": [
        {
          "output_type": "stream",
          "name": "stdout",
          "text": [
            "  ***\n",
            "  ***"
          ]
        }
      ]
    },
    {
      "cell_type": "code",
      "source": [
        "n = int(input())\n",
        "\n",
        "for row in range(n):\n",
        "    # print(' '*(n-(row+1))    +    '*'*(row+1))\n",
        "    # for loop for space\n",
        "    for j in range((n-(row+1))):\n",
        "        print(' ', end=\"\")\n",
        "    # for loop for *\n",
        "    for j in range(row+1):\n",
        "        print('*', end=\"\")\n",
        "    print()"
      ],
      "metadata": {
        "colab": {
          "base_uri": "https://localhost:8080/"
        },
        "id": "DWThPL41g-xP",
        "outputId": "d550f43a-947b-4fc9-efa2-4ee0b60e4236"
      },
      "execution_count": 47,
      "outputs": [
        {
          "output_type": "stream",
          "name": "stdout",
          "text": [
            "5\n",
            "    *\n",
            "   **\n",
            "  ***\n",
            " ****\n",
            "*****\n"
          ]
        }
      ]
    },
    {
      "cell_type": "code",
      "source": [
        "n = int(input())\n",
        "\n",
        "# using str multiplication\n",
        "for row in range(n):\n",
        "    print('*'*(n-row))\n",
        "\n",
        "# using nested loops\n",
        "\n",
        "for row in range(n):\n",
        "    for j in range(n-row):\n",
        "        print('*', end=\"\")\n",
        "    print()"
      ],
      "metadata": {
        "colab": {
          "base_uri": "https://localhost:8080/"
        },
        "id": "EcAE2_0thsND",
        "outputId": "568d2aae-df08-4f53-a869-527ac4264969"
      },
      "execution_count": 48,
      "outputs": [
        {
          "output_type": "stream",
          "name": "stdout",
          "text": [
            "3\n",
            "***\n",
            "**\n",
            "*\n",
            "***\n",
            "**\n",
            "*\n"
          ]
        }
      ]
    },
    {
      "cell_type": "code",
      "source": [
        "'''\n",
        "Ask the user to enter a number [+ive integer]\n",
        "and print the foloowing pattern\n",
        "\n",
        "*****\n",
        " ****\n",
        "  ***\n",
        "   **\n",
        "    *\n",
        "\n",
        "Here the user entered the number of rows they want eg in this case it is 5\n",
        "'''"
      ],
      "metadata": {
        "id": "cEKFQgqghc5T"
      },
      "execution_count": null,
      "outputs": []
    },
    {
      "cell_type": "code",
      "source": [
        "n = int(input())\n",
        "\n",
        "for row in range(n):\n",
        "    print(' '*(row)    +    '*'*(n-row))"
      ],
      "metadata": {
        "colab": {
          "base_uri": "https://localhost:8080/"
        },
        "id": "eXGdvg1Okr6U",
        "outputId": "b0eb3ed5-e6ea-4892-d818-34655394dd6b"
      },
      "execution_count": 49,
      "outputs": [
        {
          "output_type": "stream",
          "name": "stdout",
          "text": [
            "5\n",
            "*****\n",
            " ****\n",
            "  ***\n",
            "   **\n",
            "    *\n"
          ]
        }
      ]
    },
    {
      "cell_type": "code",
      "source": [
        "n = 5\n",
        "row =2\n",
        "print(' '*(row)    +    '*'*(n-row))\n",
        "\n",
        "# print row number of spaces together(in a single line) using a for loop?\n",
        "for j in range(row):\n",
        "    print(' ', end=\"\")\n",
        "\n",
        "# print (n-row) number of * together(in a single line) using a for loop?\n",
        "for j in range((n-row)):\n",
        "    print('*', end=\"\")"
      ],
      "metadata": {
        "colab": {
          "base_uri": "https://localhost:8080/"
        },
        "id": "KUkf8FZ2kxIf",
        "outputId": "a938fa78-e15c-4101-9ca4-0b8fc7b2aa50"
      },
      "execution_count": 54,
      "outputs": [
        {
          "output_type": "stream",
          "name": "stdout",
          "text": [
            "  ***\n",
            "  ***"
          ]
        }
      ]
    },
    {
      "cell_type": "code",
      "source": [
        "n = int(input())\n",
        "\n",
        "for row in range(n):\n",
        "    # print(' '*(row)    +    '*'*(n-row))\n",
        "\n",
        "    # print row number of spaces together(in a single line) using a for loop?\n",
        "    for j in range(row):\n",
        "        print(' ', end=\"\")\n",
        "\n",
        "    # print (n-row) number of * together(in a single line) using a for loop?\n",
        "    for j in range((n-row)):\n",
        "        print('*', end=\"\")\n",
        "    \n",
        "    print()"
      ],
      "metadata": {
        "colab": {
          "base_uri": "https://localhost:8080/"
        },
        "id": "Xkh2FwItluC2",
        "outputId": "3fd4c949-29c1-44bc-d5a5-4450aba8ee25"
      },
      "execution_count": 56,
      "outputs": [
        {
          "output_type": "stream",
          "name": "stdout",
          "text": [
            "5\n",
            "*****\n",
            " ****\n",
            "  ***\n",
            "   **\n",
            "    *\n"
          ]
        }
      ]
    },
    {
      "cell_type": "code",
      "source": [
        "'''\n",
        "Ask the user to enter a number [+ive integer]\n",
        "and print the foloowing pattern\n",
        "\n",
        "*   1...row+1\n",
        "*2  1...2\n",
        "*2* 1....3\n",
        "*2*4\n",
        "*2*4*\n",
        "*2*4*6\n",
        "\n",
        "Here the user entered the number of rows they want eg in this case it is 6\n",
        "\n",
        "For all the odd position, print '*'\n",
        "for even positions print the number i.e j.\n",
        "'''"
      ],
      "metadata": {
        "id": "hrXLsrDamE0G"
      },
      "execution_count": null,
      "outputs": []
    },
    {
      "cell_type": "code",
      "source": [
        "# 3rd ver\n",
        "n = int(input())\n",
        "for rowNum in range(n):\n",
        "    # print(rowNum)\n",
        "    for j in range(1,rowNum+2):\n",
        "        if j%2==0:\n",
        "            print(j, end=\"\")\n",
        "        else:\n",
        "            print('*', end=\"\")\n",
        "    print()"
      ],
      "metadata": {
        "colab": {
          "base_uri": "https://localhost:8080/"
        },
        "id": "Kk6UJCw8o71Q",
        "outputId": "35595eba-26b3-4c78-fc64-0dc4a798e3d1"
      },
      "execution_count": 62,
      "outputs": [
        {
          "output_type": "stream",
          "name": "stdout",
          "text": [
            "6\n",
            "*\n",
            "*2\n",
            "*2*\n",
            "*2*4\n",
            "*2*4*\n",
            "*2*4*6\n"
          ]
        }
      ]
    },
    {
      "cell_type": "code",
      "source": [
        "# 2.3nd ver\n",
        "n = int(input())\n",
        "for rowNum in range(n):\n",
        "    # print(rowNum)\n",
        "    for j in range(1,rowNum+2):\n",
        "        print(j, end=\"\")\n",
        "    print()"
      ],
      "metadata": {
        "colab": {
          "base_uri": "https://localhost:8080/"
        },
        "id": "8lSA3QLan09W",
        "outputId": "c2497404-acee-4eda-ae31-d893fcbc58b2"
      },
      "execution_count": 61,
      "outputs": [
        {
          "output_type": "stream",
          "name": "stdout",
          "text": [
            "6\n",
            "1\n",
            "12\n",
            "123\n",
            "1234\n",
            "12345\n",
            "123456\n"
          ]
        }
      ]
    },
    {
      "cell_type": "code",
      "source": [
        "# 2.2nd ver\n",
        "n = int(input())\n",
        "for rowNum in range(n):\n",
        "    # print(rowNum)\n",
        "    for j in range(0,rowNum+1):\n",
        "        print(j, end=\"\")\n",
        "    print()"
      ],
      "metadata": {
        "colab": {
          "base_uri": "https://localhost:8080/"
        },
        "id": "1bCdQg31pMOg",
        "outputId": "ea6aba54-c0e1-4d44-bc65-3cc9b6fe261f"
      },
      "execution_count": 64,
      "outputs": [
        {
          "output_type": "stream",
          "name": "stdout",
          "text": [
            "6\n",
            "0\n",
            "01\n",
            "012\n",
            "0123\n",
            "01234\n",
            "012345\n"
          ]
        }
      ]
    },
    {
      "cell_type": "code",
      "source": [
        "# 2.1nd ver\n",
        "n = int(input())\n",
        "for rowNum in range(n):\n",
        "    # print(rowNum)\n",
        "    for j in range(0,rowNum):\n",
        "        print(j, end=\"\")\n",
        "    print()"
      ],
      "metadata": {
        "colab": {
          "base_uri": "https://localhost:8080/"
        },
        "id": "wJVD_XwSpMrt",
        "outputId": "f334ea64-89b8-4847-9844-bcef46a630e3"
      },
      "execution_count": 63,
      "outputs": [
        {
          "output_type": "stream",
          "name": "stdout",
          "text": [
            "6\n",
            "\n",
            "0\n",
            "01\n",
            "012\n",
            "0123\n",
            "01234\n"
          ]
        }
      ]
    },
    {
      "cell_type": "code",
      "source": [
        "# 1st ver\n",
        "n = int(input())\n",
        "for rowNum in range(n):\n",
        "    print(rowNum)"
      ],
      "metadata": {
        "colab": {
          "base_uri": "https://localhost:8080/"
        },
        "id": "LKJO0ZMCnhzz",
        "outputId": "83d414e7-9a8c-4ac8-b3ff-334b38eea64d"
      },
      "execution_count": 57,
      "outputs": [
        {
          "output_type": "stream",
          "name": "stdout",
          "text": [
            "6\n",
            "0\n",
            "1\n",
            "2\n",
            "3\n",
            "4\n",
            "5\n"
          ]
        }
      ]
    },
    {
      "cell_type": "markdown",
      "source": [
        "Problem Description\n",
        "\n",
        "Take an integer N as input, print the corresponding Half Diamond pattern with 2*N - 1 rows.\n",
        "\n",
        "For example if N = 5 then pattern will be like:\n",
        "```\n",
        "*\n",
        "**\n",
        "***\n",
        "****\n",
        "*****\n",
        "****\n",
        "***\n",
        "**\n",
        "*\n",
        "```\n",
        "NOTE: There should be no spaces after any `* `."
      ],
      "metadata": {
        "id": "g97YG9DTsDaR"
      }
    },
    {
      "cell_type": "code",
      "source": [
        "*\n",
        "**\n",
        "***\n",
        "****\n",
        "*****"
      ],
      "metadata": {
        "id": "Nh59zG-tsFZY"
      },
      "execution_count": null,
      "outputs": []
    },
    {
      "cell_type": "code",
      "source": [
        "n = int(input())\n",
        "# increasing stars\n",
        "for i in range(n):\n",
        "    print('*'*(i+1))\n",
        "# decreasing stars\n",
        "for i in range(n-1, 0,-1):\n",
        "    print('*'*i)"
      ],
      "metadata": {
        "colab": {
          "base_uri": "https://localhost:8080/"
        },
        "id": "UiqcgvXEtOuN",
        "outputId": "cecec09c-9efb-419c-9f62-5252983271d8"
      },
      "execution_count": 66,
      "outputs": [
        {
          "output_type": "stream",
          "name": "stdout",
          "text": [
            "5\n",
            "*\n",
            "**\n",
            "***\n",
            "****\n",
            "*****\n",
            "****\n",
            "***\n",
            "**\n",
            "*\n"
          ]
        }
      ]
    },
    {
      "cell_type": "code",
      "source": [
        "for i in range(5):\n",
        "    print(i)\n",
        "else: # this else will only run if the above loop completes that is it never breaks\n",
        "    print('the loop completed')"
      ],
      "metadata": {
        "colab": {
          "base_uri": "https://localhost:8080/"
        },
        "id": "jgbxsgZKtwq4",
        "outputId": "4b1816eb-f50b-461b-c3e4-1c9cea06b759"
      },
      "execution_count": 68,
      "outputs": [
        {
          "output_type": "stream",
          "name": "stdout",
          "text": [
            "0\n",
            "1\n",
            "2\n",
            "3\n",
            "4\n",
            "the loop completed\n"
          ]
        }
      ]
    },
    {
      "cell_type": "code",
      "source": [
        "for i in range(5):\n",
        "    if i==3:\n",
        "        break\n",
        "    print(i)\n",
        "else: # this else will only run if the above loop completes that is it never breaks\n",
        "    print('the loop completed')"
      ],
      "metadata": {
        "colab": {
          "base_uri": "https://localhost:8080/"
        },
        "id": "dFQAGwl3vyGC",
        "outputId": "04c36216-6c6c-428a-ebd3-fc6b384e3806"
      },
      "execution_count": 69,
      "outputs": [
        {
          "output_type": "stream",
          "name": "stdout",
          "text": [
            "0\n",
            "1\n",
            "2\n"
          ]
        }
      ]
    },
    {
      "cell_type": "code",
      "source": [
        "num = 1\n",
        "while num<=5:\n",
        "    print(num)\n",
        "    num+=1\n",
        "else:# this else will only run if the above loop completes that is it never breaks\n",
        "    print('the above while loop broke when the condition given became false')"
      ],
      "metadata": {
        "colab": {
          "base_uri": "https://localhost:8080/"
        },
        "id": "GEN8epO6v-cA",
        "outputId": "d3ebe7f0-83a1-4f2e-9fab-c2db9ff0cd10"
      },
      "execution_count": 71,
      "outputs": [
        {
          "output_type": "stream",
          "name": "stdout",
          "text": [
            "1\n",
            "2\n",
            "3\n",
            "4\n",
            "5\n",
            "the above while loop broke when the condition given became false\n"
          ]
        }
      ]
    },
    {
      "cell_type": "code",
      "source": [
        "num = 1\n",
        "while num<=5:\n",
        "    print(num)\n",
        "    if num==3:\n",
        "        break\n",
        "    num+=1\n",
        "else:# this else will only run if the above loop completes that is it never breaks\n",
        "    print('the above while loop broke when the condition given became false')"
      ],
      "metadata": {
        "colab": {
          "base_uri": "https://localhost:8080/"
        },
        "id": "_uCezVn3wIBg",
        "outputId": "fc9791ce-d012-4aa9-f133-39decb314dca"
      },
      "execution_count": 72,
      "outputs": [
        {
          "output_type": "stream",
          "name": "stdout",
          "text": [
            "1\n",
            "2\n",
            "3\n"
          ]
        }
      ]
    },
    {
      "cell_type": "code",
      "source": [
        "n = int(input())\n",
        "for i in range(1,n+1):\n",
        "    for j in range(1, i+1):\n",
        "        if j==i:\n",
        "            print(j, end='')\n",
        "        else:\n",
        "            print(j, end=\" \")\n",
        "    print()"
      ],
      "metadata": {
        "colab": {
          "base_uri": "https://localhost:8080/"
        },
        "id": "3F-RNjbZwRiA",
        "outputId": "55a82f37-31e3-44a1-aead-74aaf4b50c08"
      },
      "execution_count": 74,
      "outputs": [
        {
          "output_type": "stream",
          "name": "stdout",
          "text": [
            "5\n",
            "1\n",
            "1 2\n",
            "1 2 3\n",
            "1 2 3 4\n",
            "1 2 3 4 5\n"
          ]
        }
      ]
    },
    {
      "cell_type": "code",
      "source": [
        "N= int(input())\n",
        "for i in range(1,N+1):\n",
        "    print(1, end=\"\")\n",
        "    for j in range(2,i+1):\n",
        "        print(\"\", j, end=\"\")\n",
        "    print()"
      ],
      "metadata": {
        "colab": {
          "base_uri": "https://localhost:8080/"
        },
        "id": "i-VRMJ_txDW5",
        "outputId": "1596f25a-f267-4487-d9a3-c46ce3ca8494"
      },
      "execution_count": 75,
      "outputs": [
        {
          "output_type": "stream",
          "name": "stdout",
          "text": [
            "5\n",
            "1\n",
            "1 2\n",
            "1 2 3\n",
            "1 2 3 4\n",
            "1 2 3 4 5\n"
          ]
        }
      ]
    }
  ]
}