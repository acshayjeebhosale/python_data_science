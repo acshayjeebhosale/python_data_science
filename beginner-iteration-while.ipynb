{
  "nbformat": 4,
  "nbformat_minor": 0,
  "metadata": {
    "colab": {
      "provenance": [],
      "authorship_tag": "ABX9TyPlfiHhCkZ5icLwgUZRyeCs",
      "include_colab_link": true
    },
    "kernelspec": {
      "name": "python3",
      "display_name": "Python 3"
    },
    "language_info": {
      "name": "python"
    }
  },
  "cells": [
    {
      "cell_type": "markdown",
      "metadata": {
        "id": "view-in-github",
        "colab_type": "text"
      },
      "source": [
        "<a href=\"https://colab.research.google.com/gist/singhsidhukuldeep/b34486caec9b35612d2fe19d1029d72c/beginner-iteration-while-loops-6-may-2023.ipynb\" target=\"_parent\"><img src=\"https://colab.research.google.com/assets/colab-badge.svg\" alt=\"Open In Colab\"/></a>"
      ]
    },
    {
      "cell_type": "markdown",
      "source": [
        "<center>\n",
        "\n",
        "![images.png](data:image/png;base64,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)\n",
        "\n",
        "</center>"
      ],
      "metadata": {
        "id": "552LjBdQlWzK"
      }
    },
    {
      "cell_type": "code",
      "source": [
        "# shouting the number\n",
        "\n",
        "num = 1 \n",
        "\n",
        "while num <=5:\n",
        "    print(num)\n",
        "    num = num+1\n",
        "\n",
        "print(\"At the end of the loop num was:\", num)"
      ],
      "metadata": {
        "colab": {
          "base_uri": "https://localhost:8080/"
        },
        "id": "M282i-EMlfwN",
        "outputId": "3081518e-3ddb-4378-b9de-eeb4de911efd"
      },
      "execution_count": 4,
      "outputs": [
        {
          "output_type": "stream",
          "name": "stdout",
          "text": [
            "1\n",
            "2\n",
            "3\n",
            "4\n",
            "5\n",
            "At the end of the loop num was: 6\n"
          ]
        }
      ]
    },
    {
      "cell_type": "code",
      "source": [
        "while <codition>:\n",
        "    # some logic\n",
        "    # that will keep on repeating\n",
        "    # till the <condition> is True"
      ],
      "metadata": {
        "id": "VSJkvXkPyoZf"
      },
      "execution_count": null,
      "outputs": []
    },
    {
      "cell_type": "code",
      "source": [
        "# shouting the number\n",
        "\n",
        "num = 1 # intitial value\n",
        "\n",
        "while num <=5: # condition\n",
        "    print(num)\n",
        "    num = num+1\n",
        "\n",
        "print(\"At the end of the loop num was:\", num)"
      ],
      "metadata": {
        "id": "PM0O_QJ4zGBa"
      },
      "execution_count": null,
      "outputs": []
    },
    {
      "cell_type": "code",
      "source": [
        "num = 1 # intitial value\n",
        "\n",
        "while num <=5: # condition\n",
        "    print(num)\n",
        "    num = num+1"
      ],
      "metadata": {
        "colab": {
          "base_uri": "https://localhost:8080/"
        },
        "id": "b4AHVjlBzZTd",
        "outputId": "af35dc2f-e6c5-4159-cbf6-4badfbe8fe97"
      },
      "execution_count": 5,
      "outputs": [
        {
          "output_type": "stream",
          "name": "stdout",
          "text": [
            "1\n",
            "2\n",
            "3\n",
            "4\n",
            "5\n"
          ]
        }
      ]
    },
    {
      "cell_type": "code",
      "source": [
        "num = 2 # intitial value\n",
        "\n",
        "while num <=5: # condition\n",
        "    print(num)\n",
        "    num = num+1\n",
        "\n",
        "# 2345"
      ],
      "metadata": {
        "colab": {
          "base_uri": "https://localhost:8080/"
        },
        "id": "ZIO8-X3Vzc2U",
        "outputId": "eb0b62e1-9513-459b-d46f-b4e100c9101e"
      },
      "execution_count": 6,
      "outputs": [
        {
          "output_type": "stream",
          "name": "stdout",
          "text": [
            "2\n",
            "3\n",
            "4\n",
            "5\n"
          ]
        }
      ]
    },
    {
      "cell_type": "code",
      "source": [
        "num = 2 # intitial value\n",
        "\n",
        "while num <=4: # condition\n",
        "    print(num)\n",
        "    num = num+1\n",
        "\n",
        "# 234"
      ],
      "metadata": {
        "colab": {
          "base_uri": "https://localhost:8080/"
        },
        "id": "eWlYSkNAzidL",
        "outputId": "15a68be6-21a1-425e-ab9d-440543da0e33"
      },
      "execution_count": 7,
      "outputs": [
        {
          "output_type": "stream",
          "name": "stdout",
          "text": [
            "2\n",
            "3\n",
            "4\n"
          ]
        }
      ]
    },
    {
      "cell_type": "code",
      "source": [
        "num = 2 # intitial value\n",
        "\n",
        "while num <=4: # condition\n",
        "    print(num)\n",
        "    num = num+2\n",
        "\n",
        "# 24"
      ],
      "metadata": {
        "colab": {
          "base_uri": "https://localhost:8080/"
        },
        "id": "RjPb2pfVzwy7",
        "outputId": "50d0c707-78a0-4328-8014-a2e00bf5ef1c"
      },
      "execution_count": 8,
      "outputs": [
        {
          "output_type": "stream",
          "name": "stdout",
          "text": [
            "2\n",
            "4\n"
          ]
        }
      ]
    },
    {
      "cell_type": "code",
      "source": [
        "'''\n",
        "Question 1 - \n",
        "Take an integer input from the user and print alternate numbers from from 1 to input.\n",
        "Input will be a positive number > 1.\n",
        "\n",
        "INPUT - 7\n",
        "OUTPUT - 1 3 5 7\n",
        "'''"
      ],
      "metadata": {
        "id": "wIZRTjeLz_iE"
      },
      "execution_count": null,
      "outputs": []
    },
    {
      "cell_type": "code",
      "source": [
        "num = int(input())\n",
        "start = 1\n",
        "while start<=num:\n",
        "    print(start)\n",
        "    start = start+2"
      ],
      "metadata": {
        "colab": {
          "base_uri": "https://localhost:8080/"
        },
        "id": "--HI0yzL1hIV",
        "outputId": "446f8868-47b1-43f1-8808-c1a2621ff794"
      },
      "execution_count": 9,
      "outputs": [
        {
          "output_type": "stream",
          "name": "stdout",
          "text": [
            "7\n",
            "1\n",
            "3\n",
            "5\n",
            "7\n"
          ]
        }
      ]
    },
    {
      "cell_type": "code",
      "source": [
        "'''\n",
        "Question 1.1 - \n",
        "Take an input from the user and print alternate numbers from from 1 to input.\n",
        "If number is > 1 -> Print as required.\n",
        "Else print \"Number is smaller than 1!\"\n",
        "\n",
        "INPUT - 7\n",
        "OUTPUT - 1 3 5 7\n",
        "\n",
        "INPUT - -5\n",
        "OUTPUT - Number is smaller than 1!\n",
        "'''"
      ],
      "metadata": {
        "id": "H72e6axO18jD"
      },
      "execution_count": null,
      "outputs": []
    },
    {
      "cell_type": "code",
      "source": [
        "num = int(input())\n",
        "if num>=1:\n",
        "    start = 1\n",
        "    while start<=num:\n",
        "        print(start)\n",
        "        start = start+2\n",
        "else:\n",
        "    print(\"Number is smaller than 1!\")"
      ],
      "metadata": {
        "colab": {
          "base_uri": "https://localhost:8080/"
        },
        "id": "S59Mv-Jh3GiS",
        "outputId": "81ef7984-c4dd-4447-d9a8-f11c3e2e3d46"
      },
      "execution_count": 11,
      "outputs": [
        {
          "output_type": "stream",
          "name": "stdout",
          "text": [
            "-5\n",
            "Number is smaller than 1!\n"
          ]
        }
      ]
    },
    {
      "cell_type": "code",
      "source": [
        "'''\n",
        "Question 2 - \n",
        "Take two integer inputs from user for start and end integer values.\n",
        "Print every third number starting at start till end. (BOTH START AND END TO BE INCLUDED.)\n",
        "\n",
        "Input : \n",
        "2\n",
        "30\n",
        "\n",
        "2 5 8 11 14 17 20 23 26 29 \n",
        "'''"
      ],
      "metadata": {
        "id": "tJhEf-9k3ycV"
      },
      "execution_count": null,
      "outputs": []
    },
    {
      "cell_type": "code",
      "source": [
        "start = int(input())\n",
        "end = int(input())\n",
        "\n",
        "while start<=end:\n",
        "    print(start, end = \"  \")\n",
        "    start = start +3"
      ],
      "metadata": {
        "colab": {
          "base_uri": "https://localhost:8080/"
        },
        "id": "iJzHjtJS4gyE",
        "outputId": "6658e86a-def5-438c-c6bf-33fecae2cf81"
      },
      "execution_count": 13,
      "outputs": [
        {
          "output_type": "stream",
          "name": "stdout",
          "text": [
            "2\n",
            "30\n",
            "2  5  8  11  14  17  20  23  26  29  "
          ]
        }
      ]
    },
    {
      "cell_type": "code",
      "source": [
        "'''\n",
        "Question 3 - \n",
        "Take an input from user for start and end values.\n",
        "Print all even numbers between them. (start and end included)\n",
        "\n",
        "INPUT - \n",
        "3\n",
        "7\n",
        "\n",
        "OUTPUT - 4 6\n",
        "'''"
      ],
      "metadata": {
        "id": "M8S_Bwx55r2o"
      },
      "execution_count": null,
      "outputs": []
    },
    {
      "cell_type": "code",
      "source": [
        "# 1 get the 2 inputs ✅\n",
        "# 2 print the range of nums between the 2 inputs  ✅\n",
        "# 3put a condition before print, to check if start is even"
      ],
      "metadata": {
        "id": "hn6clp8O7sVP"
      },
      "execution_count": null,
      "outputs": []
    },
    {
      "cell_type": "code",
      "source": [
        "start = int(input())\n",
        "end = int(input())\n",
        "\n",
        "while start<=end:\n",
        "    if start %2==0:\n",
        "        print(start)\n",
        "    start = start+1"
      ],
      "metadata": {
        "colab": {
          "base_uri": "https://localhost:8080/"
        },
        "id": "MICWYfjX7Rsd",
        "outputId": "c3e795ad-c98a-4425-c15c-f8dfa94551e9"
      },
      "execution_count": 15,
      "outputs": [
        {
          "output_type": "stream",
          "name": "stdout",
          "text": [
            "3\n",
            "7\n",
            "4\n",
            "6\n"
          ]
        }
      ]
    },
    {
      "cell_type": "code",
      "source": [
        "start = int(input())\n",
        "end = int(input())\n",
        "loop_count = 0\n",
        "while start<=end:\n",
        "    loop_count += 1\n",
        "    if start %2==0:\n",
        "        print(start)\n",
        "    start = start+1\n",
        "print('The loop ran for:', loop_count)"
      ],
      "metadata": {
        "colab": {
          "base_uri": "https://localhost:8080/"
        },
        "id": "rzq2ggb38isg",
        "outputId": "12a2ad5a-8bbf-4c24-dc98-22dde8e83ae4"
      },
      "execution_count": 16,
      "outputs": [
        {
          "output_type": "stream",
          "name": "stdout",
          "text": [
            "5\n",
            "20\n",
            "6\n",
            "8\n",
            "10\n",
            "12\n",
            "14\n",
            "16\n",
            "18\n",
            "20\n",
            "The loop ran for: 16\n"
          ]
        }
      ]
    },
    {
      "cell_type": "code",
      "source": [
        "start = int(input())\n",
        "end = int(input())\n",
        "\n",
        "if start%2==0: # start is even\n",
        "    i = start\n",
        "else: # start is odd\n",
        "    i = start + 1\n",
        "\n",
        "loop_count = 0\n",
        "while i<=end:\n",
        "    loop_count += 1\n",
        "    print(i)\n",
        "    i = i+2\n",
        "\n",
        "print('The loop ran for:', loop_count)"
      ],
      "metadata": {
        "colab": {
          "base_uri": "https://localhost:8080/"
        },
        "id": "o4xtuRzG92Hl",
        "outputId": "e98c7db0-4089-49e6-a306-775d189aa7f7"
      },
      "execution_count": 18,
      "outputs": [
        {
          "output_type": "stream",
          "name": "stdout",
          "text": [
            "5\n",
            "20\n",
            "6\n",
            "8\n",
            "10\n",
            "12\n",
            "14\n",
            "16\n",
            "18\n",
            "20\n",
            "The loop ran for: 8\n"
          ]
        }
      ]
    },
    {
      "cell_type": "code",
      "source": [
        "start = int(input())\n",
        "end = int(input())\n",
        "\n",
        "if start%2==0: # start is even\n",
        "    i = start\n",
        "else: # start is odd\n",
        "    i = start + 1\n",
        "\n",
        "while i<=end:\n",
        "    print(i)\n",
        "    i = i+2"
      ],
      "metadata": {
        "colab": {
          "base_uri": "https://localhost:8080/"
        },
        "id": "8mBzTy6C8q82",
        "outputId": "3e026a6d-a3f0-445d-b01c-f509b165d166"
      },
      "execution_count": 17,
      "outputs": [
        {
          "output_type": "stream",
          "name": "stdout",
          "text": [
            "5\n",
            "20\n",
            "6\n",
            "8\n",
            "10\n",
            "12\n",
            "14\n",
            "16\n",
            "18\n",
            "20\n"
          ]
        }
      ]
    },
    {
      "cell_type": "code",
      "source": [
        "'''\n",
        "Question 4 - \n",
        "You are a bowler and you have to bowl 1 over. (6 balls)\n",
        "\"Bowling ball number - ball_number\"\n",
        "'''\n",
        "'''\n",
        "Bowling ball number - 1\n",
        "Bowling ball number - 2\n",
        "Bowling ball number - 3\n",
        "Bowling ball number - 4\n",
        "Bowling ball number - 5\n",
        "Bowling ball number - 6\n",
        "'''\n"
      ],
      "metadata": {
        "id": "8OqsN7549vmV"
      },
      "execution_count": null,
      "outputs": []
    },
    {
      "cell_type": "code",
      "source": [
        "ball_number = 1\n",
        "while ball_number<=6:\n",
        "    print('Bowling ball number -', ball_number)\n",
        "    ball_number +=1"
      ],
      "metadata": {
        "colab": {
          "base_uri": "https://localhost:8080/"
        },
        "id": "ANPdkO-lCCKi",
        "outputId": "81c6822e-cece-442d-aaee-e30588dd5d11"
      },
      "execution_count": 21,
      "outputs": [
        {
          "output_type": "stream",
          "name": "stdout",
          "text": [
            "Bowling ball number - 1\n",
            "Bowling ball number - 2\n",
            "Bowling ball number - 3\n",
            "Bowling ball number - 4\n",
            "Bowling ball number - 5\n",
            "Bowling ball number - 6\n"
          ]
        }
      ]
    },
    {
      "cell_type": "code",
      "source": [
        "'''\n",
        "Question 5 -\n",
        "Take a number input from user.\n",
        "Print its multiplication table till 10th multiple.\n",
        "\n",
        "INPUT - 7\n",
        "OUTPUT - 7 14 21 28 35 42 49 56 63 70\n",
        "'''"
      ],
      "metadata": {
        "id": "v1JlnppFCUgK"
      },
      "execution_count": null,
      "outputs": []
    },
    {
      "cell_type": "code",
      "source": [
        "num = int(input())\n",
        "\n",
        "# 2*1 =2\n",
        "# 2*2 = 4\n",
        "# 2*3 =6\n",
        "\n",
        "start = 1\n",
        "while start<=10:\n",
        "    print(num*start)\n",
        "    start = start+1"
      ],
      "metadata": {
        "colab": {
          "base_uri": "https://localhost:8080/"
        },
        "id": "NcmNrVlLDYwT",
        "outputId": "b4f6e285-6bca-484b-c00b-f4be91960e86"
      },
      "execution_count": 22,
      "outputs": [
        {
          "output_type": "stream",
          "name": "stdout",
          "text": [
            "7\n",
            "7\n",
            "14\n",
            "21\n",
            "28\n",
            "35\n",
            "42\n",
            "49\n",
            "56\n",
            "63\n",
            "70\n"
          ]
        }
      ]
    },
    {
      "cell_type": "code",
      "source": [
        "'''\n",
        "Question 6 - \n",
        "Password is 567\n",
        "\n",
        "Write a loop in python which runs from 0 to 999 and prints the password after finding it.\n",
        "Print - \"Trying <number>\" for every number\n",
        "Print - \"Password found - number\" when password is found\n",
        "'''"
      ],
      "metadata": {
        "id": "UsPvpJ7dDyMR"
      },
      "execution_count": null,
      "outputs": []
    },
    {
      "cell_type": "code",
      "source": [
        "password =  12 # assume you don't know this\n",
        "\n",
        "i = 0\n",
        "while i<=999:\n",
        "    print('Trying', i)\n",
        "    if i==password:\n",
        "        print('Password found -', i)\n",
        "        break\n",
        "    i+=1"
      ],
      "metadata": {
        "colab": {
          "base_uri": "https://localhost:8080/"
        },
        "id": "MRjBelszFJKw",
        "outputId": "abfa6160-02ac-4aae-de87-72e64bfe992f"
      },
      "execution_count": 24,
      "outputs": [
        {
          "output_type": "stream",
          "name": "stdout",
          "text": [
            "Trying 0\n",
            "Trying 1\n",
            "Trying 2\n",
            "Trying 3\n",
            "Trying 4\n",
            "Trying 5\n",
            "Trying 6\n",
            "Trying 7\n",
            "Trying 8\n",
            "Trying 9\n",
            "Trying 10\n",
            "Trying 11\n",
            "Trying 12\n",
            "Password found - 12\n"
          ]
        }
      ]
    },
    {
      "cell_type": "code",
      "source": [
        "'''\n",
        "Question 7 - \n",
        "1. Take an integer input from user. This is the number of test cases. (count)\n",
        "2. Take int for each count from the user.\n",
        "3. Print multiplication table of that integer.\n",
        "\n",
        "\n",
        "INPUT - 3\n",
        "\n",
        "OUTPUT - \n",
        "Please input number 1 - 2\n",
        "Multiplication table - 2 4 6 8 10 12 14 16 18 20\n",
        "\n",
        "Plese input number 2 - 1\n",
        "Multiplication table - 1 2 3 4 5 6 7 8 9 10\n",
        "\n",
        "Please input number 3 - 5\n",
        "Multiplication table - 5 10 15 20 25 30 35 40 45 50\n",
        "'''\n",
        "'''\n",
        "num = int(input())\n",
        "\n",
        "start = 1\n",
        "while start<=10:\n",
        "    print(num*start)\n",
        "    start = start+1\n",
        "'''"
      ],
      "metadata": {
        "id": "3tkfy-ieGGRa"
      },
      "execution_count": null,
      "outputs": []
    },
    {
      "cell_type": "code",
      "source": [
        "test_case_total = int(input(\"How many test cases you want to run: \"))\n",
        "test_case_count = 1\n",
        "while test_case_count<=test_case_total:\n",
        "    # run the logic for multiplication tables that we wrote earlier\n",
        "    num = int(input())\n",
        "\n",
        "    start = 1\n",
        "    while start<=10:\n",
        "        print(num*start)\n",
        "        start = start+1\n",
        "    #the logic ends\n",
        "\n",
        "    print()\n",
        "    print()\n",
        "    test_case_count+=1"
      ],
      "metadata": {
        "colab": {
          "base_uri": "https://localhost:8080/"
        },
        "id": "mSxExWIGIZgk",
        "outputId": "af515e46-505e-4cbb-8924-340ea58b02b4"
      },
      "execution_count": 1,
      "outputs": [
        {
          "output_type": "stream",
          "name": "stdout",
          "text": [
            "How many test cases you want to run: 3\n",
            "2\n",
            "2\n",
            "4\n",
            "6\n",
            "8\n",
            "10\n",
            "12\n",
            "14\n",
            "16\n",
            "18\n",
            "20\n",
            "\n",
            "\n",
            "5\n",
            "5\n",
            "10\n",
            "15\n",
            "20\n",
            "25\n",
            "30\n",
            "35\n",
            "40\n",
            "45\n",
            "50\n",
            "\n",
            "\n",
            "6\n",
            "6\n",
            "12\n",
            "18\n",
            "24\n",
            "30\n",
            "36\n",
            "42\n",
            "48\n",
            "54\n",
            "60\n",
            "\n",
            "\n"
          ]
        }
      ]
    },
    {
      "cell_type": "code",
      "source": [
        "test_case_total = int(input(\"How many test cases you want to run: \"))\n",
        "test_case_count = 1\n",
        "while test_case_count<=test_case_total:\n",
        "    # run the logic for multiplication tables that we wrote earlier\n",
        "    num = int(input(\"Please input number \"))\n",
        "\n",
        "    start = 1\n",
        "    while start<=10:\n",
        "        print(num*start, end=\" \")\n",
        "        start = start+1\n",
        "    #the logic ends\n",
        "\n",
        "    print()\n",
        "    print()\n",
        "    test_case_count+=1"
      ],
      "metadata": {
        "colab": {
          "base_uri": "https://localhost:8080/"
        },
        "id": "8Nos3YEQJPuZ",
        "outputId": "f3f96673-79fd-41bb-8ceb-a2069441b01f"
      },
      "execution_count": 2,
      "outputs": [
        {
          "output_type": "stream",
          "name": "stdout",
          "text": [
            "How many test cases you want to run: 3\n",
            "Please input number 2\n",
            "2 4 6 8 10 12 14 16 18 20 \n",
            "\n",
            "Please input number 5\n",
            "5 10 15 20 25 30 35 40 45 50 \n",
            "\n",
            "Please input number 7\n",
            "7 14 21 28 35 42 49 56 63 70 \n",
            "\n"
          ]
        }
      ]
    }
  ]
}