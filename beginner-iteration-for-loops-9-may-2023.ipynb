{
  "nbformat": 4,
  "nbformat_minor": 0,
  "metadata": {
    "colab": {
      "provenance": [],
      "authorship_tag": "ABX9TyMIjpj+hXf1khpy41WWddDQ",
      "include_colab_link": true
    },
    "kernelspec": {
      "name": "python3",
      "display_name": "Python 3"
    },
    "language_info": {
      "name": "python"
    }
  },
  "cells": [
    {
      "cell_type": "markdown",
      "metadata": {
        "id": "view-in-github",
        "colab_type": "text"
      },
      "source": [
        "<a href=\"https://colab.research.google.com/gist/singhsidhukuldeep/09cc7d1870f147dadfe053f140ad1c80/beginner-iteration-for-loops-9-may-2023.ipynb\" target=\"_parent\"><img src=\"https://colab.research.google.com/assets/colab-badge.svg\" alt=\"Open In Colab\"/></a>"
      ]
    },
    {
      "cell_type": "markdown",
      "source": [
        "<center>\n",
        "\n",
        "![w1.gif](data:image/gif;base64,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)\n",
        "\n",
        "</center>"
      ],
      "metadata": {
        "id": "pAfklz2oHZot"
      }
    },
    {
      "cell_type": "code",
      "execution_count": 1,
      "metadata": {
        "colab": {
          "base_uri": "https://localhost:8080/"
        },
        "id": "Ex6J2uJ2G8Xc",
        "outputId": "926bda0e-a8c7-44c6-9a28-9875672397a7"
      },
      "outputs": [
        {
          "output_type": "stream",
          "name": "stdout",
          "text": [
            "2\n",
            "3\n",
            "4\n"
          ]
        }
      ],
      "source": [
        "# range\n",
        "for i in range(2,5):\n",
        "    print(i)"
      ]
    },
    {
      "cell_type": "code",
      "source": [
        "# range(end) >> 0,1,2, .... till end-1 # you did  not give step and step is 1 (default)\n",
        "for i in range(5):\n",
        "    print(i)"
      ],
      "metadata": {
        "id": "iHIZLeZ2RLcb"
      },
      "execution_count": null,
      "outputs": []
    },
    {
      "cell_type": "code",
      "source": [
        "# range(start, end) >> start,start+1,start+2, .... till end-1 # you did  not give step and step is 1 (default)\n",
        "for i in range(2,5):\n",
        "    print(i)"
      ],
      "metadata": {
        "colab": {
          "base_uri": "https://localhost:8080/"
        },
        "id": "gmc-fnhpRwRA",
        "outputId": "14f7a9b8-8efe-4ecc-c0f6-e09f2d7980f5"
      },
      "execution_count": 2,
      "outputs": [
        {
          "output_type": "stream",
          "name": "stdout",
          "text": [
            "2\n",
            "3\n",
            "4\n"
          ]
        }
      ]
    },
    {
      "cell_type": "code",
      "source": [
        "# range(start, end, step) >> start,start+step,start+step+step, .... till end-1 \n",
        "for i in range(3,15,2):\n",
        "    print(i)"
      ],
      "metadata": {
        "colab": {
          "base_uri": "https://localhost:8080/"
        },
        "id": "qD5CCwl4R8SU",
        "outputId": "a99d2490-e083-4c8f-8b77-9d3e986c57bc"
      },
      "execution_count": 3,
      "outputs": [
        {
          "output_type": "stream",
          "name": "stdout",
          "text": [
            "3\n",
            "5\n",
            "7\n",
            "9\n",
            "11\n",
            "13\n"
          ]
        }
      ]
    },
    {
      "cell_type": "code",
      "source": [
        "print(range(2,5))"
      ],
      "metadata": {
        "colab": {
          "base_uri": "https://localhost:8080/"
        },
        "id": "X_VOHynLSVG-",
        "outputId": "d226f0d4-1404-4e36-ef85-445e8fad492c"
      },
      "execution_count": 4,
      "outputs": [
        {
          "output_type": "stream",
          "name": "stdout",
          "text": [
            "range(2, 5)\n"
          ]
        }
      ]
    },
    {
      "cell_type": "code",
      "source": [
        "print(range(5))"
      ],
      "metadata": {
        "colab": {
          "base_uri": "https://localhost:8080/"
        },
        "id": "2eyf4y46SxRE",
        "outputId": "56b3ca9f-55fc-48e5-bd2f-f096183743c6"
      },
      "execution_count": 5,
      "outputs": [
        {
          "output_type": "stream",
          "name": "stdout",
          "text": [
            "range(0, 5)\n"
          ]
        }
      ]
    },
    {
      "cell_type": "code",
      "source": [
        "print(range(3,15,2))"
      ],
      "metadata": {
        "colab": {
          "base_uri": "https://localhost:8080/"
        },
        "id": "Ei9dr8mbS6X7",
        "outputId": "efd1b832-e932-4b66-adcc-b363afdca642"
      },
      "execution_count": 6,
      "outputs": [
        {
          "output_type": "stream",
          "name": "stdout",
          "text": [
            "range(3, 15, 2)\n"
          ]
        }
      ]
    },
    {
      "cell_type": "code",
      "source": [
        "print(range(2.5,5.5)) # start and end cannot be float"
      ],
      "metadata": {
        "colab": {
          "base_uri": "https://localhost:8080/",
          "height": 166
        },
        "id": "rOvLD5d4S7M-",
        "outputId": "94a2183a-3341-4d8a-995f-5af007852040"
      },
      "execution_count": 7,
      "outputs": [
        {
          "output_type": "error",
          "ename": "TypeError",
          "evalue": "ignored",
          "traceback": [
            "\u001b[0;31m---------------------------------------------------------------------------\u001b[0m",
            "\u001b[0;31mTypeError\u001b[0m                                 Traceback (most recent call last)",
            "\u001b[0;32m<ipython-input-7-61d196bef16d>\u001b[0m in \u001b[0;36m<cell line: 1>\u001b[0;34m()\u001b[0m\n\u001b[0;32m----> 1\u001b[0;31m \u001b[0mprint\u001b[0m\u001b[0;34m(\u001b[0m\u001b[0mrange\u001b[0m\u001b[0;34m(\u001b[0m\u001b[0;36m2.5\u001b[0m\u001b[0;34m,\u001b[0m\u001b[0;36m5.5\u001b[0m\u001b[0;34m)\u001b[0m\u001b[0;34m)\u001b[0m\u001b[0;34m\u001b[0m\u001b[0;34m\u001b[0m\u001b[0m\n\u001b[0m",
            "\u001b[0;31mTypeError\u001b[0m: 'float' object cannot be interpreted as an integer"
          ]
        }
      ]
    },
    {
      "cell_type": "code",
      "source": [
        "print(range(3,15,2.5))# step cannot be float"
      ],
      "metadata": {
        "colab": {
          "base_uri": "https://localhost:8080/",
          "height": 166
        },
        "id": "_6PRXis4TOBu",
        "outputId": "2a095df1-c9da-49a6-c835-2816251cbcbc"
      },
      "execution_count": 8,
      "outputs": [
        {
          "output_type": "error",
          "ename": "TypeError",
          "evalue": "ignored",
          "traceback": [
            "\u001b[0;31m---------------------------------------------------------------------------\u001b[0m",
            "\u001b[0;31mTypeError\u001b[0m                                 Traceback (most recent call last)",
            "\u001b[0;32m<ipython-input-8-3544e9eef694>\u001b[0m in \u001b[0;36m<cell line: 1>\u001b[0;34m()\u001b[0m\n\u001b[0;32m----> 1\u001b[0;31m \u001b[0mprint\u001b[0m\u001b[0;34m(\u001b[0m\u001b[0mrange\u001b[0m\u001b[0;34m(\u001b[0m\u001b[0;36m3\u001b[0m\u001b[0;34m,\u001b[0m\u001b[0;36m15\u001b[0m\u001b[0;34m,\u001b[0m\u001b[0;36m2.5\u001b[0m\u001b[0;34m)\u001b[0m\u001b[0;34m)\u001b[0m\u001b[0;34m\u001b[0m\u001b[0;34m\u001b[0m\u001b[0m\n\u001b[0m",
            "\u001b[0;31mTypeError\u001b[0m: 'float' object cannot be interpreted as an integer"
          ]
        }
      ]
    },
    {
      "cell_type": "code",
      "source": [
        "print(range(3,15,0))"
      ],
      "metadata": {
        "colab": {
          "base_uri": "https://localhost:8080/",
          "height": 166
        },
        "id": "8VBQyD2iTVO3",
        "outputId": "e99099cf-de23-4d1b-bc46-64533ae2865c"
      },
      "execution_count": 9,
      "outputs": [
        {
          "output_type": "error",
          "ename": "ValueError",
          "evalue": "ignored",
          "traceback": [
            "\u001b[0;31m---------------------------------------------------------------------------\u001b[0m",
            "\u001b[0;31mValueError\u001b[0m                                Traceback (most recent call last)",
            "\u001b[0;32m<ipython-input-9-8eacd9d7a77f>\u001b[0m in \u001b[0;36m<cell line: 1>\u001b[0;34m()\u001b[0m\n\u001b[0;32m----> 1\u001b[0;31m \u001b[0mprint\u001b[0m\u001b[0;34m(\u001b[0m\u001b[0mrange\u001b[0m\u001b[0;34m(\u001b[0m\u001b[0;36m3\u001b[0m\u001b[0;34m,\u001b[0m\u001b[0;36m15\u001b[0m\u001b[0;34m,\u001b[0m\u001b[0;36m0\u001b[0m\u001b[0;34m)\u001b[0m\u001b[0;34m)\u001b[0m\u001b[0;34m\u001b[0m\u001b[0;34m\u001b[0m\u001b[0m\n\u001b[0m",
            "\u001b[0;31mValueError\u001b[0m: range() arg 3 must not be zero"
          ]
        }
      ]
    },
    {
      "cell_type": "code",
      "source": [
        "for i in range(13,1,-2):\n",
        "    print(i)"
      ],
      "metadata": {
        "colab": {
          "base_uri": "https://localhost:8080/"
        },
        "id": "drwTms3BT4Ih",
        "outputId": "99e70926-c20e-40bf-eb1a-0f4d769d2255"
      },
      "execution_count": 10,
      "outputs": [
        {
          "output_type": "stream",
          "name": "stdout",
          "text": [
            "13\n",
            "11\n",
            "9\n",
            "7\n",
            "5\n",
            "3\n"
          ]
        }
      ]
    },
    {
      "cell_type": "code",
      "source": [
        "for i in range(13,1,-2):\n",
        "    print(i, end= \" \")"
      ],
      "metadata": {
        "colab": {
          "base_uri": "https://localhost:8080/"
        },
        "id": "po0s8z3OUC1l",
        "outputId": "93a296fd-0944-44f3-9921-bfb48ae72d3f"
      },
      "execution_count": 11,
      "outputs": [
        {
          "output_type": "stream",
          "name": "stdout",
          "text": [
            "13 11 9 7 5 3 "
          ]
        }
      ]
    },
    {
      "cell_type": "code",
      "source": [
        "# if you ever want to include last item in for loop using range\n",
        "# range(start, end(end + step), step)"
      ],
      "metadata": {
        "id": "RezXU5_cUg4h"
      },
      "execution_count": null,
      "outputs": []
    },
    {
      "cell_type": "code",
      "source": [
        "print(len(range(5)))"
      ],
      "metadata": {
        "colab": {
          "base_uri": "https://localhost:8080/"
        },
        "id": "aGUgAvNtUKIw",
        "outputId": "b62c9fc0-b95d-48c4-8743-73bebf1f1ab6"
      },
      "execution_count": 12,
      "outputs": [
        {
          "output_type": "stream",
          "name": "stdout",
          "text": [
            "5\n"
          ]
        }
      ]
    },
    {
      "cell_type": "code",
      "source": [
        "print(len(range(2,5)))"
      ],
      "metadata": {
        "colab": {
          "base_uri": "https://localhost:8080/"
        },
        "id": "j5UKNm32VNkT",
        "outputId": "ce48560a-8a44-4e29-f398-08df595d0361"
      },
      "execution_count": 13,
      "outputs": [
        {
          "output_type": "stream",
          "name": "stdout",
          "text": [
            "3\n"
          ]
        }
      ]
    },
    {
      "cell_type": "code",
      "source": [
        "print(len(range(2,15,3)))"
      ],
      "metadata": {
        "colab": {
          "base_uri": "https://localhost:8080/"
        },
        "id": "C168OpvHVSVb",
        "outputId": "234b55a7-4c53-43d4-ee75-8bb467c581ec"
      },
      "execution_count": 14,
      "outputs": [
        {
          "output_type": "stream",
          "name": "stdout",
          "text": [
            "5\n"
          ]
        }
      ]
    },
    {
      "cell_type": "code",
      "source": [
        "print(len(range(2,15,-3)))"
      ],
      "metadata": {
        "colab": {
          "base_uri": "https://localhost:8080/"
        },
        "id": "uxrirDJyVeMd",
        "outputId": "9bdb9f35-975a-4979-d541-de8a41e0cf1e"
      },
      "execution_count": 15,
      "outputs": [
        {
          "output_type": "stream",
          "name": "stdout",
          "text": [
            "0\n"
          ]
        }
      ]
    },
    {
      "cell_type": "code",
      "source": [
        "print('RUNNING 🏃‍♂️💨')\n",
        "\n",
        "for i in range(2,15,-3):\n",
        "    print(i)\n",
        "print('RAN 🤣')"
      ],
      "metadata": {
        "colab": {
          "base_uri": "https://localhost:8080/"
        },
        "id": "2MrocoQnV3qK",
        "outputId": "d7a3e046-195b-4ccc-ca97-880ab891353c"
      },
      "execution_count": 18,
      "outputs": [
        {
          "output_type": "stream",
          "name": "stdout",
          "text": [
            "RUNNING 🏃‍♂️💨\n",
            "RAN 🤣\n"
          ]
        }
      ]
    },
    {
      "cell_type": "code",
      "source": [
        "'''\n",
        "Question 1 - \n",
        "Print all integers from 1 to N using for loop. (N to be included)\n",
        "Take N as input from the user.\n",
        "'''\n",
        "'''\n",
        "Input is 4\n",
        "Output will be 1 2 3 4 \n",
        "'''"
      ],
      "metadata": {
        "id": "vB_MLNEGV5qf"
      },
      "execution_count": null,
      "outputs": []
    },
    {
      "cell_type": "code",
      "source": [
        "n = int(input())\n",
        "\n",
        "for i in range(n):\n",
        "    print(i+1, end = \" \")"
      ],
      "metadata": {
        "colab": {
          "base_uri": "https://localhost:8080/"
        },
        "id": "drqMl_TPXyaf",
        "outputId": "13014100-24f4-4506-d4e3-e8fc44a3bed8"
      },
      "execution_count": 21,
      "outputs": [
        {
          "output_type": "stream",
          "name": "stdout",
          "text": [
            "4\n",
            "1 2 3 4 "
          ]
        }
      ]
    },
    {
      "cell_type": "code",
      "source": [
        "n = int(input())\n",
        "\n",
        "for i in range(1,n+1):\n",
        "    print(i, end = \" \")\n",
        "print(\"My for loop ended with i\", i)"
      ],
      "metadata": {
        "colab": {
          "base_uri": "https://localhost:8080/"
        },
        "id": "3MFTjFWTX6Ag",
        "outputId": "71c0f162-c503-4abc-99d7-75d9fa8e401b"
      },
      "execution_count": 23,
      "outputs": [
        {
          "output_type": "stream",
          "name": "stdout",
          "text": [
            "4\n",
            "1 2 3 4 My for loop ended with i 4\n"
          ]
        }
      ]
    },
    {
      "cell_type": "code",
      "source": [
        "'''\n",
        "Question 2 - \n",
        "Take N as input from the user.\n",
        "Calculate the sum of all numbers from 1 to N (N is included).\n",
        "ONLY USE for LOOP AND range\n",
        "'''\n"
      ],
      "metadata": {
        "id": "mwe-8LfSYRc4"
      },
      "execution_count": null,
      "outputs": []
    },
    {
      "cell_type": "code",
      "source": [
        "# 1 get the input\n",
        "n = int(input())\n",
        "\n",
        "# 3 start the total with intital value as 0\n",
        "total = 0\n",
        "\n",
        "# 2 loop over the range\n",
        "for i in range(1,n+1):\n",
        "    print(i, total)\n",
        "    # 4 update the total in the loop\n",
        "    total = total +i\n",
        "\n",
        "\n",
        "# 5 print the total\n",
        "print('--------------------------')\n",
        "print(total)"
      ],
      "metadata": {
        "colab": {
          "base_uri": "https://localhost:8080/"
        },
        "id": "vXCjL6jVaKbg",
        "outputId": "fbdeb919-0854-4014-a0ec-9fa281f48130"
      },
      "execution_count": 25,
      "outputs": [
        {
          "output_type": "stream",
          "name": "stdout",
          "text": [
            "4\n",
            "1 0\n",
            "2 1\n",
            "3 3\n",
            "4 6\n",
            "--------------------------\n",
            "10\n"
          ]
        }
      ]
    },
    {
      "cell_type": "code",
      "source": [
        "n = int(input())\n",
        "\n",
        "total = 0\n",
        "\n",
        "for i in range(1,n+1):\n",
        "    total = total +i\n",
        "\n",
        "\n",
        "print(total)"
      ],
      "metadata": {
        "colab": {
          "base_uri": "https://localhost:8080/"
        },
        "id": "zsAhKX9Ma35m",
        "outputId": "f5983b64-31ac-443d-bfa5-b05366865d7b"
      },
      "execution_count": 26,
      "outputs": [
        {
          "output_type": "stream",
          "name": "stdout",
          "text": [
            "4\n",
            "10\n"
          ]
        }
      ]
    },
    {
      "cell_type": "code",
      "source": [
        "n = int(input())\n",
        "\n",
        "total = 0\n",
        "\n",
        "for i in range(1,n+1):\n",
        "    total = total +i\n",
        "    print(total)\n",
        "\n",
        "print(total)"
      ],
      "metadata": {
        "colab": {
          "base_uri": "https://localhost:8080/"
        },
        "id": "jtkIll4LbChV",
        "outputId": "f15a0e7e-8b09-489f-ed41-63300383e1eb"
      },
      "execution_count": 27,
      "outputs": [
        {
          "output_type": "stream",
          "name": "stdout",
          "text": [
            "4\n",
            "1\n",
            "3\n",
            "6\n",
            "10\n",
            "10\n"
          ]
        }
      ]
    },
    {
      "cell_type": "code",
      "source": [
        "'''\n",
        "Question 3 - \n",
        "FACTORIAL ->\n",
        "Take N an input from the user.\n",
        "Calculate the product of all numbers from 1 to N (N is included).\n",
        "'''\n",
        "'''\n",
        "1 > 1\n",
        "2 > 2\n",
        "3 > 6\n",
        "4 > 24\n",
        "'''"
      ],
      "metadata": {
        "id": "L06QvDQ-bgqU"
      },
      "execution_count": null,
      "outputs": []
    },
    {
      "cell_type": "code",
      "source": [
        "n = int(input())\n",
        "\n",
        "factorial = 1\n",
        "\n",
        "for i in range(1,n+1):\n",
        "    factorial = factorial*i\n",
        "print(factorial)"
      ],
      "metadata": {
        "colab": {
          "base_uri": "https://localhost:8080/"
        },
        "id": "T4kVnB-YcRgd",
        "outputId": "9e554793-543c-4355-f63d-ba4e9a3e44ed"
      },
      "execution_count": 29,
      "outputs": [
        {
          "output_type": "stream",
          "name": "stdout",
          "text": [
            "4\n",
            "24\n"
          ]
        }
      ]
    },
    {
      "cell_type": "code",
      "source": [
        "# LOOP\n",
        "# 1\n",
        "# 2\n",
        "# 3\n",
        "# 4\n",
        "# 5\n",
        "\n",
        "# factorial start\n",
        "# Factorial =1\n",
        "\n",
        "# factoial update\n",
        "# Factorial = Factorial *i\n",
        "\n",
        "#                                Factorial *i= new factorial\n",
        "# loop over 1, factotial will be 1*1=1\n",
        "# loop over 2, factotial will be 1*2=2\n",
        "# loop over 3, factotial will be 2*3=6\n",
        "# loop over 4, factotial will be 6*4=24"
      ],
      "metadata": {
        "id": "1J17XCpIc2k4"
      },
      "execution_count": null,
      "outputs": []
    },
    {
      "cell_type": "code",
      "source": [
        "'''\n",
        "Question 4 - \n",
        "Take N as input from the user.\n",
        "Calculate the product of all even numbers between 1 and N. Both included.\n",
        "'''"
      ],
      "metadata": {
        "id": "5nT0pSJqdsso"
      },
      "execution_count": null,
      "outputs": []
    },
    {
      "cell_type": "code",
      "source": [
        "# soultion 2 (efficient)\n",
        "n = int(input())\n",
        "\n",
        "factorial = 1\n",
        "\n",
        "for i in range(2,n+1,2):\n",
        "    factorial = factorial*i\n",
        "print(factorial)"
      ],
      "metadata": {
        "colab": {
          "base_uri": "https://localhost:8080/"
        },
        "id": "zL68lVD7e9qL",
        "outputId": "b464bf9f-156c-49e8-8fe2-182aa752e8ea"
      },
      "execution_count": 32,
      "outputs": [
        {
          "output_type": "stream",
          "name": "stdout",
          "text": [
            "6\n",
            "48\n"
          ]
        }
      ]
    },
    {
      "cell_type": "code",
      "source": [
        "# soultion 1 (in-efficient)\n",
        "n = int(input())\n",
        "\n",
        "factorial = 1\n",
        "\n",
        "for i in range(1,n+1):\n",
        "    if i%2==0:\n",
        "        factorial = factorial*i\n",
        "print(factorial)"
      ],
      "metadata": {
        "colab": {
          "base_uri": "https://localhost:8080/"
        },
        "id": "e2KqBYmueoTY",
        "outputId": "b4d0c523-c8e7-4d36-cad1-bbfcc916a2d4"
      },
      "execution_count": 31,
      "outputs": [
        {
          "output_type": "stream",
          "name": "stdout",
          "text": [
            "6\n",
            "48\n"
          ]
        }
      ]
    },
    {
      "cell_type": "code",
      "source": [
        "'''\n",
        "Question 5 - \n",
        "Take start and end as input from the user.\n",
        "Calculate the product of all even numbers between start and end.\n",
        "Both included.\n",
        "\n",
        "GIVEN - Both start and end will be greater than 0.\n",
        "'''"
      ],
      "metadata": {
        "id": "XRPR5SnwfrdU"
      },
      "execution_count": null,
      "outputs": []
    },
    {
      "cell_type": "code",
      "source": [
        "# soultion 2 (efficient)\n",
        "start = int(input())\n",
        "n = int(input())\n",
        "\n",
        "if start%2 == 0:\n",
        "    new_start = start\n",
        "else:\n",
        "    new_start = start+1\n",
        "\n",
        "factorial = 1\n",
        "print('The number of times the loop will run is: ', len(range(new_start,n+1,2)))\n",
        "for i in range(new_start,n+1,2):\n",
        "    factorial = factorial*i\n",
        "print(factorial)"
      ],
      "metadata": {
        "colab": {
          "base_uri": "https://localhost:8080/"
        },
        "id": "16xYNEepint3",
        "outputId": "a61690e9-8aa2-447e-c695-b7186dafa8a2"
      },
      "execution_count": 36,
      "outputs": [
        {
          "output_type": "stream",
          "name": "stdout",
          "text": [
            "5\n",
            "10\n",
            "The number of times the loop will run is:  3\n",
            "480\n"
          ]
        }
      ]
    },
    {
      "cell_type": "code",
      "source": [
        "# soultion 1 (in-efficient)\n",
        "start = int(input())\n",
        "n = int(input())\n",
        "\n",
        "factorial = 1\n",
        "print('The number of times the loop will run is: ', len(range(start,n+1)))\n",
        "for i in range(start,n+1):\n",
        "    if i%2==0:\n",
        "        factorial = factorial*i\n",
        "print(factorial)\n",
        "# 5-10\n",
        "# 5 6 7 8 9 10\n",
        "# 6 * 8 * 10"
      ],
      "metadata": {
        "colab": {
          "base_uri": "https://localhost:8080/"
        },
        "id": "UXBfGyyCiI7t",
        "outputId": "baa4c104-7cae-440f-d798-95070f2d5336"
      },
      "execution_count": 35,
      "outputs": [
        {
          "output_type": "stream",
          "name": "stdout",
          "text": [
            "5\n",
            "10\n",
            "The number of times the loop will run is:  6\n",
            "480\n"
          ]
        }
      ]
    },
    {
      "cell_type": "code",
      "source": [
        "'''\n",
        "Question 6 -\n",
        "Print all the numbers from an input N to 1 in reverse order.\n",
        "N > 1 -> Given\n",
        "'''"
      ],
      "metadata": {
        "id": "SDqzhk_cj-I2"
      },
      "execution_count": null,
      "outputs": []
    },
    {
      "cell_type": "code",
      "source": [
        "n = int(input())\n",
        "\n",
        "for i in range(n,0, -1):\n",
        "    print(i, end = \" \")"
      ],
      "metadata": {
        "colab": {
          "base_uri": "https://localhost:8080/"
        },
        "id": "_cdfBTa2kvz7",
        "outputId": "53706bc9-2983-497e-ebb7-e16f99d582fe"
      },
      "execution_count": 38,
      "outputs": [
        {
          "output_type": "stream",
          "name": "stdout",
          "text": [
            "5\n",
            "5 4 3 2 1 "
          ]
        }
      ]
    },
    {
      "cell_type": "code",
      "source": [
        "'''\n",
        "Question 7 -\n",
        "Print all the numbers from an input N to 1 in reverse order.\n",
        ">>   Without using a negative step/jump!\n",
        "N > 1 -> Given\n",
        "'''"
      ],
      "metadata": {
        "id": "UXHjLepdlOqH"
      },
      "execution_count": null,
      "outputs": []
    },
    {
      "cell_type": "code",
      "source": [
        "n = int(input())\n",
        "for i in range(n):\n",
        "    print(n-i, end = \" \")"
      ],
      "metadata": {
        "colab": {
          "base_uri": "https://localhost:8080/"
        },
        "id": "Wd6mKJPNmvdg",
        "outputId": "73b4ea48-4f31-403a-8b98-b153a323be11"
      },
      "execution_count": 39,
      "outputs": [
        {
          "output_type": "stream",
          "name": "stdout",
          "text": [
            "5\n",
            "5 4 3 2 1 "
          ]
        }
      ]
    },
    {
      "cell_type": "code",
      "source": [
        "n = int(input())\n",
        "for i in range(-n,0):\n",
        "    print(-i, end = \" \")"
      ],
      "metadata": {
        "colab": {
          "base_uri": "https://localhost:8080/"
        },
        "id": "iCXN-5-rm3Ks",
        "outputId": "bd90475f-ede1-4518-a536-1d7be585891e"
      },
      "execution_count": 40,
      "outputs": [
        {
          "output_type": "stream",
          "name": "stdout",
          "text": [
            "5\n",
            "5 4 3 2 1 "
          ]
        }
      ]
    },
    {
      "cell_type": "code",
      "source": [
        "# str are also iterable in python\n",
        "name = 'Cristiano Ronaldo'\n",
        "for i in name:\n",
        "    print(i)"
      ],
      "metadata": {
        "colab": {
          "base_uri": "https://localhost:8080/"
        },
        "id": "95blpZ7YoauU",
        "outputId": "359d0d1e-1ebe-4abc-9e5e-2f82b8db75fd"
      },
      "execution_count": 42,
      "outputs": [
        {
          "output_type": "stream",
          "name": "stdout",
          "text": [
            "C\n",
            "r\n",
            "i\n",
            "s\n",
            "t\n",
            "i\n",
            "a\n",
            "n\n",
            "o\n",
            " \n",
            "R\n",
            "o\n",
            "n\n",
            "a\n",
            "l\n",
            "d\n",
            "o\n"
          ]
        }
      ]
    },
    {
      "cell_type": "code",
      "source": [
        "name = 'Cristiano Ronaldo'\n",
        "print(len(name))"
      ],
      "metadata": {
        "colab": {
          "base_uri": "https://localhost:8080/"
        },
        "id": "nku0STKJomGD",
        "outputId": "ee9c3104-0791-4113-a8cd-8e55ecf5cb3d"
      },
      "execution_count": 43,
      "outputs": [
        {
          "output_type": "stream",
          "name": "stdout",
          "text": [
            "17\n"
          ]
        }
      ]
    },
    {
      "cell_type": "code",
      "source": [],
      "metadata": {
        "id": "H8P_KZ0Zoyks"
      },
      "execution_count": null,
      "outputs": []
    }
  ]
}