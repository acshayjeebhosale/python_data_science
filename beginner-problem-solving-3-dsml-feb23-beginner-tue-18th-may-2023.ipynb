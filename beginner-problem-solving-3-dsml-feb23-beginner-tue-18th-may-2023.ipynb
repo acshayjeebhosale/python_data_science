{
  "nbformat": 4,
  "nbformat_minor": 0,
  "metadata": {
    "colab": {
      "provenance": [],
      "authorship_tag": "ABX9TyPmF/yzAsUxJUjzlIGAuBmo",
      "include_colab_link": true
    },
    "kernelspec": {
      "name": "python3",
      "display_name": "Python 3"
    },
    "language_info": {
      "name": "python"
    }
  },
  "cells": [
    {
      "cell_type": "markdown",
      "metadata": {
        "id": "view-in-github",
        "colab_type": "text"
      },
      "source": [
        "<a href=\"https://colab.research.google.com/gist/singhsidhukuldeep/edc1242d769b61e09b81cc436ac56eb3/beginner-problem-solving-3-dsml-feb23-beginner-tue-18th-may-2023.ipynb\" target=\"_parent\"><img src=\"https://colab.research.google.com/assets/colab-badge.svg\" alt=\"Open In Colab\"/></a>"
      ]
    },
    {
      "cell_type": "markdown",
      "source": [
        "## Full Numeric Pyramid\n"
      ],
      "metadata": {
        "id": "7CufxDfPYPX9"
      }
    },
    {
      "cell_type": "markdown",
      "source": [
        "\n",
        "Problem Description\n",
        "\n",
        "Given an integer N as input, print the corresponding Full Numeric Pyramid pattern for N.\n",
        "\n",
        "For example if N = 5 then pattern will be like:\n",
        "```\n",
        "0 0 0 0 1 0 0 0 0 \n",
        "0 0 0 2 3 2 0 0 0 \n",
        "0 0 3 4 5 4 3 0 0\n",
        "0 4 5 6 7 6 5 4 0\n",
        "5 6 7 8 9 8 7 6 5 \n",
        "```"
      ],
      "metadata": {
        "id": "uinBVKm0ayDb"
      }
    },
    {
      "cell_type": "code",
      "execution_count": 9,
      "metadata": {
        "colab": {
          "base_uri": "https://localhost:8080/"
        },
        "id": "Zlk1sOpIYOjl",
        "outputId": "53b41808-b6a3-4cf6-9ef7-4eef84f0f025"
      },
      "outputs": [
        {
          "output_type": "stream",
          "name": "stdout",
          "text": [
            "5\n",
            "0 0 0 0 1 0 0 0 0 \n",
            "0 0 0 2 3 2 0 0 0 \n",
            "0 0 3 4 5 4 3 0 0 \n",
            "0 4 5 6 7 6 5 4 0 \n",
            "5 6 7 8 9 8 7 6 5 \n"
          ]
        }
      ],
      "source": [
        "# input\n",
        "n = int(input())\n",
        "\n",
        "# looping over rows\n",
        "for i in range(n):\n",
        "    \n",
        "    # left 0s\n",
        "    for j in range(0,n-1-i):\n",
        "        print(0, end=' ')\n",
        "    \n",
        "    # left inc nums\n",
        "    for j in range(i+1,2*i+1):\n",
        "        print(j, end=\" \")\n",
        "\n",
        "    # middle nums\n",
        "    print(i*2+1, end=\" \")\n",
        "\n",
        "    # right dec nums\n",
        "    for j in range(2*i,i, -1):\n",
        "        print(j, end=\" \")\n",
        "\n",
        "    # right 0s\n",
        "    for j in range(0,n-1-i):\n",
        "        print(0, end=' ')\n",
        "\n",
        "    print()# new line after done with the row"
      ]
    },
    {
      "cell_type": "markdown",
      "source": [
        "## Different Number Triangle"
      ],
      "metadata": {
        "id": "62T-CgbyYVgY"
      }
    },
    {
      "cell_type": "markdown",
      "source": [
        "Problem Description\n",
        "Take an integer N as input, print the corresponding Full Numeric Pyramid pattern for N.\n",
        "\n",
        "For example if N = 5 then pattern will be like:\n",
        "```\n",
        "0 0 0 0 5 0  0  0  0 \n",
        "0 0 0 4 8 12 0  0  0 \n",
        "0 0 3 6 9 12 15 0  0\n",
        "0 2 4 6 8 10 12 14 0\n",
        "1 2 3 4 5 6  7  8  9 \n",
        "```\n",
        "```\n",
        "0 0 0 0 5 0 0 0 0 \n",
        "0 0 0 4 8 12 0 0 0 \n",
        "0 0 3 6 9 12 15 0 0 \n",
        "0 2 4 6 8 10 12 14 0 \n",
        "1 2 3 4 5 6 7 8 9 \n",
        "```"
      ],
      "metadata": {
        "id": "yDo_ZNBTapvB"
      }
    },
    {
      "cell_type": "code",
      "source": [
        "# input\n",
        "n = int(input())\n",
        "\n",
        "# loop for the rows\n",
        "for i in range(n):\n",
        "    # left 0s\n",
        "    print(\"0 \"*(n-i-1), end=\"\")\n",
        "\n",
        "    # table in the middle\n",
        "    table_of = n-i\n",
        "    table_till = 2*i+1\n",
        "    for j in range(1, table_till+1):\n",
        "        print(table_of*j, end=\" \")\n",
        "\n",
        "    # right 0s\n",
        "    print(\"0 \"*(n-i-1), end=\"\")\n",
        "\n",
        "    print() # going to a new line to create the next row"
      ],
      "metadata": {
        "colab": {
          "base_uri": "https://localhost:8080/"
        },
        "id": "6c5NezGFZeT8",
        "outputId": "c996fe78-7c25-43a6-9e8e-3534b2117db5"
      },
      "execution_count": 14,
      "outputs": [
        {
          "output_type": "stream",
          "name": "stdout",
          "text": [
            "5\n",
            "0 0 0 0 5 0 0 0 0 \n",
            "0 0 0 4 8 12 0 0 0 \n",
            "0 0 3 6 9 12 15 0 0 \n",
            "0 2 4 6 8 10 12 14 0 \n",
            "1 2 3 4 5 6 7 8 9 \n"
          ]
        }
      ]
    },
    {
      "cell_type": "markdown",
      "source": [
        "## Palindromic Integer\n",
        "\n"
      ],
      "metadata": {
        "id": "rdUYrIL2aICK"
      }
    },
    {
      "cell_type": "markdown",
      "source": [
        "Problem Description\n",
        "You are given an integer A as input and you need to determine whether it is a palindrome or not.\n",
        "\n",
        "A palindrome integer is one whose digits, when reversed, result in the same number.\n",
        "\n",
        "For example, `121` is a palindrome because its reverse is also `121`, but `123` is not a palindrome because its reverse is `321`.\n",
        "\n",
        "Note: The given integer will not have any leading zeros."
      ],
      "metadata": {
        "id": "wH3nb95Kasjz"
      }
    },
    {
      "cell_type": "code",
      "source": [
        "n = int(input())\n",
        "n_old = n\n",
        "new_num = 0\n",
        "while n!=0:\n",
        "    ld = n%10\n",
        "    new_num = new_num*10+ld\n",
        "    print(ld, new_num)\n",
        "    n = n//10\n",
        "if new_num==n_old:\n",
        "    print(\"😁 It's a palindrome\")\n",
        "else:\n",
        "    print(\"😯 it's NOT a palindrome\")"
      ],
      "metadata": {
        "colab": {
          "base_uri": "https://localhost:8080/"
        },
        "id": "HvKfIn19aL9q",
        "outputId": "a386d719-44cf-47bc-92b1-79cd53d8baab"
      },
      "execution_count": 20,
      "outputs": [
        {
          "output_type": "stream",
          "name": "stdout",
          "text": [
            "32123\n",
            "3 3\n",
            "2 32\n",
            "1 321\n",
            "2 3212\n",
            "3 32123\n",
            "😁 It's a palindrome\n"
          ]
        }
      ]
    },
    {
      "cell_type": "markdown",
      "source": [
        "![](https://media.tenor.com/X--Par6HJjsAAAAC/thanos-this-does-put-smile-on-my-face.gif)"
      ],
      "metadata": {
        "id": "-H65GiQ5xyS6"
      }
    },
    {
      "cell_type": "markdown",
      "source": [
        "## Integer in Words Python\n"
      ],
      "metadata": {
        "id": "Eh4_qvgHadnF"
      }
    },
    {
      "cell_type": "markdown",
      "source": [
        "Problem Description\n",
        "\n",
        "You are given an integer A. You have to print A in word form.\n",
        "\n",
        "Following are the words which should be replaced in place of a digit:\n",
        "```\n",
        "For digit = 0, word = zero\n",
        "For digit = 1, word = one\n",
        "For digit = 2, word = two\n",
        "For digit = 3, word = three\n",
        "For digit = 4, word = four\n",
        "For digit = 5, word = five\n",
        "For digit = 6, word = six\n",
        "For digit = 7, word = seven\n",
        "For digit = 8, word = eight\n",
        "For digit = 9, word = nine\n",
        "```\n",
        "\n",
        "For eg., If `A = 2634`, you should print `two six three four`.\n",
        "\n",
        "NOTE: Words should be seperated by a single space. Also, the output is case sensitive."
      ],
      "metadata": {
        "id": "WKBLGRdWavFf"
      }
    },
    {
      "cell_type": "code",
      "source": [
        "n = int(input())\n",
        "output = \"\"\n",
        "while n!=0:\n",
        "    ld = n%10\n",
        "    print(ld)\n",
        "    if ld ==0:\n",
        "        output = \"zero\"+\" \"+output\n",
        "    elif ld ==1:\n",
        "        output = \"one\"+\" \"+output\n",
        "    elif ld ==2:\n",
        "        output = \"two\"+\" \"+output\n",
        "    elif ld ==3:\n",
        "        output = \"three\"+\" \"+output\n",
        "    elif ld ==4:\n",
        "        output = \"four\"+\" \"+output\n",
        "    elif ld ==5:\n",
        "        output = \"five\"+\" \"+output\n",
        "    elif ld ==6:\n",
        "        output = \"six\"+\" \"+output\n",
        "    elif ld ==7:\n",
        "        output = \"seven\"+\" \"+output\n",
        "    elif ld ==8:\n",
        "        output = \"eight\"+\" \"+output\n",
        "    elif ld ==9:\n",
        "        output = \"nine\"+\" \"+output\n",
        "    n=n//10\n",
        "print(output)"
      ],
      "metadata": {
        "colab": {
          "base_uri": "https://localhost:8080/"
        },
        "id": "AWQrTs0UahYq",
        "outputId": "fa52699a-96e4-4140-d1d0-6d3218326675"
      },
      "execution_count": 24,
      "outputs": [
        {
          "output_type": "stream",
          "name": "stdout",
          "text": [
            "2634\n",
            "4\n",
            "3\n",
            "6\n",
            "2\n",
            "two six three four \n"
          ]
        }
      ]
    },
    {
      "cell_type": "code",
      "source": [
        "\n",
        "n = 1234\n",
        "num_d = 4\n",
        "fd = n//(10**(num_d-1))\n",
        "print(fd)\n",
        "n = n%(10**(num_d-1))\n",
        "print(n)"
      ],
      "metadata": {
        "colab": {
          "base_uri": "https://localhost:8080/"
        },
        "id": "ZVRTzLmH1Qce",
        "outputId": "d18e26bb-a854-411d-8c82-68cc3af623f8"
      },
      "execution_count": 26,
      "outputs": [
        {
          "output_type": "stream",
          "name": "stdout",
          "text": [
            "1\n",
            "234\n"
          ]
        }
      ]
    },
    {
      "cell_type": "markdown",
      "source": [
        "## Perfect Numbers - II"
      ],
      "metadata": {
        "id": "77gZ07LRbQv4"
      }
    },
    {
      "cell_type": "markdown",
      "source": [
        "**Problem Description**\n",
        "\n",
        "Take an integer **A** as input.\n",
        "\n",
        "You have to print all the **perfect numbers** which lie in the range **[1, A]** in ascending order.\n",
        "\n",
        "**Perfect number** is a positive integer which is equal to the sum of its proper positive divisors.\n",
        "\n",
        "A **proper divisor** of a natural number is the divisor that is strictly less than the number.\\\n",
        "**Problem Constraints**\n",
        "\n",
        "1 <= **A** <= 1000\n",
        "\n",
        "**Input Format**\n",
        "\n",
        "First and only line of the input contains a single positive integer **A**.\n",
        "\n",
        "**Output Format**\n",
        "\n",
        "Print the perfect numbers in ascending order in separate lines.\n",
        "\n",
        "**Example Input**\n",
        "```\n",
        "Input 1:\n",
        "\n",
        " 8\n",
        "\n",
        "Input 2:\n",
        "\n",
        " 35\n",
        "```\n",
        "**Example Output**\n",
        "```\n",
        "Output 1:\n",
        "\n",
        " 6\n",
        "\n",
        "Output 2:\n",
        "\n",
        " 6\n",
        " 28\n",
        "```\n",
        "**Example Explanation**\n",
        "```\n",
        "Explanation 1:\n",
        "\n",
        " For A = 8,\n",
        " In the range [1, 8], only 6 can be written as sum of its proper divisors, i.e. 6 = 1 + 2 + 3.\n",
        "```\n",
        "```\n",
        "Explanation 2:\n",
        "\n",
        " For A = 35,\n",
        " Perfect numbers 6 and 28, lie in the range [1, 35].\n",
        " 28  >> 1, 2, 4, 7, 14\n",
        "```"
      ],
      "metadata": {
        "id": "VY4wEaR6bNkm"
      }
    },
    {
      "cell_type": "code",
      "source": [
        "A = int(input())\n",
        "for i in range(1,A+1):\n",
        "    s = 0\n",
        "    for j in range(1,i):\n",
        "        if i%j==0:\n",
        "            s+=j\n",
        "    if s==i:\n",
        "        print(i)"
      ],
      "metadata": {
        "colab": {
          "base_uri": "https://localhost:8080/"
        },
        "id": "a43cX45cbOIL",
        "outputId": "73af8ad0-e7fa-41ff-997a-f224aa00d165"
      },
      "execution_count": 28,
      "outputs": [
        {
          "output_type": "stream",
          "name": "stdout",
          "text": [
            "35\n",
            "6\n",
            "28\n"
          ]
        }
      ]
    },
    {
      "cell_type": "markdown",
      "source": [
        "## Sum Of Odds - Easy\n"
      ],
      "metadata": {
        "id": "wQWmoZgubgAO"
      }
    },
    {
      "cell_type": "markdown",
      "source": [
        "Problem Description\n",
        "You are given an integer A, you need to find and \n",
        "return the sum of all the odd numbers between 1 and A \n",
        "\n",
        "`[1, A] (both inclusive)`\n",
        "\n",
        "Odd numbers are those numbers that are not divisible by 2."
      ],
      "metadata": {
        "id": "tEyWYVGebjNn"
      }
    },
    {
      "cell_type": "code",
      "source": [
        "A = int(input())\n",
        "s = 0\n",
        "for i in range(1,A+1,2):\n",
        "    s+=i\n",
        "print(s)"
      ],
      "metadata": {
        "colab": {
          "base_uri": "https://localhost:8080/"
        },
        "id": "_588J0D-bi3T",
        "outputId": "672fcebe-d5ec-4d55-c398-9861e0c638eb"
      },
      "execution_count": 29,
      "outputs": [
        {
          "output_type": "stream",
          "name": "stdout",
          "text": [
            "5\n",
            "9\n"
          ]
        }
      ]
    },
    {
      "cell_type": "code",
      "source": [
        "def solution(A):\n",
        "    ## write your code here\n",
        "    s = 0\n",
        "    for i in range(1,A+1,2):\n",
        "        s+=i\n",
        "    print(s)\n",
        "    return s"
      ],
      "metadata": {
        "id": "JuheTRk16OvY"
      },
      "execution_count": null,
      "outputs": []
    },
    {
      "cell_type": "markdown",
      "source": [
        "## Sum the digits"
      ],
      "metadata": {
        "id": "kfzpIAfNcGIC"
      }
    },
    {
      "cell_type": "markdown",
      "source": [
        "\n",
        "\n",
        "**Problem Description**\\\n",
        "Take T (number of test cases) as input.\\\n",
        "For each test case, take integer N as input and Print the sum of digits of that number.\n",
        "\n",
        "**Problem Constraints**\n",
        "\n",
        "```\n",
        "1 <= T <= 1000\n",
        "0 <= N <= 100000000\n",
        "\n",
        "```\n",
        "\n",
        "**Input Format**\n",
        "\n",
        "```\n",
        "The first line is T which means the total number of test cases.\n",
        "Each of the next T lines contain an integer N.\n",
        "\n",
        "```\n",
        "\n",
        ". **Output Format**\n",
        "\n",
        "**T** lines each containing one integer representing the sum of the digits of the input integer.\n",
        "\n",
        "**Example Input**\n",
        "\n",
        "```\n",
        "Input 1:\n",
        "2\n",
        "5\n",
        "1001\n",
        "\n",
        "Input 2:\n",
        "2\n",
        "123\n",
        "1589\n",
        "\n",
        "```\n",
        "\n",
        "**Example Output**\n",
        "\n",
        "```\n",
        "Output 1:\n",
        "5\n",
        "2\n",
        "\n",
        "Output 2:\n",
        "6\n",
        "23\n",
        "\n",
        "```\n",
        "\n",
        "**Example Explanation**\n",
        "\n",
        "```\n",
        "Explanation 1:\n",
        "5 has only 1 digit hence sum is 5.\n",
        "Sum(1001) = 1+0+0+1 = 2.\n",
        "\n",
        "Explanation 2:\n",
        "Sum(123) = 1+2+3 = 6.\n",
        "Sum(1589) = 1+5+8+9 = 23.\n",
        "```"
      ],
      "metadata": {
        "id": "G0x2nTFHcEaq"
      }
    },
    {
      "cell_type": "code",
      "source": [
        "T = int(input())\n",
        "for tests in range(T):\n",
        "    n = int(input())\n",
        "    s = 0\n",
        "    while n!=0:\n",
        "        ld = n%10\n",
        "        s+=ld\n",
        "        n=n//10\n",
        "    print(s)"
      ],
      "metadata": {
        "colab": {
          "base_uri": "https://localhost:8080/"
        },
        "id": "g87mVHu9cJ4q",
        "outputId": "51d1e125-1129-4cf0-9e44-d5ee8cef4c45"
      },
      "execution_count": 30,
      "outputs": [
        {
          "output_type": "stream",
          "name": "stdout",
          "text": [
            "3\n",
            "123\n",
            "6\n",
            "147\n",
            "12\n",
            "159\n",
            "15\n"
          ]
        }
      ]
    },
    {
      "cell_type": "markdown",
      "source": [
        "![](https://media.tenor.com/R6YKXLuuJ8EAAAAd/thanos-dancing.gif)"
      ],
      "metadata": {
        "id": "zo87u5ce7cPP"
      }
    },
    {
      "cell_type": "markdown",
      "source": [
        "## print the following spiral matrix [Homework]\n",
        "\n",
        "Ask the user to enter an integer (`n`)\n",
        "\n",
        "You will have to output a mtrix of `nxn`\n",
        "\n",
        "```\n",
        "5 5 5 5 5\n",
        "5 4 4 4 5\n",
        "5 4 3 4 5\n",
        "5 4 4 4 5\n",
        "5 5 5 5 5\n",
        "```"
      ],
      "metadata": {
        "id": "S2VmZhqT8fMd"
      }
    },
    {
      "cell_type": "code",
      "source": [],
      "metadata": {
        "id": "74ZgaiWn7gg8"
      },
      "execution_count": null,
      "outputs": []
    }
  ]
}