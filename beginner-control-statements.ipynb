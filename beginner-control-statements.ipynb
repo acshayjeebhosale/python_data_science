{
  "nbformat": 4,
  "nbformat_minor": 0,
  "metadata": {
    "colab": {
      "provenance": [],
      "authorship_tag": "ABX9TyOH0nfL2WTwTgZV2a91uaqB",
      "include_colab_link": true
    },
    "kernelspec": {
      "name": "python3",
      "display_name": "Python 3"
    },
    "language_info": {
      "name": "python"
    }
  },
  "cells": [
    {
      "cell_type": "markdown",
      "metadata": {
        "id": "view-in-github",
        "colab_type": "text"
      },
      "source": [
        "<a href=\"https://colab.research.google.com/gist/singhsidhukuldeep/746642ce57d1fd52e86641129cceae01/beginner-control-statements-2-29th-april-2023.ipynb\" target=\"_parent\"><img src=\"https://colab.research.google.com/assets/colab-badge.svg\" alt=\"Open In Colab\"/></a>"
      ]
    },
    {
      "cell_type": "code",
      "execution_count": null,
      "metadata": {
        "id": "0DxBGPVkqIdj"
      },
      "outputs": [],
      "source": [
        "### RECAP"
      ]
    },
    {
      "cell_type": "code",
      "source": [
        "# print('cat'==\"dog') ❌ error quotes mis-match\n",
        "print('cat'==\"dog\") "
      ],
      "metadata": {
        "colab": {
          "base_uri": "https://localhost:8080/"
        },
        "id": "k9NHGINgq60l",
        "outputId": "033c9d50-790a-4ea0-bac0-2559f8f8c72f"
      },
      "execution_count": null,
      "outputs": [
        {
          "output_type": "stream",
          "name": "stdout",
          "text": [
            "False\n"
          ]
        }
      ]
    },
    {
      "cell_type": "code",
      "source": [
        "print('dog'==\"\"\"dog\"\"\") "
      ],
      "metadata": {
        "colab": {
          "base_uri": "https://localhost:8080/"
        },
        "id": "m7_sxyXFrVm2",
        "outputId": "8fee0c81-0ab4-4be6-df12-7f9e99cd99b7"
      },
      "execution_count": null,
      "outputs": [
        {
          "output_type": "stream",
          "name": "stdout",
          "text": [
            "True\n"
          ]
        }
      ]
    },
    {
      "cell_type": "code",
      "source": [
        "print('dog'==\"\"\"dog\n",
        "\"\"\") "
      ],
      "metadata": {
        "colab": {
          "base_uri": "https://localhost:8080/"
        },
        "id": "8nI0BTWLrdxq",
        "outputId": "e7a7c038-7cb1-41f2-f0f4-c77f0815b88a"
      },
      "execution_count": null,
      "outputs": [
        {
          "output_type": "stream",
          "name": "stdout",
          "text": [
            "False\n"
          ]
        }
      ]
    },
    {
      "cell_type": "code",
      "source": [
        "a = 6\n",
        "a-=9 # a= a -9== a = 6-9= -3\n",
        "# print(A) ❌ error, python is case sensitive i.e. a!=A\n",
        "print(a)"
      ],
      "metadata": {
        "colab": {
          "base_uri": "https://localhost:8080/"
        },
        "id": "80QY-N8cr0oj",
        "outputId": "f8deb91b-ce0e-4048-ff93-a5eeb2cc0488"
      },
      "execution_count": null,
      "outputs": [
        {
          "output_type": "stream",
          "name": "stdout",
          "text": [
            "-3\n"
          ]
        }
      ]
    },
    {
      "cell_type": "code",
      "source": [
        "if \"abc\": # truthy value of a non empty string is True\n",
        "    print(\"I am inside a if statement\")\n",
        "else:\n",
        "    print(\"I am inside a else statement\")"
      ],
      "metadata": {
        "colab": {
          "base_uri": "https://localhost:8080/"
        },
        "id": "dLQZ_NdItdqE",
        "outputId": "56ea5d04-b444-43aa-d92f-4652bc8ff25f"
      },
      "execution_count": null,
      "outputs": [
        {
          "output_type": "stream",
          "name": "stdout",
          "text": [
            "I am inside a if statement\n"
          ]
        }
      ]
    },
    {
      "cell_type": "code",
      "source": [
        "if \"\": # truthy value of empty string is False ❤\n",
        "    print(\"I am inside a if statement\")\n",
        "else:\n",
        "    print(\"I am inside a else statement\")"
      ],
      "metadata": {
        "colab": {
          "base_uri": "https://localhost:8080/"
        },
        "id": "3EbxdZ7ztz6g",
        "outputId": "57dd5361-23fd-401a-cd56-795bf64a557c"
      },
      "execution_count": null,
      "outputs": [
        {
          "output_type": "stream",
          "name": "stdout",
          "text": [
            "I am inside a else statement\n"
          ]
        }
      ]
    },
    {
      "cell_type": "code",
      "source": [
        "if \"False\": # truthy value of a non empty string is True 💚\n",
        "    print(\"I am inside a if statement\")\n",
        "else:\n",
        "    print(\"I am inside a else statement\")"
      ],
      "metadata": {
        "colab": {
          "base_uri": "https://localhost:8080/"
        },
        "id": "joth6TFxuKZ2",
        "outputId": "6ac9111c-8d20-49cf-c663-8dc50b311681"
      },
      "execution_count": null,
      "outputs": [
        {
          "output_type": "stream",
          "name": "stdout",
          "text": [
            "I am inside a if statement\n"
          ]
        }
      ]
    },
    {
      "cell_type": "code",
      "source": [
        "print(\"\" == None)\n",
        "print(type(\"\") == type(None))\n",
        "print(type(None))"
      ],
      "metadata": {
        "colab": {
          "base_uri": "https://localhost:8080/"
        },
        "id": "QwonutgYt0lk",
        "outputId": "8d1a2274-b5e0-4c92-f415-b1b708fb9661"
      },
      "execution_count": 14,
      "outputs": [
        {
          "output_type": "stream",
          "name": "stdout",
          "text": [
            "False\n",
            "<class 'NoneType'>\n"
          ]
        }
      ]
    },
    {
      "cell_type": "code",
      "source": [
        "print(bool(\"\"))\n",
        "print(bool(\" \"))\n",
        "print(bool(\"abc\"))\n",
        "print(bool(None))"
      ],
      "metadata": {
        "id": "h-8mr57yuB2z",
        "colab": {
          "base_uri": "https://localhost:8080/"
        },
        "outputId": "f9f65eb5-3632-4c51-c1a8-7bf10d0ed16f"
      },
      "execution_count": 16,
      "outputs": [
        {
          "output_type": "stream",
          "name": "stdout",
          "text": [
            "False\n",
            "True\n",
            "True\n",
            "False\n"
          ]
        }
      ]
    },
    {
      "cell_type": "code",
      "source": [
        "print(\"\" == None)\n",
        "print(bool(\"\") == bool(None))"
      ],
      "metadata": {
        "colab": {
          "base_uri": "https://localhost:8080/"
        },
        "id": "v9nYcETTw1hx",
        "outputId": "00552bad-1ea6-4a04-d68d-8a7e106d37be"
      },
      "execution_count": 17,
      "outputs": [
        {
          "output_type": "stream",
          "name": "stdout",
          "text": [
            "False\n",
            "True\n"
          ]
        }
      ]
    },
    {
      "cell_type": "code",
      "source": [
        "print(9==9)\n",
        "print(3**2==(-3)**2)\n",
        "print(3==-3)"
      ],
      "metadata": {
        "colab": {
          "base_uri": "https://localhost:8080/"
        },
        "id": "oKLEhYTnx5O6",
        "outputId": "20ceecdf-8026-41bd-e4ef-31cce113d275"
      },
      "execution_count": 19,
      "outputs": [
        {
          "output_type": "stream",
          "name": "stdout",
          "text": [
            "True\n",
            "True\n",
            "False\n"
          ]
        }
      ]
    },
    {
      "cell_type": "code",
      "source": [
        "# function(a) == function(b) it doesnot guarantee a!=b or a==b"
      ],
      "metadata": {
        "id": "eMsEz2B0yOrw"
      },
      "execution_count": null,
      "outputs": []
    },
    {
      "cell_type": "code",
      "source": [
        "print(True or False)\n",
        "print((True and False) or False)\n",
        "print(False or False)"
      ],
      "metadata": {
        "colab": {
          "base_uri": "https://localhost:8080/"
        },
        "id": "bmKNjKVM0jIo",
        "outputId": "bcc179fb-cbb3-434f-d40b-38d3611f8120"
      },
      "execution_count": 21,
      "outputs": [
        {
          "output_type": "stream",
          "name": "stdout",
          "text": [
            "True\n",
            "False\n",
            "False\n"
          ]
        }
      ]
    },
    {
      "cell_type": "code",
      "source": [
        "## do once you are comfortable with 25th class\n",
        "## can even ignore\n",
        "print(print(True) or False)\n",
        "output_print = print(True)\n",
        "print(output_print)"
      ],
      "metadata": {
        "colab": {
          "base_uri": "https://localhost:8080/"
        },
        "id": "ltEKpdZw2ZrP",
        "outputId": "441e86b9-1266-4794-c1bb-df2b7796a40f"
      },
      "execution_count": 24,
      "outputs": [
        {
          "output_type": "stream",
          "name": "stdout",
          "text": [
            "True\n",
            "False\n",
            "True\n",
            "None\n"
          ]
        }
      ]
    },
    {
      "cell_type": "code",
      "source": [
        "print(\"\"\"\n",
        "Question 1️⃣\n",
        "ask someone for their CTC (in LPA)\n",
        "calculate their income-tax\n",
        "• 10% for <= 10 lpa\n",
        "• 20% for <= 15 lpa eg if your salary is 12 LPA== 10*(10/100) + 2*(20/100)\n",
        "• 30% for > 15lpa eg if your salary is 18 LPA== 10*(10/100) + 5*(20/100) + 3*(30/100)\n",
        "\"\"\")"
      ],
      "metadata": {
        "colab": {
          "base_uri": "https://localhost:8080/"
        },
        "id": "G7rCuIEB1P59",
        "outputId": "e58270e7-ebdd-418e-fe51-ffb0794f7c3d"
      },
      "execution_count": 25,
      "outputs": [
        {
          "output_type": "stream",
          "name": "stdout",
          "text": [
            "\n",
            "Question 1️⃣\n",
            "ask someone for their CTC (in LPA)\n",
            "calculate their income-tax\n",
            "• 10% for <= 10 lpa\n",
            "• 20% for <= 15 lpa eg if your salary is 12 LPA== 10*(10/100) + 2*(20/100)\n",
            "• 30% for > 15lpa eg if your salary is 18 LPA== 10*(10/100) + 5*(20/100) + 3*(30/100)\n",
            "\n"
          ]
        }
      ]
    },
    {
      "cell_type": "code",
      "source": [
        "ctc = float(input())\n",
        "\n",
        "if ctc<=10:\n",
        "    print(ctc*(10/100))\n",
        "elif ctc<=15:\n",
        "    print(10*(10/100)+(ctc-10)*(20/100))\n",
        "else: # ctc>15\n",
        "    print(10*(10/100)+(5)*(20/100)+(ctc-10-5)*(30/100))"
      ],
      "metadata": {
        "colab": {
          "base_uri": "https://localhost:8080/"
        },
        "id": "bZR63oBB4Phw",
        "outputId": "00ed6e1c-06f6-4945-d226-e5c8479d2312"
      },
      "execution_count": 28,
      "outputs": [
        {
          "output_type": "stream",
          "name": "stdout",
          "text": [
            "17.5\n",
            "2.75\n"
          ]
        }
      ]
    },
    {
      "cell_type": "code",
      "source": [
        "print(\"\"\"\n",
        "Question 2️⃣\n",
        "ask someone for their city that they are planning to visit\n",
        "print what mornument they should visit\n",
        "if you do not know that city, say I don't know\n",
        "\n",
        "• Delhi -> Red fort\n",
        "• Agra -> Taj Mahal\n",
        "• Gurgaon -> Cyber hub\n",
        "• Mumbai -> Gateway\n",
        "\"\"\")"
      ],
      "metadata": {
        "colab": {
          "base_uri": "https://localhost:8080/"
        },
        "id": "2cHPotiz54fE",
        "outputId": "c191b3e4-62a8-48a0-9c22-9aaf4556d530"
      },
      "execution_count": 29,
      "outputs": [
        {
          "output_type": "stream",
          "name": "stdout",
          "text": [
            "\n",
            "Question 2️⃣\n",
            "ask someone for their city that they are planning to visit\n",
            "print what mornument they should visit\n",
            "if you do not know that city, say I don't know\n",
            "\n",
            "• Delhi -> Red fort\n",
            "• Agra -> Taj Mahal\n",
            "• Gurgaon -> Cyber hub\n",
            "• Mumbai -> Gateway\n",
            "\n"
          ]
        }
      ]
    },
    {
      "cell_type": "code",
      "source": [
        "city = input()\n",
        "if city=='Delhi':\n",
        "    print('Red fort')\n",
        "elif city=='Agra':\n",
        "    print('Taj Mahal')\n",
        "elif city=='Gurgaon':\n",
        "    print('Cyber hub')\n",
        "elif city=='Mumbai':\n",
        "    print('Gateway')\n",
        "else:\n",
        "    print(\"I don't know\")"
      ],
      "metadata": {
        "colab": {
          "base_uri": "https://localhost:8080/"
        },
        "id": "gMHpWoc26y6a",
        "outputId": "a3854a6a-60bb-45d2-fa25-bc2839ee00cf"
      },
      "execution_count": 32,
      "outputs": [
        {
          "output_type": "stream",
          "name": "stdout",
          "text": [
            "Bathinda\n",
            "I don't know\n"
          ]
        }
      ]
    },
    {
      "cell_type": "code",
      "source": [
        "print(\"\"\"\n",
        "Question 3️⃣\n",
        "ask someone for a integer\n",
        "tell if the integer is even OR not\n",
        "\"\"\")"
      ],
      "metadata": {
        "id": "DutpnhV38BeJ"
      },
      "execution_count": null,
      "outputs": []
    },
    {
      "cell_type": "code",
      "source": [
        "num = int(input())\n",
        "if num%2==0:\n",
        "    print('even')\n",
        "else:\n",
        "    print('odd')"
      ],
      "metadata": {
        "id": "RO8gsUmM8zLu"
      },
      "execution_count": null,
      "outputs": []
    },
    {
      "cell_type": "code",
      "source": [
        "print(\"\"\"\n",
        "🤟HW🤟\n",
        "Check if a number is even or odd but you cannot use Modulo(%)?\n",
        "\"\"\")"
      ],
      "metadata": {
        "colab": {
          "base_uri": "https://localhost:8080/"
        },
        "id": "Ad6uSDY_86pA",
        "outputId": "b08819ef-3773-47b0-e6b5-e23688e90238"
      },
      "execution_count": 33,
      "outputs": [
        {
          "output_type": "stream",
          "name": "stdout",
          "text": [
            "\n",
            "🤟HW🤟\n",
            "Check if a number is even or odd but you cannot use Modulo(%)?\n",
            "\n"
          ]
        }
      ]
    },
    {
      "cell_type": "code",
      "source": [
        "### INTERVIRE PLAYGROUND ###"
      ],
      "metadata": {
        "id": "VlwxuWpP-5df"
      },
      "execution_count": 35,
      "outputs": []
    },
    {
      "cell_type": "code",
      "source": [
        "print(\"\"\"\n",
        "Generate electricity bill using the following rate card.\n",
        "Take units consumed as input -\n",
        "If < 100 units -> Free\n",
        "If >= 100 units and < 200 units -> Rs 2 per unit\n",
        "If >= 200 units -> Rs 5 per unit\n",
        "\"\"\")"
      ],
      "metadata": {
        "colab": {
          "base_uri": "https://localhost:8080/"
        },
        "id": "Ree5uSch-7kQ",
        "outputId": "ca4505d7-733a-4d39-d0b1-8508ffc09985"
      },
      "execution_count": 36,
      "outputs": [
        {
          "output_type": "stream",
          "name": "stdout",
          "text": [
            "\n",
            "Generate electricity bill using the following rate card.\n",
            "Take units consumed as input -\n",
            "If < 100 units -> Free\n",
            "If >= 100 units and < 200 units -> Rs 2 per unit\n",
            "If >= 200 units -> Rs 5 per unit\n",
            "\n"
          ]
        }
      ]
    },
    {
      "cell_type": "code",
      "source": [
        "units = int(input())\n",
        "if units<100: #is units less than 100 or not\n",
        "    print(0)\n",
        "elif units < 200:\n",
        "    print(units*2)\n",
        "else:\n",
        "    print(units*5)"
      ],
      "metadata": {
        "colab": {
          "base_uri": "https://localhost:8080/"
        },
        "id": "TvzKkTqT-_Ri",
        "outputId": "01cf37f5-1aaf-4fc0-a862-686e539a9d1a"
      },
      "execution_count": 40,
      "outputs": [
        {
          "output_type": "stream",
          "name": "stdout",
          "text": [
            "200\n",
            "1000\n"
          ]
        }
      ]
    },
    {
      "cell_type": "code",
      "source": [
        "print(\"\"\"\n",
        "Take an amount as input from the user\n",
        "You only have 200 and 500 Rs Notes in the ATM. For one transaction,\n",
        "you can only dispatch notes of a single type.\n",
        "Given the amount -\n",
        "- \"Dispatching Cash!\" if it can be dispatched.\n",
        "- \"Denomination not available!\" if it can not be\n",
        "\"\"\")"
      ],
      "metadata": {
        "id": "oGgc_54lAiGn"
      },
      "execution_count": null,
      "outputs": []
    },
    {
      "cell_type": "code",
      "source": [
        "amount = int(input())\n",
        "if amount%200==0 or amount%500==0:\n",
        "    print(\"Dispatching Cash!\")\n",
        "else:\n",
        "    print(\"Denomination not available!\")\n"
      ],
      "metadata": {
        "colab": {
          "base_uri": "https://localhost:8080/"
        },
        "id": "gpplfp3iCXd7",
        "outputId": "5ae6ff38-b6f9-4108-f625-eb3cd5238ec5"
      },
      "execution_count": 44,
      "outputs": [
        {
          "output_type": "stream",
          "name": "stdout",
          "text": [
            "700\n",
            "Denomination not available!\n"
          ]
        }
      ]
    },
    {
      "cell_type": "code",
      "source": [
        "print(\"\"\"\n",
        "Build a meter system for an auto. Take into two inputs.\n",
        "Kilometers Travelled and Stall Time (in minutes). Rate List -\n",
        "First 10 kms - Rs 10 per Km\n",
        "\n",
        "Next 40 kms - Rs 9 per Km\n",
        "\n",
        "Next 100 kms - Rs 8 per Km\n",
        "\n",
        "Any leftover km count - Rs. 6 per Km\n",
        "\n",
        "Rs 5 extra for every minute of Stall Time.\n",
        "\"\"\")"
      ],
      "metadata": {
        "colab": {
          "base_uri": "https://localhost:8080/"
        },
        "id": "kwjTpW7JC9jm",
        "outputId": "95f44658-a3b7-4f1c-e78e-017fc348af75"
      },
      "execution_count": 45,
      "outputs": [
        {
          "output_type": "stream",
          "name": "stdout",
          "text": [
            "\n",
            "Build a meter system for an auto. Take into two inputs.\n",
            "Kilometers Travelled and Stall Time (in minutes). Rate List -\n",
            "First 10 kms - Rs 10 per Km\n",
            "\n",
            "Next 40 kms - Rs 9 per Km\n",
            "\n",
            "Next 100 kms - Rs 8 per Km\n",
            "\n",
            "Any leftover km count - Rs. 6 per Km\n",
            "\n",
            "Rs 5 extra for every minute of Stall Time.\n",
            "\n"
          ]
        }
      ]
    },
    {
      "cell_type": "code",
      "source": [
        "#1 get all the inputs\n",
        "kms = int(input())\n",
        "stall = int(input())\n",
        "#2 calculate fare based on kms\n",
        "if kms<=10:\n",
        "    kms_fare = kms*10\n",
        "elif kms<=10+40:\n",
        "    kms_fare = 10*10   +   (kms-10)*9\n",
        "elif kms<=10+40+100:\n",
        "    kms_fare = 10*10  +  40*9  + (kms-50)*8\n",
        "else:\n",
        "    kms_fare = 10*10  +  40*9   + (100)*8 +   (kms-10-40-100)*6\n",
        "#3 calculate fare based on wait time\n",
        "wait_fare = stall*5\n",
        "#4 add all the fares\n",
        "fare = kms_fare+wait_fare\n",
        "print(fare)"
      ],
      "metadata": {
        "colab": {
          "base_uri": "https://localhost:8080/"
        },
        "id": "7wxs_yO8DKel",
        "outputId": "ebe55a6c-d49e-4c49-ce02-bb9281631c71"
      },
      "execution_count": 46,
      "outputs": [
        {
          "output_type": "stream",
          "name": "stdout",
          "text": [
            "75\n",
            "5\n",
            "685\n"
          ]
        }
      ]
    },
    {
      "cell_type": "code",
      "source": [
        "print(\"\"\"\n",
        "Feedback System - Take string feedback from a user.\n",
        "Now,\n",
        "if any the feedback is provided,\n",
        "print(\"Thank you for the feedback\").\n",
        "\n",
        "\n",
        "If feedback is \"Super\", \"Great\", \"Fantastic\", \"Awesome\",\n",
        "print(\"Thank you for the kind words!\")\n",
        "\"\"\")"
      ],
      "metadata": {
        "id": "Rj_g_cfHHZ2b"
      },
      "execution_count": null,
      "outputs": []
    },
    {
      "cell_type": "code",
      "source": [
        "feedback = input()\n",
        "if feedback==\"Super\" or feedback==\"Great\" or feedback==\"Fantastic\" or feedback==\"Awesome\":\n",
        "    print(\"Thank you for the kind words!\")\n",
        "else:\n",
        "    print(\"Thank you for the feedback\")"
      ],
      "metadata": {
        "colab": {
          "base_uri": "https://localhost:8080/"
        },
        "id": "z4Ex4M05IsPq",
        "outputId": "bc9df842-352b-4694-a7dd-6072d69264fc"
      },
      "execution_count": 50,
      "outputs": [
        {
          "output_type": "stream",
          "name": "stdout",
          "text": [
            "Fantastic\n",
            "Thank you for the kind words!\n"
          ]
        }
      ]
    },
    {
      "cell_type": "code",
      "source": [
        "feedback = \"it's great\"\n",
        "print(\"great\" in feedback.lower())"
      ],
      "metadata": {
        "colab": {
          "base_uri": "https://localhost:8080/"
        },
        "id": "g6vrXnk0JC6D",
        "outputId": "bc589120-8791-4f58-8a96-e879ad0bc9b7"
      },
      "execution_count": 51,
      "outputs": [
        {
          "output_type": "stream",
          "name": "stdout",
          "text": [
            "True\n"
          ]
        }
      ]
    },
    {
      "cell_type": "code",
      "source": [
        "print(\"\"\"\n",
        "-------------------HW------------------------\n",
        "Take in three inputs from a user which are marks in english, maths and science.\n",
        "Assign streams according to the following criteria.\n",
        "if science > 90 or marks in all(individually) are greater than 75 -> Science\n",
        "if marks in all are greater than 60 and less than 75 -> Commerce\n",
        "if marks in any are less than 60 -> Humanities\n",
        "---------------------------------------------\n",
        "\n",
        "\"\"\")"
      ],
      "metadata": {
        "colab": {
          "base_uri": "https://localhost:8080/"
        },
        "id": "e6Fl5h-yJqWA",
        "outputId": "6212fefa-dc69-40ce-ae2f-45b3d0846fc0"
      },
      "execution_count": 53,
      "outputs": [
        {
          "output_type": "stream",
          "name": "stdout",
          "text": [
            "\n",
            "-------------------HW------------------------\n",
            "Take in three inputs from a user which are marks in english, maths and science.\n",
            "Assign streams according to the following criteria.\n",
            "if science > 90 or marks in all(individually) are greater than 75 -> Science\n",
            "if marks in all are greater than 60 and less than 75 -> Commerce\n",
            "if marks in any are less than 60 -> Humanities\n",
            "---------------------------------------------\n",
            "\n",
            "\n"
          ]
        }
      ]
    },
    {
      "cell_type": "code",
      "source": [],
      "metadata": {
        "id": "5qU9jofaJ65x"
      },
      "execution_count": null,
      "outputs": []
    }
  ]
}