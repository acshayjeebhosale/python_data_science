{
  "nbformat": 4,
  "nbformat_minor": 0,
  "metadata": {
    "colab": {
      "provenance": [],
      "authorship_tag": "ABX9TyOD+2ODQynmKwxrA3zSYQH7",
      "include_colab_link": true
    },
    "kernelspec": {
      "name": "python3",
      "display_name": "Python 3"
    },
    "language_info": {
      "name": "python"
    }
  },
  "cells": [
    {
      "cell_type": "markdown",
      "metadata": {
        "id": "view-in-github",
        "colab_type": "text"
      },
      "source": [
        "<a href=\"https://colab.research.google.com/gist/singhsidhukuldeep/f89e4938a270618f61737bd36e3e6d8d/beginner-problem-solving-2-11-may-2023.ipynb\" target=\"_parent\"><img src=\"https://colab.research.google.com/assets/colab-badge.svg\" alt=\"Open In Colab\"/></a>"
      ]
    },
    {
      "cell_type": "code",
      "execution_count": 1,
      "metadata": {
        "colab": {
          "base_uri": "https://localhost:8080/",
          "height": 132
        },
        "id": "7lTvLh8XfUMR",
        "outputId": "f36a3960-6c95-4047-f880-09c00ecdbb05"
      },
      "outputs": [
        {
          "output_type": "error",
          "ename": "SyntaxError",
          "evalue": "ignored",
          "traceback": [
            "\u001b[0;36m  File \u001b[0;32m\"<ipython-input-1-338962a1a061>\"\u001b[0;36m, line \u001b[0;32m7\u001b[0m\n\u001b[0;31m    elif num > 2:\u001b[0m\n\u001b[0m    ^\u001b[0m\n\u001b[0;31mSyntaxError\u001b[0m\u001b[0;31m:\u001b[0m invalid syntax\n"
          ]
        }
      ],
      "source": [
        "num = 10\n",
        "\n",
        "if num%2:\n",
        "    print(\"OHH\")\n",
        "else:\n",
        "    print(\"NOO\")\n",
        "elif num > 2: # you cannot have a elif, without an if/elif statement before it\n",
        "    print(\"WHYY\")"
      ]
    },
    {
      "cell_type": "code",
      "source": [
        "# last k digits\n",
        "# Write a program that takes two inputs. First is the integer number and\n",
        "#  second is the integer k. \n",
        "# As ouput program should print the last k digits of the given number.\n",
        "\n",
        "# >> 12345  3\n",
        "# >> 345"
      ],
      "metadata": {
        "id": "P-KVp9iMgptN"
      },
      "execution_count": null,
      "outputs": []
    },
    {
      "cell_type": "code",
      "source": [
        "n = int(input())\n",
        "k = int(input())\n",
        "\n",
        "print(n//(10**k)) # first (total digits-k) digits\n",
        "print(n%(10**k)) # last k digits"
      ],
      "metadata": {
        "colab": {
          "base_uri": "https://localhost:8080/"
        },
        "id": "_LlzX6ssjVKi",
        "outputId": "53911ea4-9a0a-425d-ae31-b829c56e3d7c"
      },
      "execution_count": 3,
      "outputs": [
        {
          "output_type": "stream",
          "name": "stdout",
          "text": [
            "12345\n",
            "3\n",
            "12\n",
            "345\n"
          ]
        }
      ]
    },
    {
      "cell_type": "code",
      "source": [
        "# ask the user to enter an integer (non-zero +ive)\n",
        "# find how many digits it has (do not use len function or consider int as a str)\n",
        "\n",
        "# 741\n",
        "# 3"
      ],
      "metadata": {
        "id": "adBz8p-_j2px"
      },
      "execution_count": null,
      "outputs": []
    },
    {
      "cell_type": "code",
      "source": [
        "n = int(input())\n",
        "\n",
        "count = 0\n",
        "\n",
        "while n>0: # works for only non zero +ive nums\n",
        "    n=n//10\n",
        "    count = count+1\n",
        "print(count)"
      ],
      "metadata": {
        "colab": {
          "base_uri": "https://localhost:8080/"
        },
        "id": "pPQ57K79lli_",
        "outputId": "ed8952d0-c8e2-4b6c-f4e6-cce5d9f3bc07"
      },
      "execution_count": 4,
      "outputs": [
        {
          "output_type": "stream",
          "name": "stdout",
          "text": [
            "2546\n",
            "4\n"
          ]
        }
      ]
    },
    {
      "cell_type": "code",
      "source": [
        "n = int(input())\n",
        "\n",
        "count = 0\n",
        "\n",
        "if n==0: # fixing count at start to 1 for 0\n",
        "    count=1\n",
        "elif n<0: # for -ive nums\n",
        "    n = n*-1\n",
        "\n",
        "\n",
        "while n>0: \n",
        "    n=n//10\n",
        "    count = count+1\n",
        "print(count)"
      ],
      "metadata": {
        "colab": {
          "base_uri": "https://localhost:8080/"
        },
        "id": "Ix5dJm39lz5A",
        "outputId": "24289f9a-78f9-4105-e74c-97cf1839d70d"
      },
      "execution_count": 8,
      "outputs": [
        {
          "output_type": "stream",
          "name": "stdout",
          "text": [
            "013\n",
            "2\n"
          ]
        }
      ]
    },
    {
      "cell_type": "markdown",
      "source": [
        "```python\n",
        "num = 100\n",
        "\n",
        "if num == 100:\n",
        "  print(\"hello\", end=\" \")\n",
        "\n",
        "if num > 50:\n",
        "  print(\"world\", end=\" \")\n",
        "\n",
        "  if num%3:\n",
        "    print(\"python\", end=\" \")\n",
        "\n",
        "elif num%10 == 0:\n",
        "   print(\"is\", end=\" \")\n",
        "\n",
        "else:\n",
        "  print(\"fun\", end=\" \")\n",
        "```"
      ],
      "metadata": {
        "id": "6veo5MlYm35B"
      }
    },
    {
      "cell_type": "code",
      "source": [
        "# hello world python ✅"
      ],
      "metadata": {
        "id": "ZdsLo_0fm2wb"
      },
      "execution_count": null,
      "outputs": []
    },
    {
      "cell_type": "code",
      "source": [
        "num = 100\n",
        "print('🏃‍♂️💨')\n",
        "if num%2: # num%2 = 0 and bool(0) is False\n",
        "    print('This should not run ⚔')\n",
        "if num%2==0:\n",
        "    print('This should ☑ run ⚔')\n",
        "print('👟')"
      ],
      "metadata": {
        "colab": {
          "base_uri": "https://localhost:8080/"
        },
        "id": "XU00wdyrn7ro",
        "outputId": "3d02359b-0e17-4632-a892-83f3b6a64761"
      },
      "execution_count": 11,
      "outputs": [
        {
          "output_type": "stream",
          "name": "stdout",
          "text": [
            "🏃‍♂️💨\n",
            "This should ☑ run ⚔\n",
            "👟\n"
          ]
        }
      ]
    },
    {
      "cell_type": "code",
      "source": [
        "# ask the user to enter an integer (non-zero +ive)\n",
        "# find how many even digits it has \n",
        "#  (do not use len function or consider int as a str)\n",
        "\n",
        "# 741\n",
        "# 1"
      ],
      "metadata": {
        "id": "9CXWI3uSof-J"
      },
      "execution_count": null,
      "outputs": []
    },
    {
      "cell_type": "code",
      "source": [
        "n = int(input())\n",
        "\n",
        "count = 0\n",
        "\n",
        "while n>0: # works for only non zero +ive nums\n",
        "    last_digit =n%10 # get the last digit, without changing the original num\n",
        "    if last_digit%2==0:\n",
        "        count = count+1\n",
        "    n=n//10\n",
        "    \n",
        "print(count)"
      ],
      "metadata": {
        "colab": {
          "base_uri": "https://localhost:8080/"
        },
        "id": "YyPVi61Rp5Yi",
        "outputId": "7085fd3e-0bb9-46c0-def6-aef58a665e41"
      },
      "execution_count": 13,
      "outputs": [
        {
          "output_type": "stream",
          "name": "stdout",
          "text": [
            "741\n",
            "1\n"
          ]
        }
      ]
    },
    {
      "cell_type": "code",
      "source": [
        "n = int(input())\n",
        "\n",
        "count = 0\n",
        "\n",
        "while n>0: # works for only non zero +ive nums\n",
        "    if n%2==0: # before removing the last digit check if it is even or not\n",
        "        count = count+1\n",
        "    n=n//10\n",
        "    \n",
        "print(count)"
      ],
      "metadata": {
        "colab": {
          "base_uri": "https://localhost:8080/"
        },
        "id": "NJg9FMqbpVnK",
        "outputId": "354707c5-f00f-4e0d-922b-0f8f7b903d65"
      },
      "execution_count": 12,
      "outputs": [
        {
          "output_type": "stream",
          "name": "stdout",
          "text": [
            "741\n",
            "1\n"
          ]
        }
      ]
    },
    {
      "cell_type": "markdown",
      "source": [
        "Given the piece of code illustrate an working example for `while` loop. Write a python program with same functionality but uses `for` loop instead of while loop\n",
        "\n",
        "```python\n",
        "max_ = int(input())\n",
        "i = 1\n",
        "while i <= 2**max_:\n",
        "  print(i)\n",
        "  i *= 2\n",
        "```\n",
        "\n",
        "**Input Sample**:\n",
        "```\n",
        "5\n",
        "```\n",
        "**Output Sample**:\n",
        "```\n",
        "1\n",
        "2\n",
        "4\n",
        "8\n",
        "16\n",
        "32\n",
        "```"
      ],
      "metadata": {
        "id": "f-slGhxHqoGt"
      }
    },
    {
      "cell_type": "code",
      "source": [
        "# max_ >> 0 -- max_(included)>>2**0, 2**1, ...2**max_\n",
        "\n",
        "max_ = int(input())\n",
        "for i in range(max_+1): #0...max_-1...max\n",
        "    print(2**i)"
      ],
      "metadata": {
        "colab": {
          "base_uri": "https://localhost:8080/"
        },
        "id": "N1vbzHPEqnSM",
        "outputId": "7cde93dc-87a7-4feb-f625-64d3f7a4935d"
      },
      "execution_count": 14,
      "outputs": [
        {
          "output_type": "stream",
          "name": "stdout",
          "text": [
            "5\n",
            "1\n",
            "2\n",
            "4\n",
            "8\n",
            "16\n",
            "32\n"
          ]
        }
      ]
    },
    {
      "cell_type": "markdown",
      "source": [
        "## all primes\n",
        "Given a number n, write a python program that can print all the prime in the range of [2,n].\n",
        "\n",
        "**Input Format**:\n",
        "```\n",
        "Integer as input\n",
        "```\n",
        "**Output Format**:\n",
        "```\n",
        "All primes between 2 to n inclusive separated by new line\n",
        "```\n",
        "**Input Sample**:\n",
        "```\n",
        "20\n",
        "```\n",
        "**Output Sample**:\n",
        "```\n",
        "2\n",
        "3\n",
        "5\n",
        "7\n",
        "11\n",
        "13\n",
        "17\n",
        "19\n",
        "```"
      ],
      "metadata": {
        "id": "NjD5ViMYthgU"
      }
    },
    {
      "cell_type": "code",
      "source": [
        "num = 17\n",
        "# 2,3,4,5,6,7,8,9..17-1\n",
        "is_prime = True\n",
        "for i in range(2,num): #2,3,4,..num-1\n",
        "    if num%i==0:# not prime\n",
        "        is_prime = False\n",
        "        break\n",
        "if is_prime:\n",
        "    print(\"😁 It's prime\")\n",
        "else:\n",
        "    print(\"😓 not prime\")"
      ],
      "metadata": {
        "colab": {
          "base_uri": "https://localhost:8080/"
        },
        "id": "yTh0ZHmvtiz7",
        "outputId": "038a7ebd-b1b4-4118-a47d-8e1aa8d1e4f5"
      },
      "execution_count": 16,
      "outputs": [
        {
          "output_type": "stream",
          "name": "stdout",
          "text": [
            "😓 not prime\n"
          ]
        }
      ]
    },
    {
      "cell_type": "code",
      "source": [
        "n = int(input())\n",
        "for num in range(2,n+1) : #[2,n]\n",
        "    is_prime = True\n",
        "    for i in range(2,num): #2,3,4,..num-1\n",
        "        if num%i==0:# not prime\n",
        "            is_prime = False\n",
        "            break\n",
        "    # if is_prime:\n",
        "    #     print(\"😁 It's prime\")\n",
        "    # else:\n",
        "    #     print(\"😓 not prime\")\n",
        "    if is_prime:\n",
        "        print(num)"
      ],
      "metadata": {
        "colab": {
          "base_uri": "https://localhost:8080/"
        },
        "id": "HFE8Ewysw7Sp",
        "outputId": "cd2b1931-e598-4e23-c0f5-2eb198942752"
      },
      "execution_count": 18,
      "outputs": [
        {
          "output_type": "stream",
          "name": "stdout",
          "text": [
            "20\n",
            "2\n",
            "3\n",
            "5\n",
            "7\n",
            "11\n",
            "13\n",
            "17\n",
            "19\n"
          ]
        }
      ]
    },
    {
      "cell_type": "markdown",
      "source": [
        "**Binary to Decimal**\n",
        "\n",
        "Given a binary number as input, write a python program to return the decimal equivalent of that given binary number.\n",
        "\n",
        "**Input format**\n",
        "```\n",
        "Binary number\n",
        "```\n",
        "**Output format**\n",
        "```\n",
        "decimal equivalent of given binary number\n",
        "```\n",
        "**Input Sample**\n",
        "```\n",
        "101\n",
        "```\n",
        "**Output Sample**\n",
        "```\n",
        "5\n",
        "```"
      ],
      "metadata": {
        "id": "BGhCIsG8yYuV"
      }
    },
    {
      "cell_type": "code",
      "source": [
        "binary_num = int(input())\n",
        "nth_last = 0 # tracking the position from right side\n",
        "decimal = 0 # starting decimal at 0\n",
        "while binary_num > 0 :\n",
        "    last_digit = binary_num%10 # last digit at the right\n",
        "    binary_num = binary_num//10 # left over binary number\n",
        "    \n",
        "    decimal += last_digit*(2**nth_last) # adding power of 2 to decimal\n",
        "\n",
        "    nth_last+=1 # increasing the tracker of the digits from the right\n",
        "print(decimal)"
      ],
      "metadata": {
        "colab": {
          "base_uri": "https://localhost:8080/"
        },
        "id": "qBEC4Ax_ycAX",
        "outputId": "23557b33-71ad-4b09-ee04-2f8c4bc0ea9d"
      },
      "execution_count": 26,
      "outputs": [
        {
          "output_type": "stream",
          "name": "stdout",
          "text": [
            "101\n",
            "0 1\n",
            "1 0\n",
            "2 1\n",
            "5\n"
          ]
        }
      ]
    },
    {
      "cell_type": "markdown",
      "source": [
        "### How many 2s\n",
        "Given a integer number as input. Write a python program to print whether the number is a power of 2 or not.\n",
        "\n",
        "**Input format**\n",
        "```\n",
        "Integer number\n",
        "```\n",
        "**Output format**\n",
        "```\n",
        "True: if power of 2\n",
        "False: otherwise\n",
        "```\n",
        "**Input Sample**\n",
        "```\n",
        "28\n",
        "```\n",
        "**Output Sample**\n",
        "```\n",
        "False\n",
        "```"
      ],
      "metadata": {
        "id": "AI-LAiJb236A"
      }
    },
    {
      "cell_type": "code",
      "source": [
        "num = int(input())\n",
        "\n",
        "num_copy = num\n",
        "power=0\n",
        "while num>1:\n",
        "    num//=2\n",
        "    power+=1\n",
        "if 2**power==num_copy:\n",
        "    print(\"✌ power of 2\")\n",
        "else:\n",
        "    print(\"🙅‍♂️ NOT  power of 2\")"
      ],
      "metadata": {
        "colab": {
          "base_uri": "https://localhost:8080/"
        },
        "id": "dWpDfsNr2IAx",
        "outputId": "6c90ba16-b481-457b-e9ca-c6cb429ea0b3"
      },
      "execution_count": 30,
      "outputs": [
        {
          "output_type": "stream",
          "name": "stdout",
          "text": [
            "1\n",
            "✌ power of 2\n"
          ]
        }
      ]
    },
    {
      "cell_type": "code",
      "source": [
        "for i in range(5):\n",
        "    print('start loop for ', i)\n",
        "    if i%2==0:\n",
        "        continue # skip only this iteration, directly go to the next one\n",
        "    print('end loop for ', i)"
      ],
      "metadata": {
        "colab": {
          "base_uri": "https://localhost:8080/"
        },
        "id": "us9h1NbG5OA2",
        "outputId": "449bf3c3-5911-4c4e-9b6a-4a89e884798a"
      },
      "execution_count": 35,
      "outputs": [
        {
          "output_type": "stream",
          "name": "stdout",
          "text": [
            "start loop for  0\n",
            "start loop for  1\n",
            "end loop for  1\n",
            "start loop for  2\n",
            "start loop for  3\n",
            "end loop for  3\n",
            "start loop for  4\n"
          ]
        }
      ]
    },
    {
      "cell_type": "code",
      "source": [
        "for i in range(5):\n",
        "    if i%2==0:\n",
        "        pass # pass does absolutely NOTHING\n",
        "    print('Running loop for ', i)"
      ],
      "metadata": {
        "colab": {
          "base_uri": "https://localhost:8080/"
        },
        "id": "crrGWQ3K5mzh",
        "outputId": "7b7f9433-7850-484c-96e4-af7d2f052daa"
      },
      "execution_count": 33,
      "outputs": [
        {
          "output_type": "stream",
          "name": "stdout",
          "text": [
            "Running loop for  0\n",
            "Running loop for  1\n",
            "Running loop for  2\n",
            "Running loop for  3\n",
            "Running loop for  4\n"
          ]
        }
      ]
    },
    {
      "cell_type": "code",
      "source": [
        "for i in range(1,5):\n",
        "    if i%2==0:\n",
        "        break # stop this iteration and don't do any iteration after this\n",
        "    print('Running loop for ', i)"
      ],
      "metadata": {
        "colab": {
          "base_uri": "https://localhost:8080/"
        },
        "id": "Da53j1Bz6HaJ",
        "outputId": "9bbb619d-a0d7-4b14-ef8a-bb1b93c486ea"
      },
      "execution_count": 34,
      "outputs": [
        {
          "output_type": "stream",
          "name": "stdout",
          "text": [
            "Running loop for  1\n"
          ]
        }
      ]
    },
    {
      "cell_type": "markdown",
      "source": [
        "```python\n",
        "n = 100\n",
        "ans = 0\n",
        "for i in range(1,n+1):\n",
        "  if i % 2:\n",
        "    continue\n",
        "  if i > 50:\n",
        "    break\n",
        "  ans += i\n",
        "\n",
        "print(ans)\n",
        "```"
      ],
      "metadata": {
        "id": "FWFRcNA-7RBy"
      }
    },
    {
      "cell_type": "code",
      "source": [
        "n = 100\n",
        "ans = 0\n",
        "for i in range(1,n+1): # range(1,101)>>2,4,6,8...50\n",
        "  if i % 2: # odd, it skips iteration\n",
        "    continue\n",
        "  if i > 50: # loop will not run further than 50\n",
        "    break\n",
        "  ans += i\n",
        "\n",
        "print(ans)"
      ],
      "metadata": {
        "colab": {
          "base_uri": "https://localhost:8080/"
        },
        "id": "d6f0cDFV6gXr",
        "outputId": "240eb51d-d0aa-4df9-aaf7-b8fb653690b9"
      },
      "execution_count": 36,
      "outputs": [
        {
          "output_type": "stream",
          "name": "stdout",
          "text": [
            "650\n"
          ]
        }
      ]
    },
    {
      "cell_type": "code",
      "source": [
        "total = 0\n",
        "# 2,4,6,8...50\n",
        "for i in range(2,51,2):\n",
        "    total+=i\n",
        "print(total)"
      ],
      "metadata": {
        "colab": {
          "base_uri": "https://localhost:8080/"
        },
        "id": "ZwMDu0l48IXI",
        "outputId": "33099e5a-35be-45de-92c6-e6806acaa9be"
      },
      "execution_count": 39,
      "outputs": [
        {
          "output_type": "stream",
          "name": "stdout",
          "text": [
            "650\n"
          ]
        }
      ]
    },
    {
      "cell_type": "markdown",
      "source": [
        "## odd positions\n",
        "Given a number as integer. Write a python program that can form another number just from the digits that are at the odd positions of the given number. Consider the leftmost digit as at position 1\n",
        "\n",
        "**Input format**\n",
        "```\n",
        "Integer number\n",
        "```\n",
        "**Output format**\n",
        "```\n",
        "odd positioned digits\n",
        "```\n",
        "**Input Sample**\n",
        "```\n",
        "12349\n",
        "```\n",
        "**Output Sample**\n",
        "```\n",
        "139\n",
        "```\n",
        "\n",
        "**Input Sample**\n",
        "```\n",
        "123456\n",
        "```\n",
        "**Output Sample**\n",
        "```\n",
        "135\n",
        "```\n"
      ],
      "metadata": {
        "id": "5TOaURu880LB"
      }
    },
    {
      "cell_type": "code",
      "source": [],
      "metadata": {
        "id": "vO1B2Kvu8Rfg"
      },
      "execution_count": null,
      "outputs": []
    }
  ]
}