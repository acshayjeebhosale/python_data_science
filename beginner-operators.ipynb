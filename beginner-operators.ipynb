{
  "nbformat": 4,
  "nbformat_minor": 0,
  "metadata": {
    "colab": {
      "provenance": [],
      "authorship_tag": "ABX9TyOOQNSP4H40bybp879s67GK",
      "include_colab_link": true
    },
    "kernelspec": {
      "name": "python3",
      "display_name": "Python 3"
    },
    "language_info": {
      "name": "python"
    }
  },
  "cells": [
    {
      "cell_type": "markdown",
      "metadata": {
        "id": "view-in-github",
        "colab_type": "text"
      },
      "source": [
        "<a href=\"https://colab.research.google.com/gist/singhsidhukuldeep/28f8e9584c93b3cb2c78287e324091ac/beginner-operators-25th-april-2023-9-pm.ipynb\" target=\"_parent\"><img src=\"https://colab.research.google.com/assets/colab-badge.svg\" alt=\"Open In Colab\"/></a>"
      ]
    },
    {
      "cell_type": "code",
      "execution_count": 1,
      "metadata": {
        "id": "4xxZt0EWBkiB"
      },
      "outputs": [],
      "source": [
        "## operators\n",
        "### operators and operands ⁉❓\n",
        "### 5 + 4 >> 4,4 operands and + is operator\n",
        "\n",
        "## Arithmetic operators >> +  -  /  *"
      ]
    },
    {
      "cell_type": "code",
      "source": [
        "# division / >> division in python always gives float \n",
        "print(5/2)\n",
        "print(5/1, type(5/1))\n",
        "print(10/3)\n",
        "print(20/3)\n",
        "print(3.3333333333333)"
      ],
      "metadata": {
        "colab": {
          "base_uri": "https://localhost:8080/"
        },
        "id": "o1UzwIboGwj-",
        "outputId": "774ad31c-f077-4865-89c3-8e769699780e"
      },
      "execution_count": 9,
      "outputs": [
        {
          "output_type": "stream",
          "name": "stdout",
          "text": [
            "2.5\n",
            "5.0 <class 'float'>\n",
            "3.3333333333333335\n",
            "6.666666666666667\n",
            "3.3\n"
          ]
        }
      ]
    },
    {
      "cell_type": "code",
      "source": [
        "# float 64>> 64 bits memory\n",
        "# float 32>> 32 bits memory\n",
        "# float 16>> 16 bits memory"
      ],
      "metadata": {
        "id": "Tq6lJJLwJOIt"
      },
      "execution_count": null,
      "outputs": []
    },
    {
      "cell_type": "code",
      "source": [
        "# + - *\n",
        "# int and int\n",
        "print(5-2, 5+2, 5*2)\n",
        "# int and float\n",
        "print(5-2.0, 5+2.0, 5*2.0)\n",
        "# int and float\n",
        "print(5.0-2.0, 5.0+2.0, 5.0*2.0)"
      ],
      "metadata": {
        "colab": {
          "base_uri": "https://localhost:8080/"
        },
        "id": "8BMrEwafHDrb",
        "outputId": "de18b353-5747-4431-a7c5-f7a4d9bdf893"
      },
      "execution_count": 6,
      "outputs": [
        {
          "output_type": "stream",
          "name": "stdout",
          "text": [
            "3 7 10\n",
            "3.0 7.0 10.0\n",
            "3.0 7.0 10.0\n"
          ]
        }
      ]
    },
    {
      "cell_type": "code",
      "source": [
        "## ** >> raising power 😎 # x**y==x^y (x with power y)\n",
        "print(5**3)\n",
        "print(5**2)\n",
        "print(25**(1/2))\n",
        "print(25**(0.5))\n",
        "print(3.5**3, 3.5*3.5*3.5)\n",
        "print((1/2)**2)\n",
        "# int**int >> int\n",
        "# float**float >> float\n",
        "# int**float >> float\n",
        "# float**int >> float"
      ],
      "metadata": {
        "colab": {
          "base_uri": "https://localhost:8080/"
        },
        "id": "BNrMeo8XJvL8",
        "outputId": "ecac9167-03de-487a-fe62-3939aa724178"
      },
      "execution_count": 18,
      "outputs": [
        {
          "output_type": "stream",
          "name": "stdout",
          "text": [
            "125\n",
            "25\n",
            "5.0\n",
            "5.0\n",
            "42.875 42.875\n",
            "0.25\n"
          ]
        }
      ]
    },
    {
      "cell_type": "code",
      "source": [
        "# square root 25 same as 25**(1/2)"
      ],
      "metadata": {
        "id": "buFqsfTDKmGB"
      },
      "execution_count": null,
      "outputs": []
    },
    {
      "cell_type": "code",
      "source": [
        "## // >> florred division\n",
        "# it will give the largest integer equal or smaller than the value\n",
        "print(5/2, 5//2)\n",
        "print(-7/2, -7//2)"
      ],
      "metadata": {
        "colab": {
          "base_uri": "https://localhost:8080/"
        },
        "id": "qpB7y5D7Lbeh",
        "outputId": "98050402-0cf4-4fee-8e46-5a88ab888b35"
      },
      "execution_count": 21,
      "outputs": [
        {
          "output_type": "stream",
          "name": "stdout",
          "text": [
            "2.5 2\n",
            "-3.5 -4\n"
          ]
        }
      ]
    },
    {
      "cell_type": "code",
      "source": [
        "# abhinav >> 200 candies >> distribute to 79 people\n",
        "print(200//79) ## // >> florred division"
      ],
      "metadata": {
        "colab": {
          "base_uri": "https://localhost:8080/"
        },
        "id": "mj-tbRl3MNUB",
        "outputId": "56e7a458-2793-475c-bce3-042ead922768"
      },
      "execution_count": 23,
      "outputs": [
        {
          "output_type": "stream",
          "name": "stdout",
          "text": [
            "2\n"
          ]
        }
      ]
    },
    {
      "cell_type": "code",
      "source": [
        "print(5.5/2, 5.5//2)"
      ],
      "metadata": {
        "colab": {
          "base_uri": "https://localhost:8080/"
        },
        "id": "30GHMho5MwCQ",
        "outputId": "9492fe6e-617a-4d58-8497-bdab498e45f3"
      },
      "execution_count": 25,
      "outputs": [
        {
          "output_type": "stream",
          "name": "stdout",
          "text": [
            "2.75 2.0\n"
          ]
        }
      ]
    },
    {
      "cell_type": "code",
      "source": [
        "# int//int >> int\n",
        "# float//float >> float\n",
        "# int//float >> float\n",
        "# float//int >> float"
      ],
      "metadata": {
        "id": "Mxy2uVXMNApm"
      },
      "execution_count": null,
      "outputs": []
    },
    {
      "cell_type": "code",
      "source": [
        "79//2"
      ],
      "metadata": {
        "colab": {
          "base_uri": "https://localhost:8080/"
        },
        "id": "ERlqXeFgNgr2",
        "outputId": "2465a7f7-6ccb-4d3e-d5b5-be02fa6bc7d2"
      },
      "execution_count": 26,
      "outputs": [
        {
          "output_type": "execute_result",
          "data": {
            "text/plain": [
              "39"
            ]
          },
          "metadata": {},
          "execution_count": 26
        }
      ]
    },
    {
      "cell_type": "code",
      "source": [
        "## precedence of operators\n",
        "10-4*2\n",
        "# (10-4)*2=6*2, 10-(4*2)=10-8"
      ],
      "metadata": {
        "id": "48eWy1PLNhgf"
      },
      "execution_count": null,
      "outputs": []
    },
    {
      "cell_type": "code",
      "source": [
        "#  B O  D  M  A   S\n",
        "# ()    /  *  +   -\n",
        "\n",
        "# P   E     M  D  A  S\n",
        "# ()  x**y  *  /  +  -"
      ],
      "metadata": {
        "id": "qHy7Qiw7Oj0x"
      },
      "execution_count": null,
      "outputs": []
    },
    {
      "cell_type": "code",
      "source": [
        "# ()\n",
        "#  ** \n",
        "# *  /   //\n",
        "# + -"
      ],
      "metadata": {
        "id": "iHUUOO2QQcWJ"
      },
      "execution_count": null,
      "outputs": []
    },
    {
      "cell_type": "code",
      "source": [
        "10/6*7"
      ],
      "metadata": {
        "id": "7OE2atyNQ5zU"
      },
      "execution_count": null,
      "outputs": []
    },
    {
      "cell_type": "code",
      "source": [
        "print(10/(6*7))\n",
        "print(10/6*7, (10/6)*7)\n",
        "print(7*10/6, (7*10)/6)"
      ],
      "metadata": {
        "colab": {
          "base_uri": "https://localhost:8080/"
        },
        "id": "lQ2eCM7qQAaS",
        "outputId": "c8bdddd8-751a-41fe-f41e-e20641a106f5"
      },
      "execution_count": 31,
      "outputs": [
        {
          "output_type": "stream",
          "name": "stdout",
          "text": [
            "0.23809523809523808\n",
            "11.666666666666668 11.666666666666668\n",
            "11.666666666666666 11.666666666666666\n"
          ]
        }
      ]
    },
    {
      "cell_type": "code",
      "source": [
        "10  - 4 * 2 + 5 - 6 // 2 # * and //  have the same rank, what will happen first?  the one on the left\n",
        "# 10-8+5-6//2 # // has the highest rank\n",
        "# 10-8+5-3 # + and - have the same rank, what will happen first?the one on the left\n",
        "# 2+5-3# + and - have the same rank, what will happen first?the one on the left\n",
        "# 7-3\n",
        "# 4"
      ],
      "metadata": {
        "colab": {
          "base_uri": "https://localhost:8080/"
        },
        "id": "1rfDvpZAQPhx",
        "outputId": "930627a7-3f32-4c62-9cfc-cd89f6c28a03"
      },
      "execution_count": 32,
      "outputs": [
        {
          "output_type": "execute_result",
          "data": {
            "text/plain": [
              "4"
            ]
          },
          "metadata": {},
          "execution_count": 32
        }
      ]
    },
    {
      "cell_type": "code",
      "source": [
        "## % modulus >> I will give you the remainder\n",
        "print(75%4)"
      ],
      "metadata": {
        "colab": {
          "base_uri": "https://localhost:8080/"
        },
        "id": "qooJniPMSTDZ",
        "outputId": "082d90a9-14e3-4295-ec4b-88b6782e6813"
      },
      "execution_count": 33,
      "outputs": [
        {
          "output_type": "stream",
          "name": "stdout",
          "text": [
            "3\n"
          ]
        }
      ]
    },
    {
      "cell_type": "code",
      "source": [
        "# ()\n",
        "#  ** \n",
        "# *  /   // %\n",
        "# + -"
      ],
      "metadata": {
        "id": "zCs6CuxJTzxL"
      },
      "execution_count": null,
      "outputs": []
    },
    {
      "cell_type": "code",
      "source": [
        "(20/100)*50"
      ],
      "metadata": {
        "colab": {
          "base_uri": "https://localhost:8080/"
        },
        "id": "_jEi4w2WUKUh",
        "outputId": "f72d9844-8cf1-44c5-add3-4bbe57ac61ce"
      },
      "execution_count": 34,
      "outputs": [
        {
          "output_type": "execute_result",
          "data": {
            "text/plain": [
              "10.0"
            ]
          },
          "metadata": {},
          "execution_count": 34
        }
      ]
    },
    {
      "cell_type": "code",
      "source": [
        "# typecasting\n",
        "print(int(10.0))"
      ],
      "metadata": {
        "colab": {
          "base_uri": "https://localhost:8080/"
        },
        "id": "GYoOlzq4UB01",
        "outputId": "2b3bc5e2-6c29-498f-8e2e-8f1f4b6c4fa8"
      },
      "execution_count": 35,
      "outputs": [
        {
          "output_type": "stream",
          "name": "stdout",
          "text": [
            "10\n"
          ]
        }
      ]
    },
    {
      "cell_type": "code",
      "source": [
        "print(float(10))"
      ],
      "metadata": {
        "colab": {
          "base_uri": "https://localhost:8080/"
        },
        "id": "oQ8fjdetUfDK",
        "outputId": "9221c8f6-d74c-417b-a84c-3b80c534ac8b"
      },
      "execution_count": 36,
      "outputs": [
        {
          "output_type": "stream",
          "name": "stdout",
          "text": [
            "10.0\n"
          ]
        }
      ]
    },
    {
      "cell_type": "code",
      "source": [
        "print(str(10.0))"
      ],
      "metadata": {
        "colab": {
          "base_uri": "https://localhost:8080/"
        },
        "id": "YxcIfja3Uh1a",
        "outputId": "2286af3a-2517-42ea-98db-d4da95bdb580"
      },
      "execution_count": 37,
      "outputs": [
        {
          "output_type": "stream",
          "name": "stdout",
          "text": [
            "10.0\n"
          ]
        }
      ]
    },
    {
      "cell_type": "code",
      "source": [
        "print(float('10.0'))"
      ],
      "metadata": {
        "colab": {
          "base_uri": "https://localhost:8080/"
        },
        "id": "dtFtPw_nUkI6",
        "outputId": "372ee66c-07f0-4bc2-871b-5c2939ec98e5"
      },
      "execution_count": 38,
      "outputs": [
        {
          "output_type": "stream",
          "name": "stdout",
          "text": [
            "10.0\n"
          ]
        }
      ]
    },
    {
      "cell_type": "code",
      "source": [
        "a = '10.0'\n",
        "print(a, type(a))\n",
        "\n",
        "a = float(a)\n",
        "print(a, type(a))"
      ],
      "metadata": {
        "colab": {
          "base_uri": "https://localhost:8080/"
        },
        "id": "lCVprWK6Uvup",
        "outputId": "12e76f36-459e-41c6-b203-51da945253a0"
      },
      "execution_count": 40,
      "outputs": [
        {
          "output_type": "stream",
          "name": "stdout",
          "text": [
            "10.0 <class 'str'>\n",
            "10.0 <class 'float'>\n"
          ]
        }
      ]
    },
    {
      "cell_type": "code",
      "source": [
        "print(str(int(float('10.3'))))\n",
        "a = '10.3'\n",
        "print(a, type(a))  # \"10.3\"\n",
        "a = float(a)\n",
        "print(a, type(a)) # 10.3\n",
        "a = int(a)\n",
        "print(a, type(a)) # 10\n",
        "a = str(a)\n",
        "print(a, type(a)) # \"10\""
      ],
      "metadata": {
        "colab": {
          "base_uri": "https://localhost:8080/"
        },
        "id": "iUDAxJVGU5fK",
        "outputId": "6e84aa46-3911-4c97-e0ef-b3effc8d7cb5"
      },
      "execution_count": 41,
      "outputs": [
        {
          "output_type": "stream",
          "name": "stdout",
          "text": [
            "10\n",
            "10.3 <class 'str'>\n",
            "10.3 <class 'float'>\n",
            "10 <class 'int'>\n",
            "10 <class 'str'>\n"
          ]
        }
      ]
    },
    {
      "cell_type": "code",
      "source": [
        "# typecasting to bool\n",
        "print(True, False)"
      ],
      "metadata": {
        "colab": {
          "base_uri": "https://localhost:8080/"
        },
        "id": "GfKWFNpyVm2f",
        "outputId": "8bab7d8a-c148-4aa6-97af-2443d4ee113f"
      },
      "execution_count": 42,
      "outputs": [
        {
          "output_type": "stream",
          "name": "stdout",
          "text": [
            "True False\n"
          ]
        }
      ]
    },
    {
      "cell_type": "code",
      "source": [
        "print(bool(1))"
      ],
      "metadata": {
        "colab": {
          "base_uri": "https://localhost:8080/"
        },
        "id": "9LfkqREGV6eD",
        "outputId": "b4f0c522-221c-4824-9974-658d4889e979"
      },
      "execution_count": 43,
      "outputs": [
        {
          "output_type": "stream",
          "name": "stdout",
          "text": [
            "True\n"
          ]
        }
      ]
    },
    {
      "cell_type": "code",
      "source": [
        "print(bool(1234.56789))"
      ],
      "metadata": {
        "colab": {
          "base_uri": "https://localhost:8080/"
        },
        "id": "Y4X8rw_cV9ta",
        "outputId": "ab339a41-a453-4b6f-af98-20d752543461"
      },
      "execution_count": 44,
      "outputs": [
        {
          "output_type": "stream",
          "name": "stdout",
          "text": [
            "True\n"
          ]
        }
      ]
    },
    {
      "cell_type": "code",
      "source": [
        "print(bool(-100))"
      ],
      "metadata": {
        "colab": {
          "base_uri": "https://localhost:8080/"
        },
        "id": "MZ6GU4NaWC1z",
        "outputId": "1ec9b4c2-e439-4a49-9fe9-9a7c06e623e4"
      },
      "execution_count": 45,
      "outputs": [
        {
          "output_type": "stream",
          "name": "stdout",
          "text": [
            "True\n"
          ]
        }
      ]
    },
    {
      "cell_type": "code",
      "source": [
        "print(bool(0))"
      ],
      "metadata": {
        "colab": {
          "base_uri": "https://localhost:8080/"
        },
        "id": "9p2UgHi6WGvb",
        "outputId": "51499eb9-0c30-443d-c970-6845cc9da89c"
      },
      "execution_count": 46,
      "outputs": [
        {
          "output_type": "stream",
          "name": "stdout",
          "text": [
            "False\n"
          ]
        }
      ]
    },
    {
      "cell_type": "code",
      "source": [
        "print(bool(0.0))"
      ],
      "metadata": {
        "colab": {
          "base_uri": "https://localhost:8080/"
        },
        "id": "LbJ62VzTWWc2",
        "outputId": "6936b1b0-7c5e-4cf6-c534-da664e604ba9"
      },
      "execution_count": 47,
      "outputs": [
        {
          "output_type": "stream",
          "name": "stdout",
          "text": [
            "False\n"
          ]
        }
      ]
    },
    {
      "cell_type": "code",
      "source": [
        "# ✌ bool\n",
        "# numbers: \n",
        "# anything other than 0 is True\n",
        "# 0 is False"
      ],
      "metadata": {
        "id": "YUl_RpKhWJYz"
      },
      "execution_count": null,
      "outputs": []
    },
    {
      "cell_type": "code",
      "source": [
        "# ✌ bool\n",
        "# str: \n",
        "# non-empty str is True\n",
        "# empty str is False"
      ],
      "metadata": {
        "id": "VbhSCFzoWvuz"
      },
      "execution_count": null,
      "outputs": []
    },
    {
      "cell_type": "code",
      "source": [
        "# ✌ bool\n",
        "# None: False"
      ],
      "metadata": {
        "id": "55adz_-GXtdb"
      },
      "execution_count": null,
      "outputs": []
    },
    {
      "cell_type": "code",
      "source": [
        "print(bool(\"Ronaldo\"))"
      ],
      "metadata": {
        "colab": {
          "base_uri": "https://localhost:8080/"
        },
        "id": "xzGSo2FWWfaI",
        "outputId": "8de974a4-ba3f-4075-8c52-c28f791995d7"
      },
      "execution_count": 48,
      "outputs": [
        {
          "output_type": "stream",
          "name": "stdout",
          "text": [
            "True\n"
          ]
        }
      ]
    },
    {
      "cell_type": "code",
      "source": [
        "print(bool(\"0\"))"
      ],
      "metadata": {
        "colab": {
          "base_uri": "https://localhost:8080/"
        },
        "id": "G7GEwzkwWj6T",
        "outputId": "22a8d1f7-5495-44a5-8183-cef88ae6f719"
      },
      "execution_count": 49,
      "outputs": [
        {
          "output_type": "stream",
          "name": "stdout",
          "text": [
            "True\n"
          ]
        }
      ]
    },
    {
      "cell_type": "code",
      "source": [
        "print(bool(\" \"))"
      ],
      "metadata": {
        "colab": {
          "base_uri": "https://localhost:8080/"
        },
        "id": "thIsPMlHWojy",
        "outputId": "89977e21-a888-4464-902a-88264640759a"
      },
      "execution_count": 50,
      "outputs": [
        {
          "output_type": "stream",
          "name": "stdout",
          "text": [
            "True\n"
          ]
        }
      ]
    },
    {
      "cell_type": "code",
      "source": [
        "print(bool(\"\"))"
      ],
      "metadata": {
        "colab": {
          "base_uri": "https://localhost:8080/"
        },
        "id": "6YFVydoXWr3r",
        "outputId": "4763255a-8fb7-403e-c371-21bf621fbd8b"
      },
      "execution_count": 51,
      "outputs": [
        {
          "output_type": "stream",
          "name": "stdout",
          "text": [
            "False\n"
          ]
        }
      ]
    },
    {
      "cell_type": "code",
      "source": [
        "print(bool(None))"
      ],
      "metadata": {
        "colab": {
          "base_uri": "https://localhost:8080/"
        },
        "id": "O1sA9-ONXo2G",
        "outputId": "6ef2d6a4-f327-412e-c84c-de99561c69cd"
      },
      "execution_count": 52,
      "outputs": [
        {
          "output_type": "stream",
          "name": "stdout",
          "text": [
            "False\n"
          ]
        }
      ]
    },
    {
      "cell_type": "code",
      "source": [
        "age = 26\n",
        "print(age>18)"
      ],
      "metadata": {
        "colab": {
          "base_uri": "https://localhost:8080/"
        },
        "id": "sinUeXKGXp_1",
        "outputId": "7220e1ab-3f1e-4de5-9c98-2ad930025193"
      },
      "execution_count": 53,
      "outputs": [
        {
          "output_type": "stream",
          "name": "stdout",
          "text": [
            "True\n"
          ]
        }
      ]
    },
    {
      "cell_type": "code",
      "source": [
        "top_marks = 88\n",
        "marks = int(input(\"What is your marks: \"))\n",
        "print(marks==top_marks)"
      ],
      "metadata": {
        "colab": {
          "base_uri": "https://localhost:8080/"
        },
        "id": "XR1Ey3RIYI6L",
        "outputId": "e5517302-bba6-4e8f-bf2c-84f4095707a1"
      },
      "execution_count": 55,
      "outputs": [
        {
          "output_type": "stream",
          "name": "stdout",
          "text": [
            "What is your marks: 88\n",
            "True\n"
          ]
        }
      ]
    },
    {
      "cell_type": "code",
      "source": [
        "# 👉 = 👉 assignment\n",
        "# 👉 == 👉 comparison"
      ],
      "metadata": {
        "id": "Dj_POJw2YpxE"
      },
      "execution_count": null,
      "outputs": []
    },
    {
      "cell_type": "code",
      "source": [
        "print(2>5)"
      ],
      "metadata": {
        "colab": {
          "base_uri": "https://localhost:8080/"
        },
        "id": "YTCI6hSLZERq",
        "outputId": "10a4941d-77a0-4b9a-acfb-32a955e33c3b"
      },
      "execution_count": 56,
      "outputs": [
        {
          "output_type": "stream",
          "name": "stdout",
          "text": [
            "False\n"
          ]
        }
      ]
    },
    {
      "cell_type": "code",
      "source": [
        "print(2<5)"
      ],
      "metadata": {
        "colab": {
          "base_uri": "https://localhost:8080/"
        },
        "id": "iwCfqjj2ZLkE",
        "outputId": "64992b38-8ac4-41ef-a121-d07f19f9ef14"
      },
      "execution_count": 57,
      "outputs": [
        {
          "output_type": "stream",
          "name": "stdout",
          "text": [
            "True\n"
          ]
        }
      ]
    },
    {
      "cell_type": "code",
      "source": [
        "print(2>=5)"
      ],
      "metadata": {
        "colab": {
          "base_uri": "https://localhost:8080/"
        },
        "id": "bAj_WCAbZOMs",
        "outputId": "2cd11ca7-4a92-4a85-a4dd-65fbb7f40253"
      },
      "execution_count": 58,
      "outputs": [
        {
          "output_type": "stream",
          "name": "stdout",
          "text": [
            "False\n"
          ]
        }
      ]
    },
    {
      "cell_type": "code",
      "source": [
        "print(2<=5)"
      ],
      "metadata": {
        "colab": {
          "base_uri": "https://localhost:8080/"
        },
        "id": "2SEBffoLZQUb",
        "outputId": "4a919f85-a639-4a5e-e604-10403788598c"
      },
      "execution_count": 59,
      "outputs": [
        {
          "output_type": "stream",
          "name": "stdout",
          "text": [
            "True\n"
          ]
        }
      ]
    },
    {
      "cell_type": "code",
      "source": [
        "print(5<=5)"
      ],
      "metadata": {
        "colab": {
          "base_uri": "https://localhost:8080/"
        },
        "id": "hPmhzTFCZShG",
        "outputId": "096e9f8c-c953-41bc-c7e9-9c95fddbe7eb"
      },
      "execution_count": 60,
      "outputs": [
        {
          "output_type": "stream",
          "name": "stdout",
          "text": [
            "True\n"
          ]
        }
      ]
    },
    {
      "cell_type": "code",
      "source": [
        "print(5==5)"
      ],
      "metadata": {
        "colab": {
          "base_uri": "https://localhost:8080/"
        },
        "id": "KRqz8qtCZUtd",
        "outputId": "dcff121f-47a3-4d0c-9047-f6a301b5a319"
      },
      "execution_count": 61,
      "outputs": [
        {
          "output_type": "stream",
          "name": "stdout",
          "text": [
            "True\n"
          ]
        }
      ]
    },
    {
      "cell_type": "code",
      "source": [
        "print(5!=5)"
      ],
      "metadata": {
        "colab": {
          "base_uri": "https://localhost:8080/"
        },
        "id": "rcenXaOLaCJS",
        "outputId": "f0dd42ea-2e78-41d6-dfc0-ca4355eca261"
      },
      "execution_count": 64,
      "outputs": [
        {
          "output_type": "stream",
          "name": "stdout",
          "text": [
            "False\n"
          ]
        }
      ]
    },
    {
      "cell_type": "code",
      "source": [
        "# ==  👉 values are equal\n",
        "# <= 👉eg x <= y 👉x is less than or equal to y\n",
        "# >= 👉eg x >= y 👉x is greater than or equal to y\n",
        "# > 👉eg x > y 👉x is greater than y\n",
        "# < 👉eg x < y 👉x is less than y\n",
        "# != 👉eg x != y 👉x is not equal y"
      ],
      "metadata": {
        "id": "Pc3fL1oJZXEr"
      },
      "execution_count": null,
      "outputs": []
    },
    {
      "cell_type": "code",
      "source": [
        "age = 18\n",
        "print(age>=18)"
      ],
      "metadata": {
        "colab": {
          "base_uri": "https://localhost:8080/"
        },
        "id": "uZLBdkl4ZysO",
        "outputId": "1b7e0385-b7a2-4e40-93f4-3d333e7668f0"
      },
      "execution_count": 63,
      "outputs": [
        {
          "output_type": "stream",
          "name": "stdout",
          "text": [
            "True\n"
          ]
        }
      ]
    },
    {
      "cell_type": "code",
      "source": [
        "# comparision for str\n",
        "print(\"Ronaldo\" == \"Messi\")"
      ],
      "metadata": {
        "colab": {
          "base_uri": "https://localhost:8080/"
        },
        "id": "4lSfM4VRclvy",
        "outputId": "1327cb5b-3908-42e0-bb5b-7cfd7d69eb80"
      },
      "execution_count": 65,
      "outputs": [
        {
          "output_type": "stream",
          "name": "stdout",
          "text": [
            "False\n"
          ]
        }
      ]
    },
    {
      "cell_type": "code",
      "source": [
        "print(\"goa\">\"delhi\") # lexical comparision"
      ],
      "metadata": {
        "colab": {
          "base_uri": "https://localhost:8080/"
        },
        "id": "GBkJMngScmw6",
        "outputId": "ff0a27ec-8ab8-4827-c72b-26da32ce7f9a"
      },
      "execution_count": 66,
      "outputs": [
        {
          "output_type": "stream",
          "name": "stdout",
          "text": [
            "True\n"
          ]
        }
      ]
    },
    {
      "cell_type": "code",
      "source": [
        "# 2 comes before 10 in a dict\n",
        "# 2 is smaller than 10 \n",
        "# delhi comes before goa in a dict\n",
        "# delhi is smaller than goa "
      ],
      "metadata": {
        "id": "mf8f1f1Wcmuy"
      },
      "execution_count": null,
      "outputs": []
    },
    {
      "cell_type": "code",
      "source": [
        "print(\"goa\">\"delhi\", \"goa\"<\"delhi\") "
      ],
      "metadata": {
        "colab": {
          "base_uri": "https://localhost:8080/"
        },
        "id": "MUfdwU2ScmsC",
        "outputId": "f8abb2f4-47d4-485b-9930-0278f4674a85"
      },
      "execution_count": 67,
      "outputs": [
        {
          "output_type": "stream",
          "name": "stdout",
          "text": [
            "True False\n"
          ]
        }
      ]
    },
    {
      "cell_type": "code",
      "source": [
        "print(ord(\"d\"), ord(\"g\"))"
      ],
      "metadata": {
        "colab": {
          "base_uri": "https://localhost:8080/"
        },
        "id": "RgU8vB0JcmpL",
        "outputId": "ddbd8b89-f8f4-4dda-d234-2ebe475a6801"
      },
      "execution_count": 69,
      "outputs": [
        {
          "output_type": "stream",
          "name": "stdout",
          "text": [
            "100 103\n"
          ]
        }
      ]
    },
    {
      "cell_type": "code",
      "source": [
        "print(\"10\" > \"2\")\n",
        "print(ord(\"1\"), ord(\"2\"))"
      ],
      "metadata": {
        "colab": {
          "base_uri": "https://localhost:8080/"
        },
        "id": "KBSWkvmQd_QI",
        "outputId": "d7858063-b01e-4122-e048-371e10969425"
      },
      "execution_count": 70,
      "outputs": [
        {
          "output_type": "stream",
          "name": "stdout",
          "text": [
            "False\n",
            "49 50\n"
          ]
        }
      ]
    },
    {
      "cell_type": "code",
      "source": [
        "ord(\"%\")"
      ],
      "metadata": {
        "colab": {
          "base_uri": "https://localhost:8080/"
        },
        "id": "3T2M2atyfMEK",
        "outputId": "95c45732-0022-45cc-88a3-f839dd339698"
      },
      "execution_count": 71,
      "outputs": [
        {
          "output_type": "execute_result",
          "data": {
            "text/plain": [
              "37"
            ]
          },
          "metadata": {},
          "execution_count": 71
        }
      ]
    },
    {
      "cell_type": "code",
      "source": [
        "print(\"bat\">\"ball\")"
      ],
      "metadata": {
        "colab": {
          "base_uri": "https://localhost:8080/"
        },
        "id": "I-1_4blQfcEd",
        "outputId": "52fac67c-2675-43b5-8eb2-3a671bb94733"
      },
      "execution_count": 72,
      "outputs": [
        {
          "output_type": "stream",
          "name": "stdout",
          "text": [
            "True\n"
          ]
        }
      ]
    },
    {
      "cell_type": "code",
      "source": [
        "print(\"123\">\"125\")"
      ],
      "metadata": {
        "colab": {
          "base_uri": "https://localhost:8080/"
        },
        "id": "O2bV1WeifYOx",
        "outputId": "986dc934-800b-475e-9fdf-3008e9463a1c"
      },
      "execution_count": 73,
      "outputs": [
        {
          "output_type": "stream",
          "name": "stdout",
          "text": [
            "False\n"
          ]
        }
      ]
    },
    {
      "cell_type": "code",
      "source": [
        "# assignment operators (till now we only used = eg a = 5+2)"
      ],
      "metadata": {
        "id": "RRFvbBbAcmmn"
      },
      "execution_count": null,
      "outputs": []
    },
    {
      "cell_type": "code",
      "source": [
        "marks = 50\n",
        "print(marks)\n",
        "marks = marks +5\n",
        "print(marks)"
      ],
      "metadata": {
        "colab": {
          "base_uri": "https://localhost:8080/"
        },
        "id": "u_XzBfn5cmkB",
        "outputId": "4b830aa7-6f1b-42bb-b384-ae3b73739718"
      },
      "execution_count": 76,
      "outputs": [
        {
          "output_type": "stream",
          "name": "stdout",
          "text": [
            "50\n",
            "55\n"
          ]
        }
      ]
    },
    {
      "cell_type": "code",
      "source": [
        "marks = 50\n",
        "print(marks)\n",
        "marks += 5   # marks = marks +5\n",
        "print(marks)"
      ],
      "metadata": {
        "colab": {
          "base_uri": "https://localhost:8080/"
        },
        "id": "AoC4LAkQcmhX",
        "outputId": "6054b366-6201-404e-bd41-11512124eb04"
      },
      "execution_count": 77,
      "outputs": [
        {
          "output_type": "stream",
          "name": "stdout",
          "text": [
            "50\n",
            "55\n"
          ]
        }
      ]
    },
    {
      "cell_type": "code",
      "source": [
        "marks = 50\n",
        "print(marks)\n",
        "marks += (5-7)\n",
        "print(marks)"
      ],
      "metadata": {
        "colab": {
          "base_uri": "https://localhost:8080/"
        },
        "id": "ewG33cPecmet",
        "outputId": "4796d539-5376-498e-b2f3-a183696e4f3a"
      },
      "execution_count": 79,
      "outputs": [
        {
          "output_type": "stream",
          "name": "stdout",
          "text": [
            "50\n",
            "48\n"
          ]
        }
      ]
    },
    {
      "cell_type": "code",
      "source": [
        "# assignment operators (till now we only used = eg a = 5+2)"
      ],
      "metadata": {
        "id": "S6WChbI2aqws"
      },
      "execution_count": null,
      "outputs": []
    },
    {
      "cell_type": "code",
      "source": [
        "marks = 50\n",
        "print(marks)\n",
        "marks += 5   # marks = marks +5\n",
        "print(marks) # 55\n",
        "marks *= 2 # marks = marks *2\n",
        "print(marks) # 55*2=110"
      ],
      "metadata": {
        "colab": {
          "base_uri": "https://localhost:8080/"
        },
        "id": "28IPHoamhR8A",
        "outputId": "2129c8c1-a368-4449-ee97-2edabb9cad67"
      },
      "execution_count": 83,
      "outputs": [
        {
          "output_type": "stream",
          "name": "stdout",
          "text": [
            "50\n",
            "55\n",
            "110\n"
          ]
        }
      ]
    },
    {
      "cell_type": "code",
      "source": [
        "marks = 50\n",
        "print(marks) #50\n",
        "marks -= 5   # marks = marks -5\n",
        "print(marks) # 50-5 = 45\n",
        "marks /= 2 # marks = marks /2\n",
        "print(marks) # 45/2=22.5"
      ],
      "metadata": {
        "colab": {
          "base_uri": "https://localhost:8080/"
        },
        "id": "OO2W-uaKhkya",
        "outputId": "99d9352d-45bd-47d0-d0b5-9c2ccac1eee7"
      },
      "execution_count": 84,
      "outputs": [
        {
          "output_type": "stream",
          "name": "stdout",
          "text": [
            "50\n",
            "45\n",
            "22.5\n"
          ]
        }
      ]
    },
    {
      "cell_type": "code",
      "source": [
        "marks = 5\n",
        "print(marks) #5\n",
        "marks **= 3   # marks = marks **3\n",
        "print(marks) # 5**3 = 125"
      ],
      "metadata": {
        "colab": {
          "base_uri": "https://localhost:8080/"
        },
        "id": "zXwO-MHNhxgo",
        "outputId": "67838248-0599-415b-f515-92f217c46753"
      },
      "execution_count": 85,
      "outputs": [
        {
          "output_type": "stream",
          "name": "stdout",
          "text": [
            "5\n",
            "125\n"
          ]
        }
      ]
    },
    {
      "cell_type": "code",
      "source": [
        "marks = 50\n",
        "print(marks) #50\n",
        "marks //= 3   # marks = marks //3\n",
        "print(marks) # 50//3 = 16"
      ],
      "metadata": {
        "colab": {
          "base_uri": "https://localhost:8080/"
        },
        "id": "bL5SdB4piCMQ",
        "outputId": "6f44776c-6907-4497-87d4-6220e94bbcfd"
      },
      "execution_count": 86,
      "outputs": [
        {
          "output_type": "stream",
          "name": "stdout",
          "text": [
            "50\n",
            "16\n"
          ]
        }
      ]
    },
    {
      "cell_type": "code",
      "source": [
        "marks = 50\n",
        "print(marks) #50\n",
        "marks %= 3   # marks = marks %3\n",
        "print(marks) # 50%3 = 2"
      ],
      "metadata": {
        "colab": {
          "base_uri": "https://localhost:8080/"
        },
        "id": "yPbEMZ1MiMX3",
        "outputId": "2f6d09e6-7844-4d9c-d3a7-ca887013678a"
      },
      "execution_count": 91,
      "outputs": [
        {
          "output_type": "stream",
          "name": "stdout",
          "text": [
            "50\n",
            "2\n"
          ]
        }
      ]
    },
    {
      "cell_type": "code",
      "source": [
        "# logical operators"
      ],
      "metadata": {
        "id": "CQ4A56afikTo"
      },
      "execution_count": 92,
      "outputs": []
    },
    {
      "cell_type": "code",
      "source": [
        "jee_mains = 219\n",
        "jee_adv = 110\n",
        "board_score_12th = 89\n",
        "\n",
        "# who will get a good college in IIT\n",
        "# who has jee mains score >200 and jee_adv>100  and board_score_12th>85\n",
        "print(jee_mains>200 and jee_adv>100 and board_score_12th>85)\n",
        "print(jee_mains>200 and jee_adv>120 and board_score_12th>85)"
      ],
      "metadata": {
        "colab": {
          "base_uri": "https://localhost:8080/"
        },
        "id": "tGs9N6sqjH9I",
        "outputId": "7770b1dc-faca-444f-f886-ee4ceb3a8993"
      },
      "execution_count": 94,
      "outputs": [
        {
          "output_type": "stream",
          "name": "stdout",
          "text": [
            "False\n"
          ]
        }
      ]
    },
    {
      "cell_type": "code",
      "source": [
        "jee_mains = 219\n",
        "jee_adv = 110\n",
        "board_score_12th = 89\n",
        "print(jee_mains>200 or jee_adv>120 )"
      ],
      "metadata": {
        "colab": {
          "base_uri": "https://localhost:8080/"
        },
        "id": "q7GcLaWpj4Dp",
        "outputId": "5b3bbda7-72e8-4394-e922-697954782e7f"
      },
      "execution_count": 95,
      "outputs": [
        {
          "output_type": "stream",
          "name": "stdout",
          "text": [
            "True\n"
          ]
        }
      ]
    },
    {
      "cell_type": "code",
      "source": [
        "# x OR y\n",
        "# T OR F = T\n",
        "# T OR T = T\n",
        "# F OR T = T\n",
        "# F OR F = F"
      ],
      "metadata": {
        "id": "hP3Xe1QWko42"
      },
      "execution_count": null,
      "outputs": []
    },
    {
      "cell_type": "code",
      "source": [
        "# x and y\n",
        "# T and F = F\n",
        "# F and F = F\n",
        "# F and T = F\n",
        "# T and T = T"
      ],
      "metadata": {
        "id": "Oqi9l8lHkaCc"
      },
      "execution_count": null,
      "outputs": []
    },
    {
      "cell_type": "code",
      "source": [
        "# not\n",
        "# not True = False\n",
        "# not False = True\n",
        "print(not True)\n",
        "print(not False)"
      ],
      "metadata": {
        "colab": {
          "base_uri": "https://localhost:8080/"
        },
        "id": "hy7tOOmkkzoZ",
        "outputId": "58cccbc0-0aee-4c04-cd1d-8f537e0f4da4"
      },
      "execution_count": 98,
      "outputs": [
        {
          "output_type": "stream",
          "name": "stdout",
          "text": [
            "False\n",
            "True\n"
          ]
        }
      ]
    },
    {
      "cell_type": "code",
      "source": [
        "print(5<3)\n",
        "print(not 5<3)"
      ],
      "metadata": {
        "colab": {
          "base_uri": "https://localhost:8080/"
        },
        "id": "h28RqxR2lAZF",
        "outputId": "f39e7d60-85ca-490f-fc25-a7b443fa283c"
      },
      "execution_count": 96,
      "outputs": [
        {
          "output_type": "stream",
          "name": "stdout",
          "text": [
            "False\n",
            "True\n"
          ]
        }
      ]
    },
    {
      "cell_type": "code",
      "source": [
        "print(5>3)\n",
        "print(not 5>3)"
      ],
      "metadata": {
        "colab": {
          "base_uri": "https://localhost:8080/"
        },
        "id": "n46pEdFelF2a",
        "outputId": "9ce61da6-3061-4f38-dd58-67a0ccd150ec"
      },
      "execution_count": 97,
      "outputs": [
        {
          "output_type": "stream",
          "name": "stdout",
          "text": [
            "True\n",
            "False\n"
          ]
        }
      ]
    },
    {
      "cell_type": "code",
      "source": [],
      "metadata": {
        "id": "EmdI38NrlKIB"
      },
      "execution_count": null,
      "outputs": []
    }
  ]
}